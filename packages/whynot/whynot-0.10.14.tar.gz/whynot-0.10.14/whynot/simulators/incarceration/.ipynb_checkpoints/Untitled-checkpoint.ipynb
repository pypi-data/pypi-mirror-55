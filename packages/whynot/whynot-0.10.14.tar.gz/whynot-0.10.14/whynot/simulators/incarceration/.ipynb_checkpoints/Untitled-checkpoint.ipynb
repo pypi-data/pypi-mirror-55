{
 "cells": [
  {
   "cell_type": "code",
   "execution_count": null,
   "metadata": {},
   "outputs": [],
   "source": [
    "import numpy as np\n",
    "import whynot as wn\n",
    "\n",
    "def nonzero(a):\n",
    "    return np.sum([bool(x) for x in a])\n",
    "\n",
    "for i in range(10):\n",
    "    (c, t, o), (h, l) = wn.simulators.incarceration.run_sentence_length_trial(0, i)\n",
    "    print(np.sum(o), np.sum(h), np.sum(l), '-', nonzero(o), nonzero(h), nonzero(l))"
   ]
  },
  {
   "cell_type": "code",
   "execution_count": null,
   "metadata": {},
   "outputs": [],
   "source": []
  }
 ],
 "metadata": {
  "kernelspec": {
   "display_name": "Python 3",
   "language": "python",
   "name": "python3"
  },
  "language_info": {
   "codemirror_mode": {
    "name": "ipython",
    "version": 3
   },
   "file_extension": ".py",
   "mimetype": "text/x-python",
   "name": "python",
   "nbconvert_exporter": "python",
   "pygments_lexer": "ipython3",
   "version": "3.6.9"
  }
 },
 "nbformat": 4,
 "nbformat_minor": 2
}
