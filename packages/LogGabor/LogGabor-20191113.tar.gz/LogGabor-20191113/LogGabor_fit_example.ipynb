{
 "cells": [
  {
   "cell_type": "markdown",
   "metadata": {},
   "source": [
    "# LogGabor user guide\n",
    "\n",
    "\n",
    "Table of content\n",
    "----------------\n",
    "\n",
    "* [What is the LogGabor package?](LogGabor.ipynb#What-is-the-LogGabor-package?) \n",
    "\n",
    "* [Installing](LogGabor.ipynb#Install) \n",
    "\n",
    "* [Importing the library](LogGabor.ipynb#Importing-the-library)\n",
    "\n",
    "* [Properties of log-Gabor filters](LogGabor.ipynb#Properties-of-log-Gabor-filters)\n",
    "\n",
    "* [Testing filter generation](LogGabor_testing-filter-generation.ipynb) \n",
    "\n",
    "* [Testing on a sample image](LogGabor.ipynb#Testing-on-a-sample-image) \n",
    "\n",
    "* [Building a pyramid](LogGabor_making-a-pyramid.ipynb) \n",
    "\n",
    "* [An example of fitting images with log-Gabor filters](LogGabor_fit-example.ipynb) "
   ]
  },
  {
   "cell_type": "markdown",
   "metadata": {},
   "source": [
    "## Importing the library"
   ]
  },
  {
   "cell_type": "code",
   "execution_count": 1,
   "metadata": {
    "ExecuteTime": {
     "end_time": "2018-06-20T15:16:43.796812Z",
     "start_time": "2018-06-20T15:16:42.763544Z"
    }
   },
   "outputs": [],
   "source": [
    "%load_ext autoreload\n",
    "%autoreload 2\n",
    "from LogGabor import LogGabor\n",
    "parameterfile = 'https://raw.githubusercontent.com/bicv/LogGabor/master/default_param.py'\n",
    "lg = LogGabor(parameterfile)\n",
    "lg.set_size((32, 32))"
   ]
  },
  {
   "cell_type": "markdown",
   "metadata": {},
   "source": [
    "To install the dependencies related to running this notebook, see [Installing notebook dependencies](#Installing-notebook-dependencies)."
   ]
  },
  {
   "cell_type": "markdown",
   "metadata": {},
   "source": [
    "[Back to top](#LogGabor-user-guide)"
   ]
  },
  {
   "cell_type": "code",
   "execution_count": 2,
   "metadata": {
    "ExecuteTime": {
     "end_time": "2018-06-20T15:16:43.819100Z",
     "start_time": "2018-06-20T15:16:43.798623Z"
    }
   },
   "outputs": [],
   "source": [
    "import os\n",
    "import numpy as np\n",
    "np.set_printoptions(formatter={'float': '{: 0.3f}'.format})\n",
    "%matplotlib inline\n",
    "import matplotlib.pyplot as plt\n",
    "fig_width = 12\n",
    "figsize=(fig_width, .618*fig_width)"
   ]
  },
  {
   "cell_type": "markdown",
   "metadata": {},
   "source": [
    "### Perspectives: Better fits of the filters\n",
    "\n",
    "Basically, it is possible to infer the best possible log-Gabor function, even if it's parameters do not fall on the grid\n"
   ]
  },
  {
   "cell_type": "markdown",
   "metadata": {},
   "source": [
    "Defining a reference log-gabor  (look in the corners!)"
   ]
  },
  {
   "cell_type": "code",
   "execution_count": 3,
   "metadata": {
    "ExecuteTime": {
     "end_time": "2018-06-20T15:16:44.504699Z",
     "start_time": "2018-06-20T15:16:43.821115Z"
    }
   },
   "outputs": [
    {
     "name": "stdout",
     "output_type": "stream",
     "text": [
      "initial_guess : [15, 8, 0.26179938779914935, 0.12435117250106024] , idx : (15, 8, 13, 3)\n",
      "popt : [ 14.602  8.558  0.210  0.101] , true :  14.6 8.5 0.20943951023931953 0.1\n"
     ]
    },
    {
     "data": {
      "image/png": "[encoded data removed]",
      "text/plain": [
       "<Figure size 1080x360 with 3 Axes>"
      ]
     },
     "metadata": {},
     "output_type": "display_data"
    }
   ],
   "source": [
    "def twoD_Gaussian(xy, x_pos, y_pos, theta, sf_0):\n",
    "    FT_lg = lg.loggabor(x_pos, y_pos, sf_0=np.absolute(sf_0), B_sf=lg.pe.B_sf, theta=theta, B_theta=lg.pe.B_theta)\n",
    "    return lg.invert(FT_lg).ravel()\n",
    "\n",
    "# Create x and y indices\n",
    "x = np.arange(lg.pe.N_X)\n",
    "y = np.arange(lg.pe.N_Y)\n",
    "x, y = xy =  np.meshgrid(x, y)\n",
    "\n",
    "#create data\n",
    "x_pos, y_pos, theta, sf_0  = 14.6, 8.5, 12 * np.pi / 180., .1\n",
    "data = twoD_Gaussian(xy, x_pos, y_pos, theta=theta, sf_0=sf_0)\n",
    "\n",
    "\n",
    "# plot twoD_Gaussian data generated above\n",
    "#plt.figure()\n",
    "#plt.imshow(data.reshape(lg.pe.N_X, lg.pe.N_Y))\n",
    "#plt.colorbar()\n",
    "\n",
    "# add some noise to the data and try to fit the data generated beforehand\n",
    "data /= np.abs(data).max()\n",
    "data_noisy = data + .25*np.random.normal(size=data.shape)\n",
    "# getting best match\n",
    "C = lg.linear_pyramid(data_noisy.reshape(lg.pe.N_X, lg.pe.N_Y))\n",
    "idx = lg.argmax(C)\n",
    "initial_guess = [idx[0], idx[1], lg.theta[idx[2]], lg.sf_0[idx[3]]]\n",
    "print ('initial_guess :', initial_guess, ', idx :', idx)\n",
    "\n",
    "import scipy.optimize as opt\n",
    "\n",
    "popt, pcov = opt.curve_fit(twoD_Gaussian, xy, data_noisy, p0=initial_guess)\n",
    "\n",
    "data_fitted = twoD_Gaussian(xy, *popt)\n",
    "\n",
    "extent = (0, lg.pe.N_X, 0, lg.pe.N_Y)\n",
    "print ('popt :', popt, ', true : ', x_pos, y_pos, theta, sf_0)\n",
    "fig, axs = plt.subplots(1, 3, figsize=(15, 5))\n",
    "_ = axs[0].contourf(data.reshape(lg.pe.N_X, lg.pe.N_Y), 8, extent=extent, cmap=plt.cm.viridis, origin='upper')\n",
    "_ = axs[1].imshow(data_noisy.reshape(lg.pe.N_X, lg.pe.N_Y), cmap=plt.cm.viridis, extent=extent)\n",
    "_ = axs[2].contourf(data_fitted.reshape(lg.pe.N_X, lg.pe.N_Y), 8, extent=extent, cmap=plt.cm.viridis, origin='upper')\n",
    "for ax in axs: ax.axis('equal')"
   ]
  },
  {
   "cell_type": "markdown",
   "metadata": {},
   "source": [
    "[Back to top](#LogGabor-user-guide)"
   ]
  },
  {
   "cell_type": "markdown",
   "metadata": {},
   "source": [
    "## performing a fit"
   ]
  },
  {
   "cell_type": "code",
   "execution_count": 4,
   "metadata": {
    "ExecuteTime": {
     "end_time": "2018-06-20T15:16:45.394690Z",
     "start_time": "2018-06-20T15:16:44.506687Z"
    },
    "scrolled": true
   },
   "outputs": [],
   "source": [
    "from LogGabor import LogGaborFit\n",
    "lg = LogGaborFit(parameterfile)\n",
    "lg.set_size((32, 32))\n",
    "\n",
    "x_pos, y_pos, theta, sf_0  = 14.6, 8.5, 12 * np.pi / 180., .1\n",
    "data = lg.invert(lg.loggabor(x_pos, y_pos, sf_0=np.absolute(sf_0), B_sf=lg.pe.B_sf, theta=theta, B_theta=lg.pe.B_theta))\n",
    "data /= np.abs(data).max()\n",
    "data_noisy = data + .25*np.random.normal(size=data.shape)\n",
    "\n",
    "\n",
    "data_fitted, params = lg.LogGaborFit(data_noisy.reshape(lg.pe.N_X, lg.pe.N_Y))"
   ]
  },
  {
   "cell_type": "code",
   "execution_count": 5,
   "metadata": {
    "ExecuteTime": {
     "end_time": "2018-06-20T15:16:45.418079Z",
     "start_time": "2018-06-20T15:16:45.396784Z"
    }
   },
   "outputs": [
    {
     "data": {
      "text/plain": [
       "(32, 32)"
      ]
     },
     "execution_count": 5,
     "metadata": {},
     "output_type": "execute_result"
    }
   ],
   "source": [
    "data_fitted.shape\n"
   ]
  },
  {
   "cell_type": "code",
   "execution_count": 6,
   "metadata": {
    "ExecuteTime": {
     "end_time": "2018-06-20T15:16:45.442571Z",
     "start_time": "2018-06-20T15:16:45.421098Z"
    }
   },
   "outputs": [
    {
     "name": "stdout",
     "output_type": "stream",
     "text": [
      "Name        Value      Min      Max   Stderr     Vary     Expr Brute_Step\n",
      "B_sf       0.4322    0.001      inf     None     True     None     None\n",
      "B_theta     0.176    0.001      inf     None     True     None     None\n",
      "phase      0.3264     -inf      inf     None     True     None     None\n",
      "sf_0       0.1001    0.001      inf     None     True     None     None\n",
      "theta      0.2107   -1.571    1.571     None     True     None     None\n",
      "x_pos        14.9        0       32     None     True     None     None\n",
      "y_pos        9.62        0       32     None     True     None     None\n"
     ]
    }
   ],
   "source": [
    "params.pretty_print()"
   ]
  },
  {
   "cell_type": "code",
   "execution_count": 7,
   "metadata": {
    "ExecuteTime": {
     "end_time": "2018-06-20T15:16:45.865095Z",
     "start_time": "2018-06-20T15:16:45.445028Z"
    },
    "scrolled": true
   },
   "outputs": [
    {
     "name": "stdout",
     "output_type": "stream",
     "text": [
      "params : Parameters([('x_pos', <Parameter 'x_pos', 14.899720962382055, bounds=[0:32]>), ('y_pos', <Parameter 'y_pos', 9.620016306177625, bounds=[0:32]>), ('theta', <Parameter 'theta', 0.21065615830673345, bounds=[-1.5707963267948966:1.5707963267948966]>), ('sf_0', <Parameter 'sf_0', 0.10008219472404811, bounds=[0.001:inf]>), ('B_sf', <Parameter 'B_sf', 0.4322000207444586, bounds=[0.001:inf]>), ('B_theta', <Parameter 'B_theta', 0.17597503909767964, bounds=[0.001:inf]>), ('phase', <Parameter 'phase', 0.32635896188537317, bounds=[-inf:inf]>)]) , true :  14.6 8.5 0.20943951023931953 0.1\n"
     ]
    },
    {
     "data": {
      "image/png": "[encoded data removed]",
      "text/plain": [
       "<Figure size 1080x360 with 3 Axes>"
      ]
     },
     "metadata": {},
     "output_type": "display_data"
    }
   ],
   "source": [
    "extent = (0, lg.pe.N_X, 0, lg.pe.N_Y)\n",
    "print ('params :', params, ', true : ', x_pos, y_pos, theta, sf_0)\n",
    "fig, axs = plt.subplots(1, 3, figsize=(15, 5))\n",
    "_ = axs[0].contourf(data.reshape(lg.pe.N_X, lg.pe.N_Y), 8, extent=extent, cmap=plt.cm.viridis, origin='upper')\n",
    "_ = axs[1].imshow(data_noisy.reshape(lg.pe.N_X, lg.pe.N_Y), cmap=plt.cm.viridis, extent=extent)\n",
    "_ = axs[2].contourf(data_fitted.reshape(lg.pe.N_X, lg.pe.N_Y), 8, extent=extent, cmap=plt.cm.viridis, origin='upper')\n",
    "for ax in axs: ax.axis('equal')"
   ]
  },
  {
   "cell_type": "markdown",
   "metadata": {},
   "source": [
    "With periodic boundaries, check that the filter \"re-enters\" the image from  the other border:"
   ]
  },
  {
   "cell_type": "code",
   "execution_count": 8,
   "metadata": {
    "ExecuteTime": {
     "end_time": "2018-06-20T15:16:46.560491Z",
     "start_time": "2018-06-20T15:16:45.867344Z"
    }
   },
   "outputs": [
    {
     "name": "stdout",
     "output_type": "stream",
     "text": [
      "params : Parameters([('x_pos', <Parameter 'x_pos', 14.899721016254318, bounds=[0:32]>), ('y_pos', <Parameter 'y_pos', 9.620016286475257, bounds=[0:32]>), ('theta', <Parameter 'theta', 0.2106561572137966, bounds=[-1.5707963267948966:1.5707963267948966]>), ('sf_0', <Parameter 'sf_0', 0.10008219474342883, bounds=[0.001:inf]>), ('B_sf', <Parameter 'B_sf', 0.4322000207444586, bounds=[0.001:inf]>), ('B_theta', <Parameter 'B_theta', 0.17597503909767964, bounds=[0.001:inf]>), ('phase', <Parameter 'phase', 0.3263589931256201, bounds=[-inf:inf]>)]) , true :  14.6 8.5 0.20943951023931953 0.1\n"
     ]
    },
    {
     "data": {
      "image/png": "[encoded data removed]",
      "text/plain": [
       "<Figure size 1080x360 with 3 Axes>"
      ]
     },
     "metadata": {},
     "output_type": "display_data"
    }
   ],
   "source": [
    "data_fitted, params = lg.LogGaborFit(data_noisy.reshape(lg.pe.N_X, lg.pe.N_Y), do_border=False)\n",
    "extent = (0, lg.pe.N_X, 0, lg.pe.N_Y)\n",
    "print ('params :', params, ', true : ', x_pos, y_pos, theta, sf_0)\n",
    "fig, axs = plt.subplots(1, 3, figsize=(15, 5))\n",
    "_ = axs[0].contourf(data.reshape(lg.pe.N_X, lg.pe.N_Y), 8, extent=extent, cmap=plt.cm.viridis, origin='upper')\n",
    "_ = axs[1].imshow(data_noisy.reshape(lg.pe.N_X, lg.pe.N_Y), cmap=plt.cm.viridis, extent=extent)\n",
    "_ = axs[2].contourf(data_fitted.reshape(lg.pe.N_X, lg.pe.N_Y), 8, extent=extent, cmap=plt.cm.viridis, origin='upper')\n",
    "for ax in axs: ax.axis('equal')"
   ]
  },
  {
   "cell_type": "markdown",
   "metadata": {},
   "source": [
    "[Back to top](#LogGabor-user-guide)"
   ]
  },
  {
   "cell_type": "markdown",
   "metadata": {},
   "source": [
    "## TODO: validation of fits"
   ]
  },
  {
   "cell_type": "markdown",
   "metadata": {},
   "source": [
    "[Back to top](#LogGabor-user-guide)"
   ]
  },
  {
   "cell_type": "markdown",
   "metadata": {},
   "source": [
    "## more book keeping"
   ]
  },
  {
   "cell_type": "code",
   "execution_count": 9,
   "metadata": {
    "ExecuteTime": {
     "end_time": "2018-06-20T15:16:46.610433Z",
     "start_time": "2018-06-20T15:16:46.562532Z"
    }
   },
   "outputs": [
    {
     "name": "stdout",
     "output_type": "stream",
     "text": [
      "2018-06-20T17:16:46+02:00\n",
      "\n",
      "CPython 3.6.5\n",
      "IPython 6.4.0\n",
      "\n",
      "compiler   : GCC 4.2.1 Compatible Apple LLVM 9.1.0 (clang-902.0.39.2)\n",
      "system     : Darwin\n",
      "release    : 17.6.0\n",
      "machine    : x86_64\n",
      "processor  : i386\n",
      "CPU cores  : 36\n",
      "interpreter: 64bit\n"
     ]
    }
   ],
   "source": [
    "%load_ext watermark\n",
    "%watermark"
   ]
  },
  {
   "cell_type": "code",
   "execution_count": 10,
   "metadata": {
    "ExecuteTime": {
     "end_time": "2018-06-20T15:16:46.706216Z",
     "start_time": "2018-06-20T15:16:46.612804Z"
    }
   },
   "outputs": [
    {
     "data": {
      "application/json": {
       "Software versions": [
        {
         "module": "Python",
         "version": "3.6.5 64bit [GCC 4.2.1 Compatible Apple LLVM 9.1.0 (clang-902.0.39.2)]"
        },
        {
         "module": "IPython",
         "version": "6.4.0"
        },
        {
         "module": "OS",
         "version": "Darwin 17.6.0 x86_64 i386 64bit"
        },
        {
         "module": "numpy",
         "version": "1.14.5"
        },
        {
         "module": "scipy",
         "version": "1.1.0"
        },
        {
         "module": "matplotlib",
         "version": "2.2.2"
        },
        {
         "module": "SLIP",
         "version": "20171205"
        },
        {
         "module": "LogGabor",
         "version": "2017-12-05.binder"
        }
       ]
      },
      "text/html": [
       "<table><tr><th>Software</th><th>Version</th></tr><tr><td>Python</td><td>3.6.5 64bit [GCC 4.2.1 Compatible Apple LLVM 9.1.0 (clang-902.0.39.2)]</td></tr><tr><td>IPython</td><td>6.4.0</td></tr><tr><td>OS</td><td>Darwin 17.6.0 x86_64 i386 64bit</td></tr><tr><td>numpy</td><td>1.14.5</td></tr><tr><td>scipy</td><td>1.1.0</td></tr><tr><td>matplotlib</td><td>2.2.2</td></tr><tr><td>SLIP</td><td>20171205</td></tr><tr><td>LogGabor</td><td>2017-12-05.binder</td></tr><tr><td colspan='2'>Wed Jun 20 17:16:46 2018 CEST</td></tr></table>"
      ],
      "text/latex": [
       "\\begin{tabular}{|l|l|}\\hline\n",
       "{\\bf Software} & {\\bf Version} \\\\ \\hline\\hline\n",
       "Python & 3.6.5 64bit [GCC 4.2.1 Compatible Apple LLVM 9.1.0 (clang-902.0.39.2)] \\\\ \\hline\n",
       "IPython & 6.4.0 \\\\ \\hline\n",
       "OS & Darwin 17.6.0 x86\\_64 i386 64bit \\\\ \\hline\n",
       "numpy & 1.14.5 \\\\ \\hline\n",
       "scipy & 1.1.0 \\\\ \\hline\n",
       "matplotlib & 2.2.2 \\\\ \\hline\n",
       "SLIP & 20171205 \\\\ \\hline\n",
       "LogGabor & 2017-12-05.binder \\\\ \\hline\n",
       "\\hline \\multicolumn{2}{|l|}{Wed Jun 20 17:16:46 2018 CEST} \\\\ \\hline\n",
       "\\end{tabular}\n"
      ],
      "text/plain": [
       "Software versions\n",
       "Python 3.6.5 64bit [GCC 4.2.1 Compatible Apple LLVM 9.1.0 (clang-902.0.39.2)]\n",
       "IPython 6.4.0\n",
       "OS Darwin 17.6.0 x86_64 i386 64bit\n",
       "numpy 1.14.5\n",
       "scipy 1.1.0\n",
       "matplotlib 2.2.2\n",
       "SLIP 20171205\n",
       "LogGabor 2017-12-05.binder\n",
       "Wed Jun 20 17:16:46 2018 CEST"
      ]
     },
     "execution_count": 10,
     "metadata": {},
     "output_type": "execute_result"
    }
   ],
   "source": [
    "%load_ext version_information\n",
    "%version_information numpy, scipy, matplotlib, SLIP, LogGabor"
   ]
  },
  {
   "cell_type": "markdown",
   "metadata": {},
   "source": [
    "[Back to top](#LogGabor-user-guide)\n",
    "[Back to the LogGabor user guide](LogGabor.ipynb#LogGabor-user-guide)"
   ]
  }
 ],
 "metadata": {
  "kernelspec": {
   "display_name": "Python 3",
   "language": "python",
   "name": "python3"
  },
  "language_info": {
   "codemirror_mode": {
    "name": "ipython",
    "version": 3
   },
   "file_extension": ".py",
   "mimetype": "text/x-python",
   "name": "python",
   "nbconvert_exporter": "python",
   "pygments_lexer": "ipython3",
   "version": "3.6.5"
  },
  "toc": {
   "base_numbering": 1,
   "nav_menu": {
    "height": "279px",
    "width": "252px"
   },
   "number_sections": true,
   "sideBar": true,
   "skip_h1_title": false,
   "title_cell": "Table of Contents",
   "title_sidebar": "Contents",
   "toc_cell": false,
   "toc_position": {},
   "toc_section_display": "block",
   "toc_window_display": false
  }
 },
 "nbformat": 4,
 "nbformat_minor": 1
}
