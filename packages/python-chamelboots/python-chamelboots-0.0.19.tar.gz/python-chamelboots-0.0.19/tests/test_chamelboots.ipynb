{
 "cells": [
  {
   "cell_type": "code",
   "execution_count": 1,
   "metadata": {},
   "outputs": [],
   "source": [
    "from chamelboots.cli import main\n",
    "\n",
    "\n",
    "def test_main():\n",
    "    assert main([]) == 0"
   ]
  },
  {
   "cell_type": "code",
   "execution_count": 3,
   "metadata": {},
   "outputs": [
    {
     "name": "stdout",
     "output_type": "stream",
     "text": [
      "========================================================= test session starts ==========================================================\n",
      "platform linux -- Python 3.8.0, pytest-5.2.2, py-1.8.0, pluggy-0.13.0\n",
      "rootdir: /home/dmmmd/projects/python_code/python38_projects/python-chamelboots, inifile: setup.cfg\n",
      "plugins: cov-2.8.1\n",
      "collected 1 item\n",
      "\n",
      "test_chamelboots.py []\n",
      ".\n",
      "\n",
      "========================================================== 1 passed in 0.04s ===========================================================\n"
     ]
    }
   ],
   "source": [
    "if __name__ == \"__main__\":\n",
    "    import pytest\n",
    "    import shlex\n",
    "    \n",
    "    pytest.main(shlex.split('-xs test_chamelboots.py'))"
   ]
  }
 ],
 "metadata": {
  "kernelspec": {
   "display_name": "Python 3",
   "language": "python",
   "name": "python3"
  },
  "language_info": {
   "codemirror_mode": {
    "name": "ipython",
    "version": 3
   },
   "file_extension": ".py",
   "mimetype": "text/x-python",
   "name": "python",
   "nbconvert_exporter": "python",
   "pygments_lexer": "ipython3",
   "version": "3.8.0"
  }
 },
 "nbformat": 4,
 "nbformat_minor": 2
}
