{
 "cells": [
  {
   "cell_type": "code",
   "execution_count": 1,
   "metadata": {},
   "outputs": [],
   "source": [
    "import lxml.etree"
   ]
  },
  {
   "cell_type": "code",
   "execution_count": 2,
   "metadata": {},
   "outputs": [],
   "source": [
    "from chamelboots.constants import FAKE\n",
    "from chamelboots.constants import HTML_PARSER"
   ]
  },
  {
   "cell_type": "code",
   "execution_count": 3,
   "metadata": {},
   "outputs": [],
   "source": [
    "from chamelboots.bootstrap.components.constants import ALERT_CLASSES_ATTRIBS\n",
    "from chamelboots.bootstrap.components.constants import ContextualClassNames\n",
    "from chamelboots.bootstrap.components.alerts import ALERT_COMPONENTS"
   ]
  },
  {
   "cell_type": "code",
   "execution_count": 4,
   "metadata": {},
   "outputs": [],
   "source": [
    "def test_alerts():\n",
    "    \"\"\"Test creation of Bootstrap alert components.\"\"\"\n",
    "\n",
    "    expected = {tuple(d.values()) for d in ALERT_CLASSES_ATTRIBS.values()}\n",
    "\n",
    "    for key, alert_component in ALERT_COMPONENTS.items():\n",
    "        html_string = alert_component(inner_content=FAKE.paragraph()).html_string\n",
    "        tree = lxml.etree.fromstring(html_string, HTML_PARSER)\n",
    "        (values,) = [\n",
    "            tuple(element.attrib.values())\n",
    "            for element in tree.iterdescendants()\n",
    "            if element.attrib\n",
    "        ]\n",
    "        assert values in expected\n",
    "        contextual_class, _ = (\n",
    "            [\n",
    "                contextual_class_name in value\n",
    "                for contextual_class_name in ContextualClassNames\n",
    "            ]\n",
    "            for value in values\n",
    "        )\n",
    "        assert any(contextual_class)"
   ]
  },
  {
   "cell_type": "code",
   "execution_count": 5,
   "metadata": {},
   "outputs": [
    {
     "name": "stdout",
     "output_type": "stream",
     "text": [
      "========================================================= test session starts ==========================================================\n",
      "platform linux -- Python 3.8.0, pytest-5.2.2, py-1.8.0, pluggy-0.13.0\n",
      "rootdir: /home/dmmmd/projects/python_code/python38_projects/python-chamelboots, inifile: setup.cfg\n",
      "plugins: cov-2.8.1\n",
      "collected 1 item\n",
      "\n",
      "test_alerts.py .\n",
      "\n",
      "========================================================== 1 passed in 0.33s ===========================================================\n"
     ]
    }
   ],
   "source": [
    "if __name__ == \"__main__\":\n",
    "    import pytest\n",
    "    import shlex\n",
    "\n",
    "    pytest.main(shlex.split(\"-xs test_alerts.py\"))"
   ]
  }
 ],
 "metadata": {
  "kernelspec": {
   "display_name": "Python 3",
   "language": "python",
   "name": "python3"
  },
  "language_info": {
   "codemirror_mode": {
    "name": "ipython",
    "version": 3
   },
   "file_extension": ".py",
   "mimetype": "text/x-python",
   "name": "python",
   "nbconvert_exporter": "python",
   "pygments_lexer": "ipython3",
   "version": "3.8.0"
  }
 },
 "nbformat": 4,
 "nbformat_minor": 2
}
