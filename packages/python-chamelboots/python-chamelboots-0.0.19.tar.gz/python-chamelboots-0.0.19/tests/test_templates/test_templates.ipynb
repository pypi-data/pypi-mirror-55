{
 "cells": [
  {
   "cell_type": "code",
   "execution_count": 1,
   "metadata": {},
   "outputs": [],
   "source": [
    "# %load test_templates.py\n",
    "import os\n",
    "from pathlib import Path\n",
    "\n",
    "import pytest\n",
    "from chameleon import PageTemplateLoader\n",
    "from lxml import etree\n",
    "\n",
    "from chamelboots import ChameleonTemplate, TalStatement\n",
    "from chamelboots.constants import HTML_PARSER\n",
    "from chamelboots.constants import FAKE\n",
    "from chamelboots.bootstrap.components.badges import SPAN_BADGE_COMPONENTS\n",
    "from chamelboots.templates import write_boostrap_starter_template\n",
    "\n",
    "RAISES_VALUE_ERROR = pytest.raises(ValueError)"
   ]
  },
  {
   "cell_type": "code",
   "execution_count": 2,
   "metadata": {},
   "outputs": [],
   "source": [
    "def test_get_attr_proxy():\n",
    "    \"\"\"Use instance of ChameleonTemplate as inner value.\"\"\"\n",
    "    element = ChameleonTemplate()\n",
    "    with pytest.raises(AttributeError):\n",
    "        element.foo"
   ]
  },
  {
   "cell_type": "code",
   "execution_count": 3,
   "metadata": {},
   "outputs": [],
   "source": [
    "def test_tal_collection():\n",
    "    \"\"\"Use multiple tals to improve coverage.\"\"\"\n",
    "    # \"<p tal:condition=\"request.message\" tal:content=\"request.message\" />\"\n",
    "    request = type(\"Request\", (), {\"message\": \"foo world\"})()\n",
    "    tal_statements = [\n",
    "        TalStatement(name, value)\n",
    "        for name, value in zip((\"condition\", \"content\",), (\"request.message\",) * 2)\n",
    "    ]\n",
    "    print(\n",
    "        etree.tostring(\n",
    "            etree.fromstring(\n",
    "                ChameleonTemplate(tag=\"p\", tal_statements=tal_statements).render(\n",
    "                    request=request\n",
    "                ),\n",
    "                HTML_PARSER,\n",
    "            ),\n",
    "            method=\"html\",\n",
    "        )\n",
    "    )\n",
    "    request = type(\"Request\", (), {\"message\": False})()\n",
    "    assert not ChameleonTemplate(\n",
    "        tag=\"p\",\n",
    "        tal_statements=tal_statements\n",
    "    ).render(request=request)"
   ]
  },
  {
   "cell_type": "code",
   "execution_count": 4,
   "metadata": {},
   "outputs": [],
   "source": [
    "@pytest.mark.parametrize(\n",
    "    \"args,expectation\",\n",
    "    [\n",
    "        ((\"repeat\", \"${repeat}\", ), RAISES_VALUE_ERROR,),\n",
    "        ((\"foo\", \"foo foo\"), RAISES_VALUE_ERROR,),\n",
    "        ((\"foo\", \"repeat foo\", ), RAISES_VALUE_ERROR,),\n",
    "    ],\n",
    ")\n",
    "def test_no_tal_keywords(args, expectation):\n",
    "    \"\"\"Test that error is thrown if context_value or inner_content has a tal keyword in it or the tal is not valid.\"\"\"\n",
    "    with expectation:\n",
    "        kwargs = dict(tal_statements=TalStatement(*args))\n",
    "        ChameleonTemplate(**kwargs)"
   ]
  },
  {
   "cell_type": "code",
   "execution_count": 5,
   "metadata": {},
   "outputs": [],
   "source": [
    "def test_html_doc_generation_with_badges(tmpdir):\n",
    "    \"\"\"Generate HTML documents.\"\"\"\n",
    "\n",
    "    badges = \"\\n\".join(\n",
    "        component(inner_content=FAKE.catch_phrase()).html_string\n",
    "        for component in SPAN_BADGE_COMPONENTS.values()\n",
    "    )\n",
    "\n",
    "    # create starter template folder\n",
    "    chameleon_templates_dir = tmpdir\n",
    "    html_templates = PageTemplateLoader(chameleon_templates_dir.strpath)\n",
    "    chameleon_templates_dir = write_boostrap_starter_template(\n",
    "        Path(chameleon_templates_dir.strpath)\n",
    "    )\n",
    "    assert len(list(chameleon_templates_dir.iterdir())) == 1\n",
    "    html = html_templates[\"index.tmpl.html\"].render(\n",
    "        body_content=badges, title=FAKE.name()\n",
    "    )\n",
    "\n",
    "    www = Path(os.path.abspath(__file__)).parent.parent.parent.joinpath(\"www\")\n",
    "    www.mkdir(exist_ok=True)\n",
    "\n",
    "    www.joinpath(\"index.html\").write_text(html)"
   ]
  },
  {
   "cell_type": "code",
   "execution_count": 6,
   "metadata": {},
   "outputs": [
    {
     "name": "stdout",
     "output_type": "stream",
     "text": [
      "========================================================= test session starts ==========================================================\n",
      "platform linux -- Python 3.8.0, pytest-5.2.2, py-1.8.0, pluggy-0.13.0\n",
      "rootdir: /home/dmmmd/projects/python_code/python38_projects/python-chamelboots, inifile: setup.cfg\n",
      "plugins: cov-2.8.1\n",
      "collected 6 items\n",
      "\n",
      "test_templates.py .b'<html><body><p>foo world</p></body></html>'\n",
      ".....\n",
      "\n",
      "========================================================== 6 passed in 0.83s ===========================================================\n"
     ]
    }
   ],
   "source": [
    "if __name__ == \"__main__\":\n",
    "    import pytest\n",
    "    import shlex\n",
    "\n",
    "    pytest.main(shlex.split(\"-xs test_templates.py\"))"
   ]
  }
 ],
 "metadata": {
  "kernelspec": {
   "display_name": "Python 3",
   "language": "python",
   "name": "python3"
  },
  "language_info": {
   "codemirror_mode": {
    "name": "ipython",
    "version": 3
   },
   "file_extension": ".py",
   "mimetype": "text/x-python",
   "name": "python",
   "nbconvert_exporter": "python",
   "pygments_lexer": "ipython3",
   "version": "3.8.0"
  }
 },
 "nbformat": 4,
 "nbformat_minor": 2
}
