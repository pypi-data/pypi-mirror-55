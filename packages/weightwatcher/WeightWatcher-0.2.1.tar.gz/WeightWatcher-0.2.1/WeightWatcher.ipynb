{
 "cells": [
  {
   "cell_type": "markdown",
   "metadata": {},
   "source": [
    "# WeightWatcher\n",
    "\n",
    "https://calculationconsulting.com"
   ]
  },
  {
   "cell_type": "code",
   "execution_count": 1,
   "metadata": {
    "ExecuteTime": {
     "end_time": "2019-03-05T23:51:16.544327Z",
     "start_time": "2019-03-05T23:51:16.531457Z"
    },
    "scrolled": true
   },
   "outputs": [],
   "source": [
    "# Suppress the powerlaw package warnings\n",
    "# \"powerlaw.py:700: RuntimeWarning: divide by zero encountered in true_divide\"\n",
    "# \"powerlaw.py:700: RuntimeWarning: invalid value encountered in true_divide\"\n",
    "import warnings\n",
    "warnings.simplefilter(action='ignore', category=RuntimeWarning)"
   ]
  },
  {
   "cell_type": "markdown",
   "metadata": {},
   "source": [
    "## 1. Quick start example"
   ]
  },
  {
   "cell_type": "markdown",
   "metadata": {},
   "source": [
    "### 1.1 Import your model (Keras or PyTorch)"
   ]
  },
  {
   "cell_type": "code",
   "execution_count": 2,
   "metadata": {
    "ExecuteTime": {
     "end_time": "2019-03-05T23:51:48.865394Z",
     "start_time": "2019-03-05T23:51:16.555209Z"
    }
   },
   "outputs": [
    {
     "name": "stderr",
     "output_type": "stream",
     "text": [
      "Using TensorFlow backend.\n"
     ]
    },
    {
     "name": "stdout",
     "output_type": "stream",
     "text": [
      "WARNING:tensorflow:From /Users/charleshmartin/anaconda3/lib/python3.7/site-packages/tensorflow/python/framework/op_def_library.py:263: colocate_with (from tensorflow.python.framework.ops) is deprecated and will be removed in a future version.\n",
      "Instructions for updating:\n",
      "Colocations handled automatically by placer.\n"
     ]
    }
   ],
   "source": [
    "from keras.models import load_model\n",
    "from keras.applications import vgg16\n",
    "\n",
    "kmodel = vgg16.VGG16\n",
    "model = kmodel(weights='imagenet')"
   ]
  },
  {
   "cell_type": "markdown",
   "metadata": {},
   "source": [
    "### 1.2 Run WeightWatcher"
   ]
  },
  {
   "cell_type": "code",
   "execution_count": 3,
   "metadata": {
    "ExecuteTime": {
     "end_time": "2019-03-05T23:51:54.297463Z",
     "start_time": "2019-03-05T23:51:48.878699Z"
    },
    "scrolled": true
   },
   "outputs": [
    {
     "name": "stderr",
     "output_type": "stream",
     "text": [
      "2019-11-03 17:30:52,299 INFO \n",
      "\n",
      "python      version 3.7.3 (default, Mar 27 2019, 16:54:48) \n",
      "[Clang 4.0.1 (tags/RELEASE_401/final)]\n",
      "numpy       version 1.16.4\n",
      "tensforflow version 1.13.1\n",
      "keras       version 2.2.4\n",
      "2019-11-03 17:30:52,301 INFO Analyzing model 'vgg16' with 23 layers\n",
      "2019-11-03 17:30:53,481 INFO ### Printing results ###\n",
      "2019-11-03 17:30:55,720 INFO Norm: min: 2.4488985538482666, max: 23.428979873657227, avg: 4.01861572265625\n",
      "2019-11-03 17:30:55,721 INFO Norm compound: min: 2.728064775466919, max: 23.428979873657227, avg: 6.7535719871521\n",
      "2019-11-03 17:30:55,723 INFO LogNorm: min: 0.3889707922935486, max: 1.369753360748291, avg: 0.5674788951873779\n",
      "2019-11-03 17:30:55,725 INFO LogNorm compound: min: 0.43449220061302185, max: 1.369753360748291, avg: 0.6947276592254639\n"
     ]
    }
   ],
   "source": [
    "import weightwatcher as ww\n",
    "\n",
    "watcher = ww.WeightWatcher(model=model)\n",
    "\n",
    "results = watcher.analyze()"
   ]
  },
  {
   "cell_type": "code",
   "execution_count": 4,
   "metadata": {
    "ExecuteTime": {
     "end_time": "2019-03-05T23:51:54.412503Z",
     "start_time": "2019-03-05T23:51:54.309238Z"
    }
   },
   "outputs": [
    {
     "data": {
      "text/plain": [
       "{0: {'id': 0,\n",
       "  'type': <keras.engine.input_layer.InputLayer at 0x10dd2cac8>,\n",
       "  'message': 'Skipping (Layer not supported)'},\n",
       " 1: {'layer_type': <LAYER_TYPE.CONV2D: 4>,\n",
       "  0: {'N': 64,\n",
       "   'M': 3,\n",
       "   'Q': 21.333333333333332,\n",
       "   'summary': 'Weight matrix 1/9 (3,64): Skipping: too small (<50)'},\n",
       "  1: {'N': 64,\n",
       "   'M': 3,\n",
       "   'Q': 21.333333333333332,\n",
       "   'summary': 'Weight matrix 2/9 (3,64): Skipping: too small (<50)'},\n",
       "  2: {'N': 64,\n",
       "   'M': 3,\n",
       "   'Q': 21.333333333333332,\n",
       "   'summary': 'Weight matrix 3/9 (3,64): Skipping: too small (<50)'},\n",
       "  3: {'N': 64,\n",
       "   'M': 3,\n",
       "   'Q': 21.333333333333332,\n",
       "   'summary': 'Weight matrix 4/9 (3,64): Skipping: too small (<50)'},\n",
       "  4: {'N': 64,\n",
       "   'M': 3,\n",
       "   'Q': 21.333333333333332,\n",
       "   'summary': 'Weight matrix 5/9 (3,64): Skipping: too small (<50)'},\n",
       "  5: {'N': 64,\n",
       "   'M': 3,\n",
       "   'Q': 21.333333333333332,\n",
       "   'summary': 'Weight matrix 6/9 (3,64): Skipping: too small (<50)'},\n",
       "  6: {'N': 64,\n",
       "   'M': 3,\n",
       "   'Q': 21.333333333333332,\n",
       "   'summary': 'Weight matrix 7/9 (3,64): Skipping: too small (<50)'},\n",
       "  7: {'N': 64,\n",
       "   'M': 3,\n",
       "   'Q': 21.333333333333332,\n",
       "   'summary': 'Weight matrix 8/9 (3,64): Skipping: too small (<50)'},\n",
       "  8: {'N': 64,\n",
       "   'M': 3,\n",
       "   'Q': 21.333333333333332,\n",
       "   'summary': 'Weight matrix 9/9 (3,64): Skipping: too small (<50)'}},\n",
       " 2: {'layer_type': <LAYER_TYPE.CONV2D: 4>,\n",
       "  0: {'N': 64,\n",
       "   'M': 64,\n",
       "   'Q': 1.0,\n",
       "   'norm': 2.499732,\n",
       "   'lognorm': 0.39789346,\n",
       "   'summary': 'Weight matrix 1/9 (64,64): Lognorm: 0.3978934586048126'},\n",
       "  1: {'N': 64,\n",
       "   'M': 64,\n",
       "   'Q': 1.0,\n",
       "   'norm': 2.8417575,\n",
       "   'lognorm': 0.45358703,\n",
       "   'summary': 'Weight matrix 2/9 (64,64): Lognorm: 0.45358702540397644'},\n",
       "  2: {'N': 64,\n",
       "   'M': 64,\n",
       "   'Q': 1.0,\n",
       "   'norm': 2.545549,\n",
       "   'lognorm': 0.40578145,\n",
       "   'summary': 'Weight matrix 3/9 (64,64): Lognorm: 0.40578144788742065'},\n",
       "  3: {'N': 64,\n",
       "   'M': 64,\n",
       "   'Q': 1.0,\n",
       "   'norm': 2.8463395,\n",
       "   'lognorm': 0.4542867,\n",
       "   'summary': 'Weight matrix 4/9 (64,64): Lognorm: 0.45428669452667236'},\n",
       "  4: {'N': 64,\n",
       "   'M': 64,\n",
       "   'Q': 1.0,\n",
       "   'norm': 3.1401582,\n",
       "   'lognorm': 0.49695152,\n",
       "   'summary': 'Weight matrix 5/9 (64,64): Lognorm: 0.49695152044296265'},\n",
       "  5: {'N': 64,\n",
       "   'M': 64,\n",
       "   'Q': 1.0,\n",
       "   'norm': 2.8666604,\n",
       "   'lognorm': 0.45737624,\n",
       "   'summary': 'Weight matrix 6/9 (64,64): Lognorm: 0.45737624168395996'},\n",
       "  6: {'N': 64,\n",
       "   'M': 64,\n",
       "   'Q': 1.0,\n",
       "   'norm': 2.5378573,\n",
       "   'lognorm': 0.4044672,\n",
       "   'summary': 'Weight matrix 7/9 (64,64): Lognorm: 0.4044671952724457'},\n",
       "  7: {'N': 64,\n",
       "   'M': 64,\n",
       "   'Q': 1.0,\n",
       "   'norm': 2.8256307,\n",
       "   'lognorm': 0.4511154,\n",
       "   'summary': 'Weight matrix 8/9 (64,64): Lognorm: 0.4511153995990753'},\n",
       "  8: {'N': 64,\n",
       "   'M': 64,\n",
       "   'Q': 1.0,\n",
       "   'norm': 2.4488986,\n",
       "   'lognorm': 0.3889708,\n",
       "   'summary': 'Weight matrix 9/9 (64,64): Lognorm: 0.3889707922935486'}},\n",
       " 3: {'id': 3,\n",
       "  'type': <keras.layers.pooling.MaxPooling2D at 0xb2f8df828>,\n",
       "  'message': 'Skipping (Layer not supported)'},\n",
       " 4: {'layer_type': <LAYER_TYPE.CONV2D: 4>,\n",
       "  0: {'N': 128,\n",
       "   'M': 64,\n",
       "   'Q': 2.0,\n",
       "   'norm': 2.7612133,\n",
       "   'lognorm': 0.44109997,\n",
       "   'summary': 'Weight matrix 1/9 (64,128): Lognorm: 0.44109997153282166'},\n",
       "  1: {'N': 128,\n",
       "   'M': 64,\n",
       "   'Q': 2.0,\n",
       "   'norm': 2.8930957,\n",
       "   'lognorm': 0.4613628,\n",
       "   'summary': 'Weight matrix 2/9 (64,128): Lognorm: 0.4613628089427948'},\n",
       "  2: {'N': 128,\n",
       "   'M': 64,\n",
       "   'Q': 2.0,\n",
       "   'norm': 2.7353733,\n",
       "   'lognorm': 0.4370166,\n",
       "   'summary': 'Weight matrix 3/9 (64,128): Lognorm: 0.4370166063308716'},\n",
       "  3: {'N': 128,\n",
       "   'M': 64,\n",
       "   'Q': 2.0,\n",
       "   'norm': 2.9293149,\n",
       "   'lognorm': 0.46676606,\n",
       "   'summary': 'Weight matrix 4/9 (64,128): Lognorm: 0.4667660593986511'},\n",
       "  4: {'N': 128,\n",
       "   'M': 64,\n",
       "   'Q': 2.0,\n",
       "   'norm': 3.3123863,\n",
       "   'lognorm': 0.520141,\n",
       "   'summary': 'Weight matrix 5/9 (64,128): Lognorm: 0.5201410055160522'},\n",
       "  5: {'N': 128,\n",
       "   'M': 64,\n",
       "   'Q': 2.0,\n",
       "   'norm': 2.9468317,\n",
       "   'lognorm': 0.46935534,\n",
       "   'summary': 'Weight matrix 6/9 (64,128): Lognorm: 0.46935534477233887'},\n",
       "  6: {'N': 128,\n",
       "   'M': 64,\n",
       "   'Q': 2.0,\n",
       "   'norm': 2.7955456,\n",
       "   'lognorm': 0.44646657,\n",
       "   'summary': 'Weight matrix 7/9 (64,128): Lognorm: 0.4464665651321411'},\n",
       "  7: {'N': 128,\n",
       "   'M': 64,\n",
       "   'Q': 2.0,\n",
       "   'norm': 3.0312111,\n",
       "   'lognorm': 0.4816162,\n",
       "   'summary': 'Weight matrix 8/9 (64,128): Lognorm: 0.48161619901657104'},\n",
       "  8: {'N': 128,\n",
       "   'M': 64,\n",
       "   'Q': 2.0,\n",
       "   'norm': 2.8000274,\n",
       "   'lognorm': 0.44716227,\n",
       "   'summary': 'Weight matrix 9/9 (64,128): Lognorm: 0.4471622705459595'}},\n",
       " 5: {'layer_type': <LAYER_TYPE.CONV2D: 4>,\n",
       "  0: {'N': 128,\n",
       "   'M': 128,\n",
       "   'Q': 1.0,\n",
       "   'norm': 2.851535,\n",
       "   'lognorm': 0.45507872,\n",
       "   'summary': 'Weight matrix 1/9 (128,128): Lognorm: 0.45507872104644775'},\n",
       "  1: {'N': 128,\n",
       "   'M': 128,\n",
       "   'Q': 1.0,\n",
       "   'norm': 3.0472515,\n",
       "   'lognorm': 0.4839083,\n",
       "   'summary': 'Weight matrix 2/9 (128,128): Lognorm: 0.4839082956314087'},\n",
       "  2: {'N': 128,\n",
       "   'M': 128,\n",
       "   'Q': 1.0,\n",
       "   'norm': 2.8800385,\n",
       "   'lognorm': 0.4593983,\n",
       "   'summary': 'Weight matrix 3/9 (128,128): Lognorm: 0.4593982994556427'},\n",
       "  3: {'N': 128,\n",
       "   'M': 128,\n",
       "   'Q': 1.0,\n",
       "   'norm': 3.067396,\n",
       "   'lognorm': 0.48676983,\n",
       "   'summary': 'Weight matrix 4/9 (128,128): Lognorm: 0.48676982522010803'},\n",
       "  4: {'N': 128,\n",
       "   'M': 128,\n",
       "   'Q': 1.0,\n",
       "   'norm': 3.4112387,\n",
       "   'lognorm': 0.53291214,\n",
       "   'summary': 'Weight matrix 5/9 (128,128): Lognorm: 0.5329121351242065'},\n",
       "  5: {'N': 128,\n",
       "   'M': 128,\n",
       "   'Q': 1.0,\n",
       "   'norm': 3.0651598,\n",
       "   'lognorm': 0.48645312,\n",
       "   'summary': 'Weight matrix 6/9 (128,128): Lognorm: 0.486453115940094'},\n",
       "  6: {'N': 128,\n",
       "   'M': 128,\n",
       "   'Q': 1.0,\n",
       "   'norm': 2.854957,\n",
       "   'lognorm': 0.45559958,\n",
       "   'summary': 'Weight matrix 7/9 (128,128): Lognorm: 0.4555995762348175'},\n",
       "  7: {'N': 128,\n",
       "   'M': 128,\n",
       "   'Q': 1.0,\n",
       "   'norm': 3.0803354,\n",
       "   'lognorm': 0.488598,\n",
       "   'summary': 'Weight matrix 8/9 (128,128): Lognorm: 0.4885979890823364'},\n",
       "  8: {'N': 128,\n",
       "   'M': 128,\n",
       "   'Q': 1.0,\n",
       "   'norm': 2.8168051,\n",
       "   'lognorm': 0.4497568,\n",
       "   'summary': 'Weight matrix 9/9 (128,128): Lognorm: 0.44975680112838745'}},\n",
       " 6: {'id': 6,\n",
       "  'type': <keras.layers.pooling.MaxPooling2D at 0xb2f938710>,\n",
       "  'message': 'Skipping (Layer not supported)'},\n",
       " 7: {'layer_type': <LAYER_TYPE.CONV2D: 4>,\n",
       "  0: {'N': 256,\n",
       "   'M': 128,\n",
       "   'Q': 2.0,\n",
       "   'norm': 2.7108333,\n",
       "   'lognorm': 0.43310282,\n",
       "   'summary': 'Weight matrix 1/9 (128,256): Lognorm: 0.4331028163433075'},\n",
       "  1: {'N': 256,\n",
       "   'M': 128,\n",
       "   'Q': 2.0,\n",
       "   'norm': 3.176145,\n",
       "   'lognorm': 0.5019003,\n",
       "   'summary': 'Weight matrix 2/9 (128,256): Lognorm: 0.501900315284729'},\n",
       "  2: {'N': 256,\n",
       "   'M': 128,\n",
       "   'Q': 2.0,\n",
       "   'norm': 2.7279358,\n",
       "   'lognorm': 0.43583414,\n",
       "   'summary': 'Weight matrix 3/9 (128,256): Lognorm: 0.435834139585495'},\n",
       "  3: {'N': 256,\n",
       "   'M': 128,\n",
       "   'Q': 2.0,\n",
       "   'norm': 3.2911222,\n",
       "   'lognorm': 0.517344,\n",
       "   'summary': 'Weight matrix 4/9 (128,256): Lognorm: 0.5173439979553223'},\n",
       "  4: {'N': 256,\n",
       "   'M': 128,\n",
       "   'Q': 2.0,\n",
       "   'norm': 4.274396,\n",
       "   'lognorm': 0.63087475,\n",
       "   'summary': 'Weight matrix 5/9 (128,256): Lognorm: 0.630874752998352'},\n",
       "  5: {'N': 256,\n",
       "   'M': 128,\n",
       "   'Q': 2.0,\n",
       "   'norm': 3.26429,\n",
       "   'lognorm': 0.51378876,\n",
       "   'summary': 'Weight matrix 6/9 (128,256): Lognorm: 0.5137887597084045'},\n",
       "  6: {'N': 256,\n",
       "   'M': 128,\n",
       "   'Q': 2.0,\n",
       "   'norm': 2.6995878,\n",
       "   'lognorm': 0.43129745,\n",
       "   'summary': 'Weight matrix 7/9 (128,256): Lognorm: 0.4312974512577057'},\n",
       "  7: {'N': 256,\n",
       "   'M': 128,\n",
       "   'Q': 2.0,\n",
       "   'norm': 3.1601713,\n",
       "   'lognorm': 0.49971062,\n",
       "   'summary': 'Weight matrix 8/9 (128,256): Lognorm: 0.4997106194496155'},\n",
       "  8: {'N': 256,\n",
       "   'M': 128,\n",
       "   'Q': 2.0,\n",
       "   'norm': 2.6716125,\n",
       "   'lognorm': 0.42677346,\n",
       "   'summary': 'Weight matrix 9/9 (128,256): Lognorm: 0.42677345871925354'}},\n",
       " 8: {'layer_type': <LAYER_TYPE.CONV2D: 4>,\n",
       "  0: {'N': 256,\n",
       "   'M': 256,\n",
       "   'Q': 1.0,\n",
       "   'norm': 2.8918858,\n",
       "   'lognorm': 0.46118113,\n",
       "   'summary': 'Weight matrix 1/9 (256,256): Lognorm: 0.4611811339855194'},\n",
       "  1: {'N': 256,\n",
       "   'M': 256,\n",
       "   'Q': 1.0,\n",
       "   'norm': 3.238382,\n",
       "   'lognorm': 0.5103281,\n",
       "   'summary': 'Weight matrix 2/9 (256,256): Lognorm: 0.5103281140327454'},\n",
       "  2: {'N': 256,\n",
       "   'M': 256,\n",
       "   'Q': 1.0,\n",
       "   'norm': 2.907241,\n",
       "   'lognorm': 0.46348104,\n",
       "   'summary': 'Weight matrix 3/9 (256,256): Lognorm: 0.46348103880882263'},\n",
       "  3: {'N': 256,\n",
       "   'M': 256,\n",
       "   'Q': 1.0,\n",
       "   'norm': 3.1938913,\n",
       "   'lognorm': 0.50432014,\n",
       "   'summary': 'Weight matrix 4/9 (256,256): Lognorm: 0.5043201446533203'},\n",
       "  4: {'N': 256,\n",
       "   'M': 256,\n",
       "   'Q': 1.0,\n",
       "   'norm': 3.92556,\n",
       "   'lognorm': 0.59390163,\n",
       "   'summary': 'Weight matrix 5/9 (256,256): Lognorm: 0.5939016342163086'},\n",
       "  5: {'N': 256,\n",
       "   'M': 256,\n",
       "   'Q': 1.0,\n",
       "   'norm': 3.2178304,\n",
       "   'lognorm': 0.5075632,\n",
       "   'summary': 'Weight matrix 6/9 (256,256): Lognorm: 0.5075631737709045'},\n",
       "  6: {'N': 256,\n",
       "   'M': 256,\n",
       "   'Q': 1.0,\n",
       "   'norm': 2.8660247,\n",
       "   'lognorm': 0.45727992,\n",
       "   'summary': 'Weight matrix 7/9 (256,256): Lognorm: 0.45727992057800293'},\n",
       "  7: {'N': 256,\n",
       "   'M': 256,\n",
       "   'Q': 1.0,\n",
       "   'norm': 3.1748025,\n",
       "   'lognorm': 0.50171673,\n",
       "   'summary': 'Weight matrix 8/9 (256,256): Lognorm: 0.5017167329788208'},\n",
       "  8: {'N': 256,\n",
       "   'M': 256,\n",
       "   'Q': 1.0,\n",
       "   'norm': 2.8920782,\n",
       "   'lognorm': 0.46121,\n",
       "   'summary': 'Weight matrix 9/9 (256,256): Lognorm: 0.4612100124359131'}},\n",
       " 9: {'layer_type': <LAYER_TYPE.CONV2D: 4>,\n",
       "  0: {'N': 256,\n",
       "   'M': 256,\n",
       "   'Q': 1.0,\n",
       "   'norm': 2.9971552,\n",
       "   'lognorm': 0.47670922,\n",
       "   'summary': 'Weight matrix 1/9 (256,256): Lognorm: 0.4767092168331146'},\n",
       "  1: {'N': 256,\n",
       "   'M': 256,\n",
       "   'Q': 1.0,\n",
       "   'norm': 3.3329842,\n",
       "   'lognorm': 0.5228332,\n",
       "   'summary': 'Weight matrix 2/9 (256,256): Lognorm: 0.5228332281112671'},\n",
       "  2: {'N': 256,\n",
       "   'M': 256,\n",
       "   'Q': 1.0,\n",
       "   'norm': 3.0220184,\n",
       "   'lognorm': 0.48029712,\n",
       "   'summary': 'Weight matrix 3/9 (256,256): Lognorm: 0.48029711842536926'},\n",
       "  3: {'N': 256,\n",
       "   'M': 256,\n",
       "   'Q': 1.0,\n",
       "   'norm': 3.258065,\n",
       "   'lognorm': 0.5129597,\n",
       "   'summary': 'Weight matrix 4/9 (256,256): Lognorm: 0.5129597187042236'},\n",
       "  4: {'N': 256,\n",
       "   'M': 256,\n",
       "   'Q': 1.0,\n",
       "   'norm': 3.892659,\n",
       "   'lognorm': 0.5902464,\n",
       "   'summary': 'Weight matrix 5/9 (256,256): Lognorm: 0.5902463793754578'},\n",
       "  5: {'N': 256,\n",
       "   'M': 256,\n",
       "   'Q': 1.0,\n",
       "   'norm': 3.3484614,\n",
       "   'lognorm': 0.5248453,\n",
       "   'summary': 'Weight matrix 6/9 (256,256): Lognorm: 0.52484530210495'},\n",
       "  6: {'N': 256,\n",
       "   'M': 256,\n",
       "   'Q': 1.0,\n",
       "   'norm': 2.9902184,\n",
       "   'lognorm': 0.4757029,\n",
       "   'summary': 'Weight matrix 7/9 (256,256): Lognorm: 0.4757029116153717'},\n",
       "  7: {'N': 256,\n",
       "   'M': 256,\n",
       "   'Q': 1.0,\n",
       "   'norm': 3.2758641,\n",
       "   'lognorm': 0.5153259,\n",
       "   'summary': 'Weight matrix 8/9 (256,256): Lognorm: 0.5153259038925171'},\n",
       "  8: {'N': 256,\n",
       "   'M': 256,\n",
       "   'Q': 1.0,\n",
       "   'norm': 3.008209,\n",
       "   'lognorm': 0.478308,\n",
       "   'summary': 'Weight matrix 9/9 (256,256): Lognorm: 0.4783079922199249'}},\n",
       " 10: {'id': 10,\n",
       "  'type': <keras.layers.pooling.MaxPooling2D at 0xb2f9cb710>,\n",
       "  'message': 'Skipping (Layer not supported)'},\n",
       " 11: {'layer_type': <LAYER_TYPE.CONV2D: 4>,\n",
       "  0: {'N': 512,\n",
       "   'M': 256,\n",
       "   'Q': 2.0,\n",
       "   'norm': 3.4128516,\n",
       "   'lognorm': 0.5331174,\n",
       "   'summary': 'Weight matrix 1/9 (256,512): Lognorm: 0.533117413520813'},\n",
       "  1: {'N': 512,\n",
       "   'M': 256,\n",
       "   'Q': 2.0,\n",
       "   'norm': 3.6959422,\n",
       "   'lognorm': 0.5677252,\n",
       "   'summary': 'Weight matrix 2/9 (256,512): Lognorm: 0.5677251815795898'},\n",
       "  2: {'N': 512,\n",
       "   'M': 256,\n",
       "   'Q': 2.0,\n",
       "   'norm': 3.4338121,\n",
       "   'lognorm': 0.53577656,\n",
       "   'summary': 'Weight matrix 3/9 (256,512): Lognorm: 0.5357765555381775'},\n",
       "  3: {'N': 512,\n",
       "   'M': 256,\n",
       "   'Q': 2.0,\n",
       "   'norm': 3.6989415,\n",
       "   'lognorm': 0.56807745,\n",
       "   'summary': 'Weight matrix 4/9 (256,512): Lognorm: 0.5680774450302124'},\n",
       "  4: {'N': 512,\n",
       "   'M': 256,\n",
       "   'Q': 2.0,\n",
       "   'norm': 4.368356,\n",
       "   'lognorm': 0.64031804,\n",
       "   'summary': 'Weight matrix 5/9 (256,512): Lognorm: 0.6403180360794067'},\n",
       "  5: {'N': 512,\n",
       "   'M': 256,\n",
       "   'Q': 2.0,\n",
       "   'norm': 3.674093,\n",
       "   'lognorm': 0.56515014,\n",
       "   'summary': 'Weight matrix 6/9 (256,512): Lognorm: 0.5651501417160034'},\n",
       "  6: {'N': 512,\n",
       "   'M': 256,\n",
       "   'Q': 2.0,\n",
       "   'norm': 3.379677,\n",
       "   'lognorm': 0.52887523,\n",
       "   'summary': 'Weight matrix 7/9 (256,512): Lognorm: 0.5288752317428589'},\n",
       "  7: {'N': 512,\n",
       "   'M': 256,\n",
       "   'Q': 2.0,\n",
       "   'norm': 3.6538746,\n",
       "   'lognorm': 0.5627536,\n",
       "   'summary': 'Weight matrix 8/9 (256,512): Lognorm: 0.5627536177635193'},\n",
       "  8: {'N': 512,\n",
       "   'M': 256,\n",
       "   'Q': 2.0,\n",
       "   'norm': 3.359951,\n",
       "   'lognorm': 0.526333,\n",
       "   'summary': 'Weight matrix 9/9 (256,512): Lognorm: 0.5263329744338989'}},\n",
       " 12: {'layer_type': <LAYER_TYPE.CONV2D: 4>,\n",
       "  0: {'N': 512,\n",
       "   'M': 512,\n",
       "   'Q': 1.0,\n",
       "   'norm': 3.8165078,\n",
       "   'lognorm': 0.5816662,\n",
       "   'summary': 'Weight matrix 1/9 (512,512): Lognorm: 0.5816661715507507'},\n",
       "  1: {'N': 512,\n",
       "   'M': 512,\n",
       "   'Q': 1.0,\n",
       "   'norm': 3.9761157,\n",
       "   'lognorm': 0.599459,\n",
       "   'summary': 'Weight matrix 2/9 (512,512): Lognorm: 0.5994589924812317'},\n",
       "  2: {'N': 512,\n",
       "   'M': 512,\n",
       "   'Q': 1.0,\n",
       "   'norm': 3.805959,\n",
       "   'lognorm': 0.5804641,\n",
       "   'summary': 'Weight matrix 3/9 (512,512): Lognorm: 0.5804641246795654'},\n",
       "  3: {'N': 512,\n",
       "   'M': 512,\n",
       "   'Q': 1.0,\n",
       "   'norm': 3.8709376,\n",
       "   'lognorm': 0.5878162,\n",
       "   'summary': 'Weight matrix 4/9 (512,512): Lognorm: 0.5878161787986755'},\n",
       "  4: {'N': 512,\n",
       "   'M': 512,\n",
       "   'Q': 1.0,\n",
       "   'norm': 4.3149986,\n",
       "   'lognorm': 0.6349807,\n",
       "   'summary': 'Weight matrix 5/9 (512,512): Lognorm: 0.6349806785583496'},\n",
       "  5: {'N': 512,\n",
       "   'M': 512,\n",
       "   'Q': 1.0,\n",
       "   'norm': 3.8804407,\n",
       "   'lognorm': 0.5888811,\n",
       "   'summary': 'Weight matrix 6/9 (512,512): Lognorm: 0.5888810753822327'},\n",
       "  6: {'N': 512,\n",
       "   'M': 512,\n",
       "   'Q': 1.0,\n",
       "   'norm': 3.7826579,\n",
       "   'lognorm': 0.57779706,\n",
       "   'summary': 'Weight matrix 7/9 (512,512): Lognorm: 0.5777970552444458'},\n",
       "  7: {'N': 512,\n",
       "   'M': 512,\n",
       "   'Q': 1.0,\n",
       "   'norm': 3.932986,\n",
       "   'lognorm': 0.5947224,\n",
       "   'summary': 'Weight matrix 8/9 (512,512): Lognorm: 0.5947223901748657'},\n",
       "  8: {'N': 512,\n",
       "   'M': 512,\n",
       "   'Q': 1.0,\n",
       "   'norm': 3.7902145,\n",
       "   'lognorm': 0.57866377,\n",
       "   'summary': 'Weight matrix 9/9 (512,512): Lognorm: 0.5786637663841248'}},\n",
       " 13: {'layer_type': <LAYER_TYPE.CONV2D: 4>,\n",
       "  0: {'N': 512,\n",
       "   'M': 512,\n",
       "   'Q': 1.0,\n",
       "   'norm': 3.9701836,\n",
       "   'lognorm': 0.5988106,\n",
       "   'summary': 'Weight matrix 1/9 (512,512): Lognorm: 0.598810613155365'},\n",
       "  1: {'N': 512,\n",
       "   'M': 512,\n",
       "   'Q': 1.0,\n",
       "   'norm': 4.2078204,\n",
       "   'lognorm': 0.6240572,\n",
       "   'summary': 'Weight matrix 2/9 (512,512): Lognorm: 0.6240571737289429'},\n",
       "  2: {'N': 512,\n",
       "   'M': 512,\n",
       "   'Q': 1.0,\n",
       "   'norm': 3.9831755,\n",
       "   'lognorm': 0.60022944,\n",
       "   'summary': 'Weight matrix 3/9 (512,512): Lognorm: 0.6002294421195984'},\n",
       "  3: {'N': 512,\n",
       "   'M': 512,\n",
       "   'Q': 1.0,\n",
       "   'norm': 4.0450754,\n",
       "   'lognorm': 0.6069266,\n",
       "   'summary': 'Weight matrix 4/9 (512,512): Lognorm: 0.6069266200065613'},\n",
       "  4: {'N': 512,\n",
       "   'M': 512,\n",
       "   'Q': 1.0,\n",
       "   'norm': 4.5052695,\n",
       "   'lognorm': 0.6537208,\n",
       "   'summary': 'Weight matrix 5/9 (512,512): Lognorm: 0.6537207961082458'},\n",
       "  5: {'N': 512,\n",
       "   'M': 512,\n",
       "   'Q': 1.0,\n",
       "   'norm': 4.028195,\n",
       "   'lognorm': 0.60511047,\n",
       "   'summary': 'Weight matrix 6/9 (512,512): Lognorm: 0.6051104664802551'},\n",
       "  6: {'N': 512,\n",
       "   'M': 512,\n",
       "   'Q': 1.0,\n",
       "   'norm': 3.950565,\n",
       "   'lognorm': 0.59665924,\n",
       "   'summary': 'Weight matrix 7/9 (512,512): Lognorm: 0.596659243106842'},\n",
       "  7: {'N': 512,\n",
       "   'M': 512,\n",
       "   'Q': 1.0,\n",
       "   'norm': 4.1731806,\n",
       "   'lognorm': 0.6204672,\n",
       "   'summary': 'Weight matrix 8/9 (512,512): Lognorm: 0.6204671859741211'},\n",
       "  8: {'N': 512,\n",
       "   'M': 512,\n",
       "   'Q': 1.0,\n",
       "   'norm': 3.9536626,\n",
       "   'lognorm': 0.5969996,\n",
       "   'summary': 'Weight matrix 9/9 (512,512): Lognorm: 0.5969995856285095'}},\n",
       " 14: {'id': 14,\n",
       "  'type': <keras.layers.pooling.MaxPooling2D at 0xb2fa33e80>,\n",
       "  'message': 'Skipping (Layer not supported)'},\n",
       " 15: {'layer_type': <LAYER_TYPE.CONV2D: 4>,\n",
       "  0: {'N': 512,\n",
       "   'M': 512,\n",
       "   'Q': 1.0,\n",
       "   'norm': 4.379643,\n",
       "   'lognorm': 0.6414387,\n",
       "   'summary': 'Weight matrix 1/9 (512,512): Lognorm: 0.6414387226104736'},\n",
       "  1: {'N': 512,\n",
       "   'M': 512,\n",
       "   'Q': 1.0,\n",
       "   'norm': 4.554939,\n",
       "   'lognorm': 0.65848255,\n",
       "   'summary': 'Weight matrix 2/9 (512,512): Lognorm: 0.658482551574707'},\n",
       "  2: {'N': 512,\n",
       "   'M': 512,\n",
       "   'Q': 1.0,\n",
       "   'norm': 4.3807607,\n",
       "   'lognorm': 0.6415495,\n",
       "   'summary': 'Weight matrix 3/9 (512,512): Lognorm: 0.6415495276451111'},\n",
       "  3: {'N': 512,\n",
       "   'M': 512,\n",
       "   'Q': 1.0,\n",
       "   'norm': 4.3441844,\n",
       "   'lognorm': 0.6379083,\n",
       "   'summary': 'Weight matrix 4/9 (512,512): Lognorm: 0.6379082798957825'},\n",
       "  4: {'N': 512,\n",
       "   'M': 512,\n",
       "   'Q': 1.0,\n",
       "   'norm': 4.932443,\n",
       "   'lognorm': 0.69306207,\n",
       "   'summary': 'Weight matrix 5/9 (512,512): Lognorm: 0.6930620670318604'},\n",
       "  5: {'N': 512,\n",
       "   'M': 512,\n",
       "   'Q': 1.0,\n",
       "   'norm': 4.3207736,\n",
       "   'lognorm': 0.6355615,\n",
       "   'summary': 'Weight matrix 6/9 (512,512): Lognorm: 0.6355615258216858'},\n",
       "  6: {'N': 512,\n",
       "   'M': 512,\n",
       "   'Q': 1.0,\n",
       "   'norm': 4.344898,\n",
       "   'lognorm': 0.6379796,\n",
       "   'summary': 'Weight matrix 7/9 (512,512): Lognorm: 0.6379796266555786'},\n",
       "  7: {'N': 512,\n",
       "   'M': 512,\n",
       "   'Q': 1.0,\n",
       "   'norm': 4.515352,\n",
       "   'lognorm': 0.6546916,\n",
       "   'summary': 'Weight matrix 8/9 (512,512): Lognorm: 0.6546915769577026'},\n",
       "  8: {'N': 512,\n",
       "   'M': 512,\n",
       "   'Q': 1.0,\n",
       "   'norm': 4.344318,\n",
       "   'lognorm': 0.6379216,\n",
       "   'summary': 'Weight matrix 9/9 (512,512): Lognorm: 0.6379215717315674'}},\n",
       " 16: {'layer_type': <LAYER_TYPE.CONV2D: 4>,\n",
       "  0: {'N': 512,\n",
       "   'M': 512,\n",
       "   'Q': 1.0,\n",
       "   'norm': 4.449406,\n",
       "   'lognorm': 0.6483021,\n",
       "   'summary': 'Weight matrix 1/9 (512,512): Lognorm: 0.6483020782470703'},\n",
       "  1: {'N': 512,\n",
       "   'M': 512,\n",
       "   'Q': 1.0,\n",
       "   'norm': 4.6948195,\n",
       "   'lognorm': 0.6716189,\n",
       "   'summary': 'Weight matrix 2/9 (512,512): Lognorm: 0.6716188788414001'},\n",
       "  2: {'N': 512,\n",
       "   'M': 512,\n",
       "   'Q': 1.0,\n",
       "   'norm': 4.4539843,\n",
       "   'lognorm': 0.6487487,\n",
       "   'summary': 'Weight matrix 3/9 (512,512): Lognorm: 0.6487486958503723'},\n",
       "  3: {'N': 512,\n",
       "   'M': 512,\n",
       "   'Q': 1.0,\n",
       "   'norm': 4.2787437,\n",
       "   'lognorm': 0.6313163,\n",
       "   'summary': 'Weight matrix 4/9 (512,512): Lognorm: 0.6313163042068481'},\n",
       "  4: {'N': 512,\n",
       "   'M': 512,\n",
       "   'Q': 1.0,\n",
       "   'norm': 4.8996086,\n",
       "   'lognorm': 0.6901614,\n",
       "   'summary': 'Weight matrix 5/9 (512,512): Lognorm: 0.690161406993866'},\n",
       "  5: {'N': 512,\n",
       "   'M': 512,\n",
       "   'Q': 1.0,\n",
       "   'norm': 4.289923,\n",
       "   'lognorm': 0.6324495,\n",
       "   'summary': 'Weight matrix 6/9 (512,512): Lognorm: 0.6324495077133179'},\n",
       "  6: {'N': 512,\n",
       "   'M': 512,\n",
       "   'Q': 1.0,\n",
       "   'norm': 4.401268,\n",
       "   'lognorm': 0.6435778,\n",
       "   'summary': 'Weight matrix 7/9 (512,512): Lognorm: 0.6435778141021729'},\n",
       "  7: {'N': 512,\n",
       "   'M': 512,\n",
       "   'Q': 1.0,\n",
       "   'norm': 4.616433,\n",
       "   'lognorm': 0.6643065,\n",
       "   'summary': 'Weight matrix 8/9 (512,512): Lognorm: 0.6643065214157104'},\n",
       "  8: {'N': 512,\n",
       "   'M': 512,\n",
       "   'Q': 1.0,\n",
       "   'norm': 4.391785,\n",
       "   'lognorm': 0.64264107,\n",
       "   'summary': 'Weight matrix 9/9 (512,512): Lognorm: 0.6426410675048828'}},\n",
       " 17: {'layer_type': <LAYER_TYPE.CONV2D: 4>,\n",
       "  0: {'N': 512,\n",
       "   'M': 512,\n",
       "   'Q': 1.0,\n",
       "   'norm': 4.2785525,\n",
       "   'lognorm': 0.6312969,\n",
       "   'summary': 'Weight matrix 1/9 (512,512): Lognorm: 0.6312968730926514'},\n",
       "  1: {'N': 512,\n",
       "   'M': 512,\n",
       "   'Q': 1.0,\n",
       "   'norm': 4.525857,\n",
       "   'lognorm': 0.6557008,\n",
       "   'summary': 'Weight matrix 2/9 (512,512): Lognorm: 0.6557008028030396'},\n",
       "  2: {'N': 512,\n",
       "   'M': 512,\n",
       "   'Q': 1.0,\n",
       "   'norm': 4.268781,\n",
       "   'lognorm': 0.6303039,\n",
       "   'summary': 'Weight matrix 3/9 (512,512): Lognorm: 0.6303039193153381'},\n",
       "  3: {'N': 512,\n",
       "   'M': 512,\n",
       "   'Q': 1.0,\n",
       "   'norm': 4.2651267,\n",
       "   'lognorm': 0.6299319,\n",
       "   'summary': 'Weight matrix 4/9 (512,512): Lognorm: 0.6299319267272949'},\n",
       "  4: {'N': 512,\n",
       "   'M': 512,\n",
       "   'Q': 1.0,\n",
       "   'norm': 4.7191625,\n",
       "   'lognorm': 0.6738649,\n",
       "   'summary': 'Weight matrix 5/9 (512,512): Lognorm: 0.6738649010658264'},\n",
       "  5: {'N': 512,\n",
       "   'M': 512,\n",
       "   'Q': 1.0,\n",
       "   'norm': 4.2333026,\n",
       "   'lognorm': 0.6266793,\n",
       "   'summary': 'Weight matrix 6/9 (512,512): Lognorm: 0.6266793012619019'},\n",
       "  6: {'N': 512,\n",
       "   'M': 512,\n",
       "   'Q': 1.0,\n",
       "   'norm': 4.2681537,\n",
       "   'lognorm': 0.63024,\n",
       "   'summary': 'Weight matrix 7/9 (512,512): Lognorm: 0.6302400231361389'},\n",
       "  7: {'N': 512,\n",
       "   'M': 512,\n",
       "   'Q': 1.0,\n",
       "   'norm': 4.5327334,\n",
       "   'lognorm': 0.6563602,\n",
       "   'summary': 'Weight matrix 8/9 (512,512): Lognorm: 0.6563602089881897'},\n",
       "  8: {'N': 512,\n",
       "   'M': 512,\n",
       "   'Q': 1.0,\n",
       "   'norm': 4.2659492,\n",
       "   'lognorm': 0.6300157,\n",
       "   'summary': 'Weight matrix 9/9 (512,512): Lognorm: 0.6300156712532043'}},\n",
       " 18: {'id': 18,\n",
       "  'type': <keras.layers.pooling.MaxPooling2D at 0xb2fab9710>,\n",
       "  'message': 'Skipping (Layer not supported)'},\n",
       " 19: {'id': 19,\n",
       "  'type': <keras.layers.core.Flatten at 0xb2fab9630>,\n",
       "  'message': 'Skipping (Layer not supported)'},\n",
       " 20: {'id': 20,\n",
       "  'type': <keras.layers.core.Dense at 0xb2fadce48>,\n",
       "  'layer_type': <LAYER_TYPE.DENSE: 1>,\n",
       "  0: {'N': 25088,\n",
       "   'M': 4096,\n",
       "   'Q': 6.125,\n",
       "   'norm': 23.42898,\n",
       "   'lognorm': 1.3697534,\n",
       "   'summary': 'Weight matrix 1/1 (4096,25088): Lognorm: 1.369753360748291'}},\n",
       " 21: {'id': 21,\n",
       "  'type': <keras.layers.core.Dense at 0xb2fb11668>,\n",
       "  'layer_type': <LAYER_TYPE.DENSE: 1>,\n",
       "  0: {'N': 4096,\n",
       "   'M': 4096,\n",
       "   'Q': 1.0,\n",
       "   'norm': 18.021769,\n",
       "   'lognorm': 1.2557974,\n",
       "   'summary': 'Weight matrix 1/1 (4096,4096): Lognorm: 1.2557973861694336'}},\n",
       " 22: {'id': 22,\n",
       "  'type': <keras.layers.core.Dense at 0xb2fb11b00>,\n",
       "  'layer_type': <LAYER_TYPE.DENSE: 1>,\n",
       "  0: {'N': 4096,\n",
       "   'M': 1000,\n",
       "   'Q': 4.096,\n",
       "   'norm': 16.757492,\n",
       "   'lognorm': 1.2242091,\n",
       "   'summary': 'Weight matrix 1/1 (1000,4096): Lognorm: 1.2242090702056885'}}}"
      ]
     },
     "execution_count": 4,
     "metadata": {},
     "output_type": "execute_result"
    }
   ],
   "source": [
    "results"
   ]
  },
  {
   "cell_type": "code",
   "execution_count": 5,
   "metadata": {
    "ExecuteTime": {
     "end_time": "2019-03-05T23:51:54.441885Z",
     "start_time": "2019-03-05T23:51:54.418688Z"
    }
   },
   "outputs": [
    {
     "data": {
      "text/plain": [
       "{'norm': 4.0186157,\n",
       " 'norm_compound': 6.753572,\n",
       " 'lognorm': 0.5674789,\n",
       " 'lognorm_compound': 0.69472766}"
      ]
     },
     "execution_count": 5,
     "metadata": {},
     "output_type": "execute_result"
    }
   ],
   "source": [
    "watcher.get_summary()"
   ]
  },
  {
   "cell_type": "code",
   "execution_count": 6,
   "metadata": {
    "ExecuteTime": {
     "end_time": "2019-03-05T23:51:54.487413Z",
     "start_time": "2019-03-05T23:51:54.454110Z"
    },
    "scrolled": true
   },
   "outputs": [
    {
     "name": "stderr",
     "output_type": "stream",
     "text": [
      "2019-11-03 17:30:55,864 INFO ### Printing results ###\n",
      "2019-11-03 17:30:58,896 INFO Norm: min: 2.4488985538482666, max: 23.428979873657227, avg: 4.01861572265625\n",
      "2019-11-03 17:30:58,898 INFO Norm compound: min: 2.728064775466919, max: 23.428979873657227, avg: 6.7535719871521\n",
      "2019-11-03 17:30:58,899 INFO LogNorm: min: 0.3889707922935486, max: 1.369753360748291, avg: 0.5674788951873779\n",
      "2019-11-03 17:30:58,900 INFO LogNorm compound: min: 0.43449220061302185, max: 1.369753360748291, avg: 0.6947276592254639\n"
     ]
    }
   ],
   "source": [
    "watcher.print_results()"
   ]
  },
  {
   "cell_type": "markdown",
   "metadata": {},
   "source": [
    "## 2. Advanced examples"
   ]
  },
  {
   "cell_type": "markdown",
   "metadata": {},
   "source": [
    "## 2.1 Filter by layer type (CONV1D, CONV2D, DENSE)\n",
    "\n",
    "In this example we are interested in the DENSE layers only"
   ]
  },
  {
   "cell_type": "code",
   "execution_count": null,
   "metadata": {
    "ExecuteTime": {
     "end_time": "2019-03-05T23:52:19.042816Z",
     "start_time": "2019-03-05T23:51:54.498749Z"
    },
    "scrolled": true
   },
   "outputs": [
    {
     "name": "stderr",
     "output_type": "stream",
     "text": [
      "2019-11-03 17:31:02,300 INFO \n",
      "\n",
      "python      version 3.7.3 (default, Mar 27 2019, 16:54:48) \n",
      "[Clang 4.0.1 (tags/RELEASE_401/final)]\n",
      "numpy       version 1.16.4\n",
      "tensforflow version 1.13.1\n",
      "keras       version 2.2.4\n",
      "2019-11-03 17:31:02,301 INFO Analyzing model 'vgg16' with 23 layers\n",
      "2019-11-03 17:31:02,880 INFO ### Printing results ###\n",
      "2019-11-03 17:31:03,442 INFO Norm: min: 16.757492065429688, max: 23.428979873657227, avg: 19.402746200561523\n",
      "2019-11-03 17:31:03,443 INFO Norm compound: min: 16.757492065429688, max: 23.428979873657227, avg: 19.402746200561523\n",
      "2019-11-03 17:31:03,445 INFO LogNorm: min: 1.2242090702056885, max: 1.369753360748291, avg: 1.2832533121109009\n",
      "2019-11-03 17:31:03,446 INFO LogNorm compound: min: 1.2242090702056885, max: 1.369753360748291, avg: 1.2832533121109009\n"
     ]
    },
    {
     "data": {
      "text/plain": [
       "{0: {'id': 0,\n",
       "  'type': <keras.engine.input_layer.InputLayer at 0xb3fe8dd68>,\n",
       "  'message': 'Skipping (Layer not supported)'},\n",
       " 1: {'layer_type': <LAYER_TYPE.CONV2D: 4>,\n",
       "  'message': 'Skipping (Layer type not requested to analyze)'},\n",
       " 2: {'layer_type': <LAYER_TYPE.CONV2D: 4>,\n",
       "  'message': 'Skipping (Layer type not requested to analyze)'},\n",
       " 3: {'id': 3,\n",
       "  'type': <keras.layers.pooling.MaxPooling2D at 0xb3fe8aa90>,\n",
       "  'message': 'Skipping (Layer not supported)'},\n",
       " 4: {'layer_type': <LAYER_TYPE.CONV2D: 4>,\n",
       "  'message': 'Skipping (Layer type not requested to analyze)'},\n",
       " 5: {'layer_type': <LAYER_TYPE.CONV2D: 4>,\n",
       "  'message': 'Skipping (Layer type not requested to analyze)'},\n",
       " 6: {'id': 6,\n",
       "  'type': <keras.layers.pooling.MaxPooling2D at 0xb3fedbeb8>,\n",
       "  'message': 'Skipping (Layer not supported)'},\n",
       " 7: {'layer_type': <LAYER_TYPE.CONV2D: 4>,\n",
       "  'message': 'Skipping (Layer type not requested to analyze)'},\n",
       " 8: {'layer_type': <LAYER_TYPE.CONV2D: 4>,\n",
       "  'message': 'Skipping (Layer type not requested to analyze)'},\n",
       " 9: {'layer_type': <LAYER_TYPE.CONV2D: 4>,\n",
       "  'message': 'Skipping (Layer type not requested to analyze)'},\n",
       " 10: {'id': 10,\n",
       "  'type': <keras.layers.pooling.MaxPooling2D at 0xb3ff64be0>,\n",
       "  'message': 'Skipping (Layer not supported)'},\n",
       " 11: {'layer_type': <LAYER_TYPE.CONV2D: 4>,\n",
       "  'message': 'Skipping (Layer type not requested to analyze)'},\n",
       " 12: {'layer_type': <LAYER_TYPE.CONV2D: 4>,\n",
       "  'message': 'Skipping (Layer type not requested to analyze)'},\n",
       " 13: {'layer_type': <LAYER_TYPE.CONV2D: 4>,\n",
       "  'message': 'Skipping (Layer type not requested to analyze)'},\n",
       " 14: {'id': 14,\n",
       "  'type': <keras.layers.pooling.MaxPooling2D at 0xb3ffed6d8>,\n",
       "  'message': 'Skipping (Layer not supported)'},\n",
       " 15: {'layer_type': <LAYER_TYPE.CONV2D: 4>,\n",
       "  'message': 'Skipping (Layer type not requested to analyze)'},\n",
       " 16: {'layer_type': <LAYER_TYPE.CONV2D: 4>,\n",
       "  'message': 'Skipping (Layer type not requested to analyze)'},\n",
       " 17: {'layer_type': <LAYER_TYPE.CONV2D: 4>,\n",
       "  'message': 'Skipping (Layer type not requested to analyze)'},\n",
       " 18: {'id': 18,\n",
       "  'type': <keras.layers.pooling.MaxPooling2D at 0xb3fdf9278>,\n",
       "  'message': 'Skipping (Layer not supported)'},\n",
       " 19: {'id': 19,\n",
       "  'type': <keras.layers.core.Flatten at 0xb3fdf96a0>,\n",
       "  'message': 'Skipping (Layer not supported)'},\n",
       " 20: {'id': 20,\n",
       "  'type': <keras.layers.core.Dense at 0xb3fe81978>,\n",
       "  'layer_type': <LAYER_TYPE.DENSE: 1>,\n",
       "  0: {'N': 25088,\n",
       "   'M': 4096,\n",
       "   'Q': 6.125,\n",
       "   'norm': 23.42898,\n",
       "   'lognorm': 1.3697534,\n",
       "   'summary': 'Weight matrix 1/1 (4096,25088): Lognorm: 1.369753360748291'}},\n",
       " 21: {'id': 21,\n",
       "  'type': <keras.layers.core.Dense at 0xb4009f5f8>,\n",
       "  'layer_type': <LAYER_TYPE.DENSE: 1>,\n",
       "  0: {'N': 4096,\n",
       "   'M': 4096,\n",
       "   'Q': 1.0,\n",
       "   'norm': 18.021769,\n",
       "   'lognorm': 1.2557974,\n",
       "   'summary': 'Weight matrix 1/1 (4096,4096): Lognorm: 1.2557973861694336'}},\n",
       " 22: {'id': 22,\n",
       "  'type': <keras.layers.core.Dense at 0xb4009fda0>,\n",
       "  'layer_type': <LAYER_TYPE.DENSE: 1>,\n",
       "  0: {'N': 4096,\n",
       "   'M': 1000,\n",
       "   'Q': 4.096,\n",
       "   'norm': 16.757492,\n",
       "   'lognorm': 1.2242091,\n",
       "   'summary': 'Weight matrix 1/1 (1000,4096): Lognorm: 1.2242090702056885'}}}"
      ]
     },
     "execution_count": 7,
     "metadata": {},
     "output_type": "execute_result"
    }
   ],
   "source": [
    "from keras.applications import vgg16\n",
    "\n",
    "kmodel = vgg16.VGG16\n",
    "model = kmodel(weights='imagenet')\n",
    "\n",
    "import weightwatcher as ww\n",
    "\n",
    "watcher = ww.WeightWatcher(model=model)\n",
    "\n",
    "watcher.analyze(layers=ww.LAYER_TYPE.DENSE)"
   ]
  },
  {
   "cell_type": "code",
   "execution_count": null,
   "metadata": {
    "ExecuteTime": {
     "end_time": "2019-03-05T23:52:19.078746Z",
     "start_time": "2019-03-05T23:52:19.050673Z"
    }
   },
   "outputs": [
    {
     "name": "stderr",
     "output_type": "stream",
     "text": [
      "2019-11-03 17:31:03,495 INFO ### Printing results ###\n",
      "2019-11-03 17:31:04,109 INFO Norm: min: 16.757492065429688, max: 23.428979873657227, avg: 19.402746200561523\n",
      "2019-11-03 17:31:04,110 INFO Norm compound: min: 16.757492065429688, max: 23.428979873657227, avg: 19.402746200561523\n",
      "2019-11-03 17:31:04,111 INFO LogNorm: min: 1.2242090702056885, max: 1.369753360748291, avg: 1.2832533121109009\n",
      "2019-11-03 17:31:04,113 INFO LogNorm compound: min: 1.2242090702056885, max: 1.369753360748291, avg: 1.2832533121109009\n"
     ]
    }
   ],
   "source": [
    "watcher.print_results()"
   ]
  },
  {
   "cell_type": "markdown",
   "metadata": {},
   "source": [
    "## 2.2 Filter by multiple layer types\n",
    "\n",
    "In this example we are interested in the CONV1D and DENSE layers.\n",
    "\n",
    "Filter the layers using a bitmask."
   ]
  },
  {
   "cell_type": "code",
   "execution_count": null,
   "metadata": {
    "ExecuteTime": {
     "end_time": "2019-03-05T23:52:20.812400Z",
     "start_time": "2019-03-05T23:52:19.101208Z"
    }
   },
   "outputs": [
    {
     "name": "stderr",
     "output_type": "stream",
     "text": [
      "2019-11-03 17:31:04,155 INFO \n",
      "\n",
      "python      version 3.7.3 (default, Mar 27 2019, 16:54:48) \n",
      "[Clang 4.0.1 (tags/RELEASE_401/final)]\n",
      "numpy       version 1.16.4\n",
      "tensforflow version 1.13.1\n",
      "keras       version 2.2.4\n",
      "2019-11-03 17:31:04,157 INFO Analyzing model 'vgg16' with 23 layers\n",
      "2019-11-03 17:31:04,669 INFO ### Printing results ###\n",
      "2019-11-03 17:31:05,256 INFO Norm: min: 16.757492065429688, max: 23.428979873657227, avg: 19.402746200561523\n",
      "2019-11-03 17:31:05,258 INFO Norm compound: min: 16.757492065429688, max: 23.428979873657227, avg: 19.402746200561523\n",
      "2019-11-03 17:31:05,259 INFO LogNorm: min: 1.2242090702056885, max: 1.369753360748291, avg: 1.2832533121109009\n",
      "2019-11-03 17:31:05,261 INFO LogNorm compound: min: 1.2242090702056885, max: 1.369753360748291, avg: 1.2832533121109009\n"
     ]
    },
    {
     "data": {
      "text/plain": [
       "{0: {'id': 0,\n",
       "  'type': <keras.engine.input_layer.InputLayer at 0xb3fe8dd68>,\n",
       "  'message': 'Skipping (Layer not supported)'},\n",
       " 1: {'layer_type': <LAYER_TYPE.CONV2D: 4>,\n",
       "  'message': 'Skipping (Layer type not requested to analyze)'},\n",
       " 2: {'layer_type': <LAYER_TYPE.CONV2D: 4>,\n",
       "  'message': 'Skipping (Layer type not requested to analyze)'},\n",
       " 3: {'id': 3,\n",
       "  'type': <keras.layers.pooling.MaxPooling2D at 0xb3fe8aa90>,\n",
       "  'message': 'Skipping (Layer not supported)'},\n",
       " 4: {'layer_type': <LAYER_TYPE.CONV2D: 4>,\n",
       "  'message': 'Skipping (Layer type not requested to analyze)'},\n",
       " 5: {'layer_type': <LAYER_TYPE.CONV2D: 4>,\n",
       "  'message': 'Skipping (Layer type not requested to analyze)'},\n",
       " 6: {'id': 6,\n",
       "  'type': <keras.layers.pooling.MaxPooling2D at 0xb3fedbeb8>,\n",
       "  'message': 'Skipping (Layer not supported)'},\n",
       " 7: {'layer_type': <LAYER_TYPE.CONV2D: 4>,\n",
       "  'message': 'Skipping (Layer type not requested to analyze)'},\n",
       " 8: {'layer_type': <LAYER_TYPE.CONV2D: 4>,\n",
       "  'message': 'Skipping (Layer type not requested to analyze)'},\n",
       " 9: {'layer_type': <LAYER_TYPE.CONV2D: 4>,\n",
       "  'message': 'Skipping (Layer type not requested to analyze)'},\n",
       " 10: {'id': 10,\n",
       "  'type': <keras.layers.pooling.MaxPooling2D at 0xb3ff64be0>,\n",
       "  'message': 'Skipping (Layer not supported)'},\n",
       " 11: {'layer_type': <LAYER_TYPE.CONV2D: 4>,\n",
       "  'message': 'Skipping (Layer type not requested to analyze)'},\n",
       " 12: {'layer_type': <LAYER_TYPE.CONV2D: 4>,\n",
       "  'message': 'Skipping (Layer type not requested to analyze)'},\n",
       " 13: {'layer_type': <LAYER_TYPE.CONV2D: 4>,\n",
       "  'message': 'Skipping (Layer type not requested to analyze)'},\n",
       " 14: {'id': 14,\n",
       "  'type': <keras.layers.pooling.MaxPooling2D at 0xb3ffed6d8>,\n",
       "  'message': 'Skipping (Layer not supported)'},\n",
       " 15: {'layer_type': <LAYER_TYPE.CONV2D: 4>,\n",
       "  'message': 'Skipping (Layer type not requested to analyze)'},\n",
       " 16: {'layer_type': <LAYER_TYPE.CONV2D: 4>,\n",
       "  'message': 'Skipping (Layer type not requested to analyze)'},\n",
       " 17: {'layer_type': <LAYER_TYPE.CONV2D: 4>,\n",
       "  'message': 'Skipping (Layer type not requested to analyze)'},\n",
       " 18: {'id': 18,\n",
       "  'type': <keras.layers.pooling.MaxPooling2D at 0xb3fdf9278>,\n",
       "  'message': 'Skipping (Layer not supported)'},\n",
       " 19: {'id': 19,\n",
       "  'type': <keras.layers.core.Flatten at 0xb3fdf96a0>,\n",
       "  'message': 'Skipping (Layer not supported)'},\n",
       " 20: {'id': 20,\n",
       "  'type': <keras.layers.core.Dense at 0xb3fe81978>,\n",
       "  'layer_type': <LAYER_TYPE.DENSE: 1>,\n",
       "  0: {'N': 25088,\n",
       "   'M': 4096,\n",
       "   'Q': 6.125,\n",
       "   'norm': 23.42898,\n",
       "   'lognorm': 1.3697534,\n",
       "   'summary': 'Weight matrix 1/1 (4096,25088): Lognorm: 1.369753360748291'}},\n",
       " 21: {'id': 21,\n",
       "  'type': <keras.layers.core.Dense at 0xb4009f5f8>,\n",
       "  'layer_type': <LAYER_TYPE.DENSE: 1>,\n",
       "  0: {'N': 4096,\n",
       "   'M': 4096,\n",
       "   'Q': 1.0,\n",
       "   'norm': 18.021769,\n",
       "   'lognorm': 1.2557974,\n",
       "   'summary': 'Weight matrix 1/1 (4096,4096): Lognorm: 1.2557973861694336'}},\n",
       " 22: {'id': 22,\n",
       "  'type': <keras.layers.core.Dense at 0xb4009fda0>,\n",
       "  'layer_type': <LAYER_TYPE.DENSE: 1>,\n",
       "  0: {'N': 4096,\n",
       "   'M': 1000,\n",
       "   'Q': 4.096,\n",
       "   'norm': 16.757492,\n",
       "   'lognorm': 1.2242091,\n",
       "   'summary': 'Weight matrix 1/1 (1000,4096): Lognorm: 1.2242090702056885'}}}"
      ]
     },
     "execution_count": 9,
     "metadata": {},
     "output_type": "execute_result"
    }
   ],
   "source": [
    "import weightwatcher as ww\n",
    "\n",
    "watcher = ww.WeightWatcher(model=model)\n",
    "\n",
    "watcher.analyze(layers=ww.LAYER_TYPE.CONV1D|ww.LAYER_TYPE.DENSE)"
   ]
  },
  {
   "cell_type": "markdown",
   "metadata": {},
   "source": [
    "## 2.3 Filter by layer Ids"
   ]
  },
  {
   "cell_type": "code",
   "execution_count": null,
   "metadata": {
    "ExecuteTime": {
     "end_time": "2019-03-05T23:52:22.428909Z",
     "start_time": "2019-03-05T23:52:20.830391Z"
    },
    "scrolled": false
   },
   "outputs": [
    {
     "name": "stderr",
     "output_type": "stream",
     "text": [
      "2019-11-03 17:31:05,316 INFO \n",
      "\n",
      "python      version 3.7.3 (default, Mar 27 2019, 16:54:48) \n",
      "[Clang 4.0.1 (tags/RELEASE_401/final)]\n",
      "numpy       version 1.16.4\n",
      "tensforflow version 1.13.1\n",
      "keras       version 2.2.4\n",
      "2019-11-03 17:31:05,318 INFO Analyzing model 'vgg16' with 23 layers\n",
      "2019-11-03 17:31:05,772 INFO ### Printing results ###\n",
      "2019-11-03 17:31:06,334 INFO Norm: min: 23.428979873657227, max: 23.428979873657227, avg: 23.428979873657227\n",
      "2019-11-03 17:31:06,335 INFO Norm compound: min: 23.428979873657227, max: 23.428979873657227, avg: 23.428979873657227\n",
      "2019-11-03 17:31:06,337 INFO LogNorm: min: 1.369753360748291, max: 1.369753360748291, avg: 1.369753360748291\n",
      "2019-11-03 17:31:06,338 INFO LogNorm compound: min: 1.369753360748291, max: 1.369753360748291, avg: 1.369753360748291\n"
     ]
    },
    {
     "data": {
      "text/plain": [
       "{0: {'id': 0,\n",
       "  'type': <keras.engine.input_layer.InputLayer at 0xb3fe8dd68>,\n",
       "  'message': 'Skipping (Layer id not requested to analyze)'},\n",
       " 1: {'id': 1,\n",
       "  'type': <keras.layers.convolutional.Conv2D at 0xb3fe8dc18>,\n",
       "  'message': 'Skipping (Layer id not requested to analyze)'},\n",
       " 2: {'id': 2,\n",
       "  'type': <keras.layers.convolutional.Conv2D at 0xb3fe8d8d0>,\n",
       "  'message': 'Skipping (Layer id not requested to analyze)'},\n",
       " 3: {'id': 3,\n",
       "  'type': <keras.layers.pooling.MaxPooling2D at 0xb3fe8aa90>,\n",
       "  'message': 'Skipping (Layer id not requested to analyze)'},\n",
       " 4: {'id': 4,\n",
       "  'type': <keras.layers.convolutional.Conv2D at 0xb3fe8a8d0>,\n",
       "  'message': 'Skipping (Layer id not requested to analyze)'},\n",
       " 5: {'id': 5,\n",
       "  'type': <keras.layers.convolutional.Conv2D at 0xb3fec2198>,\n",
       "  'message': 'Skipping (Layer id not requested to analyze)'},\n",
       " 6: {'id': 6,\n",
       "  'type': <keras.layers.pooling.MaxPooling2D at 0xb3fedbeb8>,\n",
       "  'message': 'Skipping (Layer id not requested to analyze)'},\n",
       " 7: {'id': 7,\n",
       "  'type': <keras.layers.convolutional.Conv2D at 0xb3fedb198>,\n",
       "  'message': 'Skipping (Layer id not requested to analyze)'},\n",
       " 8: {'id': 8,\n",
       "  'type': <keras.layers.convolutional.Conv2D at 0xb3ff14630>,\n",
       "  'message': 'Skipping (Layer id not requested to analyze)'},\n",
       " 9: {'id': 9,\n",
       "  'type': <keras.layers.convolutional.Conv2D at 0xb3ff32470>,\n",
       "  'message': 'Skipping (Layer id not requested to analyze)'},\n",
       " 10: {'id': 10,\n",
       "  'type': <keras.layers.pooling.MaxPooling2D at 0xb3ff64be0>,\n",
       "  'message': 'Skipping (Layer id not requested to analyze)'},\n",
       " 11: {'id': 11,\n",
       "  'type': <keras.layers.convolutional.Conv2D at 0xb3ff645f8>,\n",
       "  'message': 'Skipping (Layer id not requested to analyze)'},\n",
       " 12: {'id': 12,\n",
       "  'type': <keras.layers.convolutional.Conv2D at 0xb3ff9b358>,\n",
       "  'message': 'Skipping (Layer id not requested to analyze)'},\n",
       " 13: {'id': 13,\n",
       "  'type': <keras.layers.convolutional.Conv2D at 0xb3ffb8e48>,\n",
       "  'message': 'Skipping (Layer id not requested to analyze)'},\n",
       " 14: {'id': 14,\n",
       "  'type': <keras.layers.pooling.MaxPooling2D at 0xb3ffed6d8>,\n",
       "  'message': 'Skipping (Layer id not requested to analyze)'},\n",
       " 15: {'id': 15,\n",
       "  'type': <keras.layers.convolutional.Conv2D at 0xb3ffed128>,\n",
       "  'message': 'Skipping (Layer id not requested to analyze)'},\n",
       " 16: {'id': 16,\n",
       "  'type': <keras.layers.convolutional.Conv2D at 0xb3fe0ce80>,\n",
       "  'message': 'Skipping (Layer id not requested to analyze)'},\n",
       " 17: {'id': 17,\n",
       "  'type': <keras.layers.convolutional.Conv2D at 0xb40041400>,\n",
       "  'message': 'Skipping (Layer id not requested to analyze)'},\n",
       " 18: {'id': 18,\n",
       "  'type': <keras.layers.pooling.MaxPooling2D at 0xb3fdf9278>,\n",
       "  'message': 'Skipping (Layer id not requested to analyze)'},\n",
       " 19: {'id': 19,\n",
       "  'type': <keras.layers.core.Flatten at 0xb3fdf96a0>,\n",
       "  'message': 'Skipping (Layer id not requested to analyze)'},\n",
       " 20: {'id': 20,\n",
       "  'type': <keras.layers.core.Dense at 0xb3fe81978>,\n",
       "  'layer_type': <LAYER_TYPE.DENSE: 1>,\n",
       "  0: {'N': 25088,\n",
       "   'M': 4096,\n",
       "   'Q': 6.125,\n",
       "   'norm': 23.42898,\n",
       "   'lognorm': 1.3697534,\n",
       "   'summary': 'Weight matrix 1/1 (4096,25088): Lognorm: 1.369753360748291'}},\n",
       " 21: {'id': 21,\n",
       "  'type': <keras.layers.core.Dense at 0xb4009f5f8>,\n",
       "  'message': 'Skipping (Layer id not requested to analyze)'},\n",
       " 22: {'id': 22,\n",
       "  'type': <keras.layers.core.Dense at 0xb4009fda0>,\n",
       "  'message': 'Skipping (Layer id not requested to analyze)'}}"
      ]
     },
     "execution_count": 10,
     "metadata": {},
     "output_type": "execute_result"
    }
   ],
   "source": [
    "import weightwatcher as ww\n",
    "\n",
    "watcher = ww.WeightWatcher(model=model)\n",
    "\n",
    "watcher.analyze(layers=[20])"
   ]
  },
  {
   "cell_type": "markdown",
   "metadata": {
    "ExecuteTime": {
     "end_time": "2018-10-01T22:51:12.554859Z",
     "start_time": "2018-10-01T22:51:12.518859Z"
    }
   },
   "source": [
    "## 2.4 Get the return values per layer"
   ]
  },
  {
   "cell_type": "code",
   "execution_count": null,
   "metadata": {
    "ExecuteTime": {
     "end_time": "2019-03-05T23:52:24.982563Z",
     "start_time": "2019-03-05T23:52:22.440026Z"
    }
   },
   "outputs": [
    {
     "name": "stderr",
     "output_type": "stream",
     "text": [
      "2019-11-03 17:31:06,379 INFO \n",
      "\n",
      "python      version 3.7.3 (default, Mar 27 2019, 16:54:48) \n",
      "[Clang 4.0.1 (tags/RELEASE_401/final)]\n",
      "numpy       version 1.16.4\n",
      "tensforflow version 1.13.1\n",
      "keras       version 2.2.4\n",
      "2019-11-03 17:31:06,381 INFO Analyzing model 'vgg16' with 23 layers\n",
      "2019-11-03 17:31:07,196 INFO ### Printing results ###\n",
      "2019-11-03 17:31:09,081 INFO Norm: min: 2.4488985538482666, max: 23.428979873657227, avg: 4.01861572265625\n",
      "2019-11-03 17:31:09,082 INFO Norm compound: min: 2.728064775466919, max: 23.428979873657227, avg: 6.7535719871521\n",
      "2019-11-03 17:31:09,082 INFO LogNorm: min: 0.3889707922935486, max: 1.369753360748291, avg: 0.5674788951873779\n",
      "2019-11-03 17:31:09,083 INFO LogNorm compound: min: 0.43449220061302185, max: 1.369753360748291, avg: 0.6947276592254639\n"
     ]
    }
   ],
   "source": [
    "import weightwatcher as ww\n",
    "\n",
    "watcher = ww.WeightWatcher(model=model)\n",
    "\n",
    "results = watcher.analyze()"
   ]
  },
  {
   "cell_type": "code",
   "execution_count": null,
   "metadata": {
    "ExecuteTime": {
     "end_time": "2019-03-05T23:52:25.022930Z",
     "start_time": "2019-03-05T23:52:24.990119Z"
    }
   },
   "outputs": [
    {
     "name": "stdout",
     "output_type": "stream",
     "text": [
      "Layer 2, Slice 0: Lognorm: 0.3978934586048126\n",
      "Layer 2, Slice 1: Lognorm: 0.45358702540397644\n",
      "Layer 2, Slice 2: Lognorm: 0.40578144788742065\n",
      "Layer 2, Slice 3: Lognorm: 0.45428669452667236\n",
      "Layer 2, Slice 4: Lognorm: 0.49695152044296265\n",
      "Layer 2, Slice 5: Lognorm: 0.45737624168395996\n",
      "Layer 2, Slice 6: Lognorm: 0.4044671952724457\n",
      "Layer 2, Slice 7: Lognorm: 0.4511153995990753\n",
      "Layer 2, Slice 8: Lognorm: 0.3889707922935486\n",
      "Layer 4, Slice 0: Lognorm: 0.44109997153282166\n",
      "Layer 4, Slice 1: Lognorm: 0.4613628089427948\n",
      "Layer 4, Slice 2: Lognorm: 0.4370166063308716\n",
      "Layer 4, Slice 3: Lognorm: 0.4667660593986511\n",
      "Layer 4, Slice 4: Lognorm: 0.5201410055160522\n",
      "Layer 4, Slice 5: Lognorm: 0.46935534477233887\n",
      "Layer 4, Slice 6: Lognorm: 0.4464665651321411\n",
      "Layer 4, Slice 7: Lognorm: 0.48161619901657104\n",
      "Layer 4, Slice 8: Lognorm: 0.4471622705459595\n",
      "Layer 5, Slice 0: Lognorm: 0.45507872104644775\n",
      "Layer 5, Slice 1: Lognorm: 0.4839082956314087\n",
      "Layer 5, Slice 2: Lognorm: 0.4593982994556427\n",
      "Layer 5, Slice 3: Lognorm: 0.48676982522010803\n",
      "Layer 5, Slice 4: Lognorm: 0.5329121351242065\n",
      "Layer 5, Slice 5: Lognorm: 0.486453115940094\n",
      "Layer 5, Slice 6: Lognorm: 0.4555995762348175\n",
      "Layer 5, Slice 7: Lognorm: 0.4885979890823364\n",
      "Layer 5, Slice 8: Lognorm: 0.44975680112838745\n",
      "Layer 7, Slice 0: Lognorm: 0.4331028163433075\n",
      "Layer 7, Slice 1: Lognorm: 0.501900315284729\n",
      "Layer 7, Slice 2: Lognorm: 0.435834139585495\n",
      "Layer 7, Slice 3: Lognorm: 0.5173439979553223\n",
      "Layer 7, Slice 4: Lognorm: 0.630874752998352\n",
      "Layer 7, Slice 5: Lognorm: 0.5137887597084045\n",
      "Layer 7, Slice 6: Lognorm: 0.4312974512577057\n",
      "Layer 7, Slice 7: Lognorm: 0.4997106194496155\n",
      "Layer 7, Slice 8: Lognorm: 0.42677345871925354\n",
      "Layer 8, Slice 0: Lognorm: 0.4611811339855194\n",
      "Layer 8, Slice 1: Lognorm: 0.5103281140327454\n",
      "Layer 8, Slice 2: Lognorm: 0.46348103880882263\n",
      "Layer 8, Slice 3: Lognorm: 0.5043201446533203\n",
      "Layer 8, Slice 4: Lognorm: 0.5939016342163086\n",
      "Layer 8, Slice 5: Lognorm: 0.5075631737709045\n",
      "Layer 8, Slice 6: Lognorm: 0.45727992057800293\n",
      "Layer 8, Slice 7: Lognorm: 0.5017167329788208\n",
      "Layer 8, Slice 8: Lognorm: 0.4612100124359131\n",
      "Layer 9, Slice 0: Lognorm: 0.4767092168331146\n",
      "Layer 9, Slice 1: Lognorm: 0.5228332281112671\n",
      "Layer 9, Slice 2: Lognorm: 0.48029711842536926\n",
      "Layer 9, Slice 3: Lognorm: 0.5129597187042236\n",
      "Layer 9, Slice 4: Lognorm: 0.5902463793754578\n",
      "Layer 9, Slice 5: Lognorm: 0.52484530210495\n",
      "Layer 9, Slice 6: Lognorm: 0.4757029116153717\n",
      "Layer 9, Slice 7: Lognorm: 0.5153259038925171\n",
      "Layer 9, Slice 8: Lognorm: 0.4783079922199249\n",
      "Layer 11, Slice 0: Lognorm: 0.533117413520813\n",
      "Layer 11, Slice 1: Lognorm: 0.5677251815795898\n",
      "Layer 11, Slice 2: Lognorm: 0.5357765555381775\n",
      "Layer 11, Slice 3: Lognorm: 0.5680774450302124\n",
      "Layer 11, Slice 4: Lognorm: 0.6403180360794067\n",
      "Layer 11, Slice 5: Lognorm: 0.5651501417160034\n",
      "Layer 11, Slice 6: Lognorm: 0.5288752317428589\n",
      "Layer 11, Slice 7: Lognorm: 0.5627536177635193\n",
      "Layer 11, Slice 8: Lognorm: 0.5263329744338989\n",
      "Layer 12, Slice 0: Lognorm: 0.5816661715507507\n",
      "Layer 12, Slice 1: Lognorm: 0.5994589924812317\n",
      "Layer 12, Slice 2: Lognorm: 0.5804641246795654\n",
      "Layer 12, Slice 3: Lognorm: 0.5878161787986755\n",
      "Layer 12, Slice 4: Lognorm: 0.6349806785583496\n",
      "Layer 12, Slice 5: Lognorm: 0.5888810753822327\n",
      "Layer 12, Slice 6: Lognorm: 0.5777970552444458\n",
      "Layer 12, Slice 7: Lognorm: 0.5947223901748657\n",
      "Layer 12, Slice 8: Lognorm: 0.5786637663841248\n",
      "Layer 13, Slice 0: Lognorm: 0.598810613155365\n",
      "Layer 13, Slice 1: Lognorm: 0.6240571737289429\n",
      "Layer 13, Slice 2: Lognorm: 0.6002294421195984\n",
      "Layer 13, Slice 3: Lognorm: 0.6069266200065613\n",
      "Layer 13, Slice 4: Lognorm: 0.6537207961082458\n",
      "Layer 13, Slice 5: Lognorm: 0.6051104664802551\n",
      "Layer 13, Slice 6: Lognorm: 0.596659243106842\n",
      "Layer 13, Slice 7: Lognorm: 0.6204671859741211\n",
      "Layer 13, Slice 8: Lognorm: 0.5969995856285095\n",
      "Layer 15, Slice 0: Lognorm: 0.6414387226104736\n",
      "Layer 15, Slice 1: Lognorm: 0.658482551574707\n",
      "Layer 15, Slice 2: Lognorm: 0.6415495276451111\n",
      "Layer 15, Slice 3: Lognorm: 0.6379082798957825\n",
      "Layer 15, Slice 4: Lognorm: 0.6930620670318604\n",
      "Layer 15, Slice 5: Lognorm: 0.6355615258216858\n",
      "Layer 15, Slice 6: Lognorm: 0.6379796266555786\n",
      "Layer 15, Slice 7: Lognorm: 0.6546915769577026\n",
      "Layer 15, Slice 8: Lognorm: 0.6379215717315674\n",
      "Layer 16, Slice 0: Lognorm: 0.6483020782470703\n",
      "Layer 16, Slice 1: Lognorm: 0.6716188788414001\n",
      "Layer 16, Slice 2: Lognorm: 0.6487486958503723\n",
      "Layer 16, Slice 3: Lognorm: 0.6313163042068481\n",
      "Layer 16, Slice 4: Lognorm: 0.690161406993866\n",
      "Layer 16, Slice 5: Lognorm: 0.6324495077133179\n",
      "Layer 16, Slice 6: Lognorm: 0.6435778141021729\n",
      "Layer 16, Slice 7: Lognorm: 0.6643065214157104\n",
      "Layer 16, Slice 8: Lognorm: 0.6426410675048828\n",
      "Layer 17, Slice 0: Lognorm: 0.6312968730926514\n",
      "Layer 17, Slice 1: Lognorm: 0.6557008028030396\n",
      "Layer 17, Slice 2: Lognorm: 0.6303039193153381\n",
      "Layer 17, Slice 3: Lognorm: 0.6299319267272949\n",
      "Layer 17, Slice 4: Lognorm: 0.6738649010658264\n",
      "Layer 17, Slice 5: Lognorm: 0.6266793012619019\n",
      "Layer 17, Slice 6: Lognorm: 0.6302400231361389\n",
      "Layer 17, Slice 7: Lognorm: 0.6563602089881897\n",
      "Layer 17, Slice 8: Lognorm: 0.6300156712532043\n",
      "Layer 20, Slice 0: Lognorm: 1.369753360748291\n",
      "Layer 21, Slice 0: Lognorm: 1.2557973861694336\n",
      "Layer 22, Slice 0: Lognorm: 1.2242090702056885\n"
     ]
    }
   ],
   "source": [
    "for layer_id, result in results.items():\n",
    "    for slice_id, summary in result.items():\n",
    "        if not str(slice_id).isdigit() or \"lognorm\" not in summary:\n",
    "            continue\n",
    "        lognorm = summary[\"lognorm\"]\n",
    "        print(\"Layer {}, Slice {}: Lognorm: {}\".format(layer_id, slice_id, lognorm))    "
   ]
  },
  {
   "cell_type": "markdown",
   "metadata": {
    "ExecuteTime": {
     "end_time": "2018-10-01T22:51:12.554859Z",
     "start_time": "2018-10-01T22:51:12.518859Z"
    }
   },
   "source": [
    "## 2.5 Power Law Fit"
   ]
  },
  {
   "cell_type": "code",
   "execution_count": null,
   "metadata": {
    "ExecuteTime": {
     "end_time": "2019-03-06T00:16:38.794143Z",
     "start_time": "2019-03-05T23:52:25.030000Z"
    }
   },
   "outputs": [
    {
     "name": "stderr",
     "output_type": "stream",
     "text": [
      "2019-11-03 17:31:09,120 INFO \n",
      "\n",
      "python      version 3.7.3 (default, Mar 27 2019, 16:54:48) \n",
      "[Clang 4.0.1 (tags/RELEASE_401/final)]\n",
      "numpy       version 1.16.4\n",
      "tensforflow version 1.13.1\n",
      "keras       version 2.2.4\n",
      "2019-11-03 17:31:09,121 INFO Analyzing model 'vgg16' with 23 layers\n"
     ]
    }
   ],
   "source": [
    "import weightwatcher as ww\n",
    "\n",
    "watcher = ww.WeightWatcher(model=model)\n",
    "\n",
    "results = watcher.analyze(alphas=True)"
   ]
  },
  {
   "cell_type": "markdown",
   "metadata": {
    "ExecuteTime": {
     "end_time": "2018-10-01T22:51:12.554859Z",
     "start_time": "2018-10-01T22:51:12.518859Z"
    }
   },
   "source": [
    "## 2.6 Debug and Custom Logging"
   ]
  },
  {
   "cell_type": "markdown",
   "metadata": {
    "ExecuteTime": {
     "end_time": "2018-10-01T22:51:12.554859Z",
     "start_time": "2018-10-01T22:51:12.518859Z"
    }
   },
   "source": [
    "### Custom Logging at Debug Level"
   ]
  },
  {
   "cell_type": "code",
   "execution_count": null,
   "metadata": {
    "ExecuteTime": {
     "end_time": "2019-03-06T00:16:41.769719Z",
     "start_time": "2019-03-06T00:16:38.803181Z"
    }
   },
   "outputs": [],
   "source": [
    "import logging\n",
    "logging.basicConfig(level=logging.INFO)\n",
    "logger = logging.getLogger(__name__)\n",
    "logger.setLevel(logging.DEBUG)\n",
    "\n",
    "import weightwatcher as ww\n",
    "\n",
    "watcher = ww.WeightWatcher(model=model, logger=logger)\n",
    "\n",
    "results = watcher.analyze()"
   ]
  },
  {
   "cell_type": "markdown",
   "metadata": {
    "ExecuteTime": {
     "end_time": "2018-10-01T22:51:12.554859Z",
     "start_time": "2018-10-01T22:51:12.518859Z"
    }
   },
   "source": [
    "### Disable Logging"
   ]
  },
  {
   "cell_type": "code",
   "execution_count": null,
   "metadata": {
    "ExecuteTime": {
     "end_time": "2019-03-06T00:16:43.234403Z",
     "start_time": "2019-03-06T00:16:41.779045Z"
    }
   },
   "outputs": [],
   "source": [
    "import weightwatcher as ww\n",
    "\n",
    "watcher = ww.WeightWatcher(model=model, log=False)\n",
    "\n",
    "results = watcher.analyze()"
   ]
  },
  {
   "cell_type": "markdown",
   "metadata": {},
   "source": [
    "## 3. pyTorch Models"
   ]
  },
  {
   "cell_type": "code",
   "execution_count": null,
   "metadata": {
    "ExecuteTime": {
     "end_time": "2019-03-06T00:16:43.249725Z",
     "start_time": "2019-03-06T00:16:43.240611Z"
    }
   },
   "outputs": [],
   "source": [
    "data = []"
   ]
  },
  {
   "cell_type": "code",
   "execution_count": null,
   "metadata": {
    "ExecuteTime": {
     "end_time": "2019-03-06T00:40:17.723085Z",
     "start_time": "2019-03-06T00:16:43.259483Z"
    }
   },
   "outputs": [],
   "source": [
    "import weightwatcher as ww\n",
    "import torchvision.models as models\n",
    "\n",
    "model = models.vgg16(pretrained=True)\n",
    "\n",
    "watcher = ww.WeightWatcher(model=model)\n",
    "\n",
    "results = watcher.analyze(alphas=True)\n",
    "\n",
    "data.append({\"name\": \"vgg16torch\", \"summary\": watcher.get_summary()})"
   ]
  },
  {
   "cell_type": "code",
   "execution_count": null,
   "metadata": {
    "ExecuteTime": {
     "end_time": "2019-03-06T01:03:30.884210Z",
     "start_time": "2019-03-06T00:40:17.729503Z"
    }
   },
   "outputs": [],
   "source": [
    "import weightwatcher as ww\n",
    "import torchvision.models as models\n",
    "\n",
    "model = models.vgg16_bn(pretrained=True)\n",
    "\n",
    "watcher = ww.WeightWatcher(model=model)\n",
    "\n",
    "results = watcher.analyze(alphas=True)\n",
    "\n",
    "data.append({\"name\": \"vgg16bntorch\", \"summary\": watcher.get_summary()})"
   ]
  },
  {
   "cell_type": "code",
   "execution_count": null,
   "metadata": {
    "ExecuteTime": {
     "end_time": "2019-03-06T01:24:27.165312Z",
     "start_time": "2019-03-06T01:03:30.908016Z"
    }
   },
   "outputs": [],
   "source": [
    "import weightwatcher as ww\n",
    "import torchvision.models as models\n",
    "\n",
    "model = models.vgg11(pretrained=True)\n",
    "\n",
    "watcher = ww.WeightWatcher(model=model)\n",
    "\n",
    "results = watcher.analyze(alphas=True)\n",
    "\n",
    "data.append({\"name\": \"vgg11torch\", \"summary\": watcher.get_summary()})"
   ]
  },
  {
   "cell_type": "code",
   "execution_count": null,
   "metadata": {
    "ExecuteTime": {
     "end_time": "2019-03-06T01:45:08.643722Z",
     "start_time": "2019-03-06T01:24:27.176445Z"
    }
   },
   "outputs": [],
   "source": [
    "import weightwatcher as ww\n",
    "import torchvision.models as models\n",
    "\n",
    "model = models.vgg11_bn(pretrained=True)\n",
    "\n",
    "watcher = ww.WeightWatcher(model=model)\n",
    "\n",
    "results = watcher.analyze(alphas=True)\n",
    "\n",
    "data.append({\"name\": \"vgg11bntorch\", \"summary\": watcher.get_summary()})"
   ]
  },
  {
   "cell_type": "code",
   "execution_count": null,
   "metadata": {
    "ExecuteTime": {
     "end_time": "2019-03-06T02:07:08.066376Z",
     "start_time": "2019-03-06T01:45:08.651095Z"
    }
   },
   "outputs": [],
   "source": [
    "import weightwatcher as ww\n",
    "import torchvision.models as models\n",
    "\n",
    "model = models.vgg13(pretrained=True)\n",
    "\n",
    "watcher = ww.WeightWatcher(model=model)\n",
    "\n",
    "results = watcher.analyze(alphas=True)\n",
    "\n",
    "data.append({\"name\": \"vgg13torch\", \"summary\": watcher.get_summary()})"
   ]
  },
  {
   "cell_type": "code",
   "execution_count": null,
   "metadata": {
    "ExecuteTime": {
     "end_time": "2019-03-06T02:28:16.756345Z",
     "start_time": "2019-03-06T02:07:08.077271Z"
    }
   },
   "outputs": [],
   "source": [
    "import weightwatcher as ww\n",
    "import torchvision.models as models\n",
    "\n",
    "model = models.vgg13_bn(pretrained=True)\n",
    "\n",
    "watcher = ww.WeightWatcher(model=model)\n",
    "\n",
    "results = watcher.analyze(alphas=True)\n",
    "\n",
    "data.append({\"name\": \"vgg13bntorch\", \"summary\": watcher.get_summary()})"
   ]
  },
  {
   "cell_type": "code",
   "execution_count": null,
   "metadata": {
    "ExecuteTime": {
     "end_time": "2019-03-06T02:52:14.088253Z",
     "start_time": "2019-03-06T02:28:16.767312Z"
    }
   },
   "outputs": [],
   "source": [
    "import weightwatcher as ww\n",
    "import torchvision.models as models\n",
    "\n",
    "model = models.vgg19(pretrained=True)\n",
    "\n",
    "watcher = ww.WeightWatcher(model=model)\n",
    "\n",
    "results = watcher.analyze(alphas=True)\n",
    "\n",
    "data.append({\"name\": \"vgg19torch\", \"summary\": watcher.get_summary()})"
   ]
  },
  {
   "cell_type": "code",
   "execution_count": null,
   "metadata": {
    "ExecuteTime": {
     "end_time": "2019-03-06T03:16:03.620082Z",
     "start_time": "2019-03-06T02:52:14.095969Z"
    }
   },
   "outputs": [],
   "source": [
    "import weightwatcher as ww\n",
    "import torchvision.models as models\n",
    "\n",
    "model = models.vgg19_bn(pretrained=True)\n",
    "\n",
    "watcher = ww.WeightWatcher(model=model)\n",
    "\n",
    "results = watcher.analyze(alphas=True)\n",
    "\n",
    "data.append({\"name\": \"vgg19bntorch\", \"summary\": watcher.get_summary()})"
   ]
  },
  {
   "cell_type": "code",
   "execution_count": null,
   "metadata": {
    "ExecuteTime": {
     "end_time": "2019-03-06T03:16:03.656840Z",
     "start_time": "2019-03-06T03:16:03.629371Z"
    }
   },
   "outputs": [],
   "source": [
    "data"
   ]
  },
  {
   "cell_type": "code",
   "execution_count": null,
   "metadata": {
    "ExecuteTime": {
     "end_time": "2019-03-06T03:16:03.721719Z",
     "start_time": "2019-03-06T03:16:03.665193Z"
    }
   },
   "outputs": [],
   "source": [
    "# pytorch Model accuracies \n",
    "# https://github.com/Cadene/pretrained-models.pytorch\n",
    "\n",
    "accuracies = {\n",
    "    \"vgg11torch\": 68.970,\n",
    "    \"vgg11bntorch\": 70.452,\n",
    "    \"vgg13torch\": 69.662,\n",
    "    \"vgg13bntorch\": 71.508,\n",
    "    \"vgg16torch\": 71.636,\n",
    "    \"vgg16bntorch\": 73.518,\n",
    "    \"vgg19torch\": 72.080,\n",
    "    \"vgg19bntorch\": 74.266,\n",
    "}"
   ]
  },
  {
   "cell_type": "code",
   "execution_count": null,
   "metadata": {
    "ExecuteTime": {
     "end_time": "2019-03-06T03:16:03.740667Z",
     "start_time": "2019-03-06T03:16:03.728138Z"
    }
   },
   "outputs": [],
   "source": [
    "# pytorch Model accuracies \n",
    "# https://github.com/Cadene/pretrained-models.pytorch\n",
    "\n",
    "accuracies5 = {\n",
    "    \"vgg11torch\": 88.746,\n",
    "    \"vgg11bntorch\": 89.818,\n",
    "    \"vgg13torch\": 89.264,\n",
    "    \"vgg13bntorch\": 90.494,\n",
    "    \"vgg16torch\": 90.354,\n",
    "    \"vgg16bntorch\": 91.608,\n",
    "    \"vgg19torch\": 90.822,\n",
    "    \"vgg19bntorch\": 92.066,\n",
    "}"
   ]
  },
  {
   "cell_type": "markdown",
   "metadata": {},
   "source": [
    "### 3.1 Log Norm of Weight Matrices vs Accuracies of models"
   ]
  },
  {
   "cell_type": "markdown",
   "metadata": {},
   "source": [
    "The following graph demonstrates the linear relationship between the average Log Norm of Weight matrices and the test accuracies of the models (notice we didnt't need the test data):"
   ]
  },
  {
   "cell_type": "code",
   "execution_count": null,
   "metadata": {
    "ExecuteTime": {
     "end_time": "2019-03-06T03:16:06.458114Z",
     "start_time": "2019-03-06T03:16:03.747317Z"
    }
   },
   "outputs": [],
   "source": [
    "import matplotlib.pyplot as plt\n",
    "%matplotlib inline\n",
    "plt.rcParams['figure.figsize'] = [8,8]\n",
    "\n",
    "for modelname, accuracy in accuracies5.items():\n",
    "    x = accuracy\n",
    "    summary = [d[\"summary\"] for d in data if d[\"name\"] == modelname]\n",
    "    y = summary[0][\"lognorm\"]\n",
    "    label = modelname\n",
    "    plt.scatter(x,y,label=label)\n",
    "\n",
    "plt.legend()\n",
    "plt.title(r\"Test Accuracy vs Average Log Norm $\\langle\\log\\Vert W\\Vert\\rangle$\"+\"\\nPretrained VGG and VGG_BN Models\")\n",
    "plt.xlabel(r\"Test Accuracy\")\n",
    "plt.ylabel(r\"$\\langle\\log\\Vert W\\Vert\\rangle$\");"
   ]
  },
  {
   "cell_type": "markdown",
   "metadata": {},
   "source": [
    "Let's compare the average Log Norm with the average Log Norm compound:"
   ]
  },
  {
   "cell_type": "code",
   "execution_count": null,
   "metadata": {
    "ExecuteTime": {
     "end_time": "2019-03-06T03:16:07.301228Z",
     "start_time": "2019-03-06T03:16:06.465048Z"
    }
   },
   "outputs": [],
   "source": [
    "import matplotlib.pyplot as plt\n",
    "%matplotlib inline\n",
    "plt.rcParams['figure.figsize'] = [8,8]\n",
    "\n",
    "x = []\n",
    "y1, y2 = [], []\n",
    "for modelname, accuracy in accuracies5.items():\n",
    "    x.append(accuracy)\n",
    "    summary = [d[\"summary\"] for d in data if d[\"name\"] == modelname]\n",
    "    y1.append(summary[0][\"lognorm\"])\n",
    "    y2.append(summary[0][\"lognorm_compound\"])\n",
    "    label = modelname\n",
    "plt.scatter(x,y1,label=\"Log Norm\", color='r')\n",
    "plt.scatter(x,y2,label=\"Log Norm Compound\", color='b')\n",
    "\n",
    "plt.legend()\n",
    "plt.title(r\"Test Accuracy vs (Average Log Norm $\\langle\\log\\Vert W\\Vert\\rangle$ and Log Norm Compound)\"+\"\\nPretrained VGG and VGG_BN Models\")\n",
    "plt.xlabel(r\"Test Accuracy\")\n",
    "plt.ylabel(r\"$\\langle\\log\\Vert W\\Vert\\rangle$\");"
   ]
  },
  {
   "cell_type": "markdown",
   "metadata": {},
   "source": [
    "### 3.2 Power law fitting (Alpha) of Weight Matrices vs Accuracies of models"
   ]
  },
  {
   "cell_type": "markdown",
   "metadata": {},
   "source": [
    "The linear relationship between the Power law fitting (Alpha) of the weight matrices and the accuracies of the models is demonstrated in the following graph:"
   ]
  },
  {
   "cell_type": "code",
   "execution_count": null,
   "metadata": {
    "ExecuteTime": {
     "end_time": "2019-03-06T03:16:08.268963Z",
     "start_time": "2019-03-06T03:16:07.307689Z"
    }
   },
   "outputs": [],
   "source": [
    "import matplotlib.pyplot as plt\n",
    "%matplotlib inline\n",
    "plt.rcParams['figure.figsize'] = [8,8]\n",
    "\n",
    "for modelname, accuracy in accuracies5.items():\n",
    "    x = accuracy\n",
    "    summary = [d[\"summary\"] for d in data if d[\"name\"] == modelname]\n",
    "    y = summary[0][\"alpha_weighted\"]\n",
    "    label = modelname\n",
    "    plt.scatter(x,y,label=label)\n",
    "\n",
    "plt.legend()\n",
    "plt.title(r\"Test Accuracy vs Weighted Alpha\"+\"\\nPretrained VGG and VGG_BN Models\")\n",
    "plt.xlabel(r\"Test Accuracy\")\n",
    "plt.ylabel(r\"Weighted Alpha\");"
   ]
  },
  {
   "cell_type": "markdown",
   "metadata": {},
   "source": [
    "The more accurate the model, the lower the exponent of the power law fit of the weight matrices is."
   ]
  },
  {
   "cell_type": "code",
   "execution_count": null,
   "metadata": {
    "ExecuteTime": {
     "end_time": "2019-03-06T03:16:09.090898Z",
     "start_time": "2019-03-06T03:16:08.275006Z"
    }
   },
   "outputs": [],
   "source": [
    "import matplotlib.pyplot as plt\n",
    "%matplotlib inline\n",
    "plt.rcParams['figure.figsize'] = [8,8]\n",
    "\n",
    "x = []\n",
    "y1, y2 = [], []\n",
    "for modelname, accuracy in accuracies5.items():\n",
    "    x.append(accuracy)\n",
    "    summary = [d[\"summary\"] for d in data if d[\"name\"] == modelname]\n",
    "    y1.append(summary[0][\"alpha_weighted\"])\n",
    "    y2.append(summary[0][\"alpha_weighted_compound\"])\n",
    "plt.scatter(x,y1,label=\"Weighted Alpha\", color='r')\n",
    "plt.scatter(x,y2,label=\"Weighted Alpha Compound\", color='b')\n",
    "\n",
    "plt.legend()\n",
    "plt.title(r\"Test Accuracy vs (Weighted Alpha and Weighted Alpha compound)\"+\"\\nPretrained VGG and VGG_BN Models\")\n",
    "plt.xlabel(r\"Test Accuracy\")\n",
    "plt.ylabel(r\"Weighted Alpha\");"
   ]
  },
  {
   "cell_type": "markdown",
   "metadata": {},
   "source": [
    "## 4. Conclusion"
   ]
  },
  {
   "cell_type": "markdown",
   "metadata": {},
   "source": [
    "WeightWatcher helps you choose the best pretrained model for your needs.\n",
    "\n",
    "You can use WeightWatcher to compare several pretrained models and choose the one with the lowest Log Norm."
   ]
  },
  {
   "cell_type": "code",
   "execution_count": null,
   "metadata": {},
   "outputs": [],
   "source": []
  }
 ],
 "metadata": {
  "kernelspec": {
   "display_name": "Python 3",
   "language": "python",
   "name": "python3"
  },
  "language_info": {
   "codemirror_mode": {
    "name": "ipython",
    "version": 3
   },
   "file_extension": ".py",
   "mimetype": "text/x-python",
   "name": "python",
   "nbconvert_exporter": "python",
   "pygments_lexer": "ipython3",
   "version": "3.7.3"
  }
 },
 "nbformat": 4,
 "nbformat_minor": 2
}
