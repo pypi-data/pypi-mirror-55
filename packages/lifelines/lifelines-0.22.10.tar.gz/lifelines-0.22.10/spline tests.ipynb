{
 "cells": [
  {
   "cell_type": "code",
   "execution_count": 1,
   "metadata": {},
   "outputs": [],
   "source": [
    "%matplotlib inline\n",
    "from lifelines import CoxPHFitter\n",
    "from lifelines.datasets import load_rossi\n"
   ]
  },
  {
   "cell_type": "code",
   "execution_count": 2,
   "metadata": {},
   "outputs": [],
   "source": [
    "df = load_rossi()\n",
    "cph = CoxPHFitter().fit(df, 'week', 'arrest')"
   ]
  },
  {
   "cell_type": "code",
   "execution_count": 3,
   "metadata": {},
   "outputs": [
    {
     "name": "stdout",
     "output_type": "stream",
     "text": [
      "<lifelines.StatisticalResult>\n",
      "         test_name = proportional_hazard_test\n",
      "    time_transform = rank\n",
      " null_distribution = chi squared\n",
      "degrees_of_freedom = 1\n",
      "\n",
      "---\n",
      "      test_statistic      p  -log2(p)\n",
      "age            11.09 <0.005     10.17\n",
      "fin             0.02   0.90      0.16\n",
      "mar             0.67   0.41      1.27\n",
      "paro            0.14   0.71      0.49\n",
      "prio            0.02   0.88      0.18\n",
      "race            1.46   0.23      2.14\n",
      "wexp            7.18   0.01      7.08\n"
     ]
    }
   ],
   "source": [
    "from lifelines.statistics import proportional_hazard_test\n",
    "proportional_hazard_test(cph, df).print_summary()"
   ]
  },
  {
   "cell_type": "markdown",
   "metadata": {},
   "source": [
    "#### Non-linear relationships"
   ]
  },
  {
   "cell_type": "code",
   "execution_count": 4,
   "metadata": {},
   "outputs": [],
   "source": [
    "from zepid.base import create_spline_transform"
   ]
  },
  {
   "cell_type": "code",
   "execution_count": 5,
   "metadata": {},
   "outputs": [
    {
     "name": "stdout",
     "output_type": "stream",
     "text": [
      "<lifelines.CoxPHFitter: fitted with 432 observations, 318 censored>\n",
      "      duration col = 'week'\n",
      "         event col = 'arrest'\n",
      "number of subjects = 432\n",
      "  number of events = 114\n",
      "    log-likelihood = -667.75\n",
      "  time fit was run = 2019-03-29 14:22:32 UTC\n",
      "             model = no splines\n",
      "\n",
      "\n",
      "---\n",
      "     coef exp(coef)  se(coef)     z      p  -log2(p)  lower 0.95  upper 0.95\n",
      "age -0.07      0.93      0.02 -3.50 <0.005     11.09       -0.11       -0.03\n",
      "---\n",
      "Concordance = 0.61\n",
      "Log-likelihood ratio test = 15.27 on 1 df, -log2(p)=13.39\n"
     ]
    }
   ],
   "source": [
    "cph = CoxPHFitter().fit(rossi[['week', 'arrest', 'age']], 'week', 'arrest')\n",
    "cph.print_summary(model=\"no splines\")"
   ]
  },
  {
   "cell_type": "code",
   "execution_count": 27,
   "metadata": {},
   "outputs": [],
   "source": [
    "rossi_with_splines = rossi.copy()\n",
    "spline_transform, bp = create_spline_transform(rossi_with_splines['age'], term=3, restricted=False)\n",
    "rossi_with_splines[['age0', 'age1', 'age2']] = pd.DataFrame(spline_transform(rossi_with_splines['age']))\n",
    "rossi_with_splines = rossi_with_splines.drop('age', axis=1)"
   ]
  },
  {
   "cell_type": "code",
   "execution_count": 28,
   "metadata": {},
   "outputs": [
    {
     "name": "stdout",
     "output_type": "stream",
     "text": [
      "<lifelines.CoxPHFitter: fitted with 432 observations, 318 censored>\n",
      "      duration col = 'week'\n",
      "         event col = 'arrest'\n",
      "number of subjects = 432\n",
      "  number of events = 114\n",
      "    log-likelihood = -660.1052\n",
      "  time fit was run = 2019-03-29 14:43:54 UTC\n",
      "             model = with restricted cubic splines\n",
      "\n",
      "\n",
      "---\n",
      "        coef exp(coef)  se(coef)       z      p  -log2(p)  lower 0.95  upper 0.95\n",
      "fin  -0.4010    0.6697    0.1920 -2.0881 0.0368    4.7645     -0.7773     -0.0246\n",
      "race  0.2841    1.3285    0.3081  0.9222 0.3564    1.4882     -0.3197      0.8879\n",
      "wexp -0.2098    0.8107    0.2108 -0.9953 0.3196    1.6458     -0.6230      0.2034\n",
      "mar  -0.4874    0.6142    0.3818 -1.2768 0.2017    2.3098     -1.2357      0.2608\n",
      "paro -0.0680    0.9342    0.1954 -0.3481 0.7278    0.4585     -0.4510      0.3149\n",
      "prio  0.0906    1.0949    0.0285  3.1790 0.0015    9.4021      0.0348      0.1465\n",
      "age0 -0.0004    0.9996    0.0003 -1.1465 0.2516    1.9909     -0.0010      0.0003\n",
      "age1  0.0006    1.0006    0.0007  0.7954 0.4264    1.2298     -0.0009      0.0021\n",
      "age2  0.0092    1.0093    0.0196  0.4704 0.6381    0.6482     -0.0292      0.0476\n",
      "---\n",
      "Concordance = 0.6385\n",
      "Log-likelihood ratio test = 30.5509 on 9 df, -log2(p)=11.4665\n"
     ]
    }
   ],
   "source": [
    "cph = CoxPHFitter().fit(rossi_with_splines, 'week', 'arrest')\n",
    "cph.print_summary(4, model=\"with restricted cubic splines\")"
   ]
  },
  {
   "cell_type": "code",
   "execution_count": 8,
   "metadata": {},
   "outputs": [
    {
     "name": "stdout",
     "output_type": "stream",
     "text": [
      "Proportional hazard assumption looks okay.\n",
      "<lifelines.StatisticalResult>\n",
      "         test_name = proportional_hazard_test\n",
      "    time_transform = rank\n",
      " null_distribution = chi squared\n",
      "degrees_of_freedom = 1\n",
      "\n",
      "---\n",
      "      test_statistic    p  -log2(p)\n",
      "age0            1.00 0.32      1.66\n",
      "age1            0.38 0.54      0.90\n",
      "fin             0.02 0.89      0.17\n",
      "mar             0.35 0.56      0.85\n",
      "paro            0.04 0.83      0.26\n",
      "prio            0.07 0.80      0.32\n",
      "race            1.73 0.19      2.41\n",
      "wexp            4.90 0.03      5.22\n"
     ]
    }
   ],
   "source": [
    "cph.check_assumptions(rossi_with_splines)\n",
    "proportional_hazard_test(cph, rossi_with_splines).print_summary()"
   ]
  },
  {
   "cell_type": "code",
   "execution_count": 9,
   "metadata": {},
   "outputs": [],
   "source": [
    "age = np.arange(17, 45)\n",
    "haz = (spline_transform(age) * cph.hazards_[['age0','age1']].values).sum(1)\n"
   ]
  },
  {
   "cell_type": "code",
   "execution_count": 10,
   "metadata": {},
   "outputs": [
    {
     "data": {
      "text/plain": [
       "array([ 0.00000000e+00,  0.00000000e+00, -4.55508801e-04, -3.64407041e-03,\n",
       "       -1.22987376e-02, -2.91525633e-02, -5.69386001e-02, -9.75718846e-02,\n",
       "       -1.49695388e-01, -2.11134064e-01, -2.79712868e-01, -3.53256755e-01,\n",
       "       -4.29590679e-01, -5.06539594e-01, -5.81928456e-01, -6.53582219e-01,\n",
       "       -7.19325837e-01, -7.76984265e-01, -8.24382459e-01, -8.59345371e-01,\n",
       "       -8.79697957e-01, -8.83265172e-01, -8.67871970e-01, -8.31705814e-01,\n",
       "       -7.74404195e-01, -6.95967114e-01, -5.96394571e-01, -4.75686565e-01])"
      ]
     },
     "execution_count": 10,
     "metadata": {},
     "output_type": "execute_result"
    }
   ],
   "source": [
    "haz"
   ]
  },
  {
   "cell_type": "code",
   "execution_count": 11,
   "metadata": {},
   "outputs": [
    {
     "data": {
      "text/plain": [
       "[<matplotlib.lines.Line2D at 0x11ba13f28>]"
      ]
     },
     "execution_count": 11,
     "metadata": {},
     "output_type": "execute_result"
    },
    {
     "data": {
      "image/png": "[encoded data removed]",
      "text/plain": [
       "<Figure size 432x288 with 1 Axes>"
      ]
     },
     "metadata": {
      "needs_background": "light"
     },
     "output_type": "display_data"
    }
   ],
   "source": [
    "plot(age, haz)\n"
   ]
  },
  {
   "cell_type": "code",
   "execution_count": 15,
   "metadata": {},
   "outputs": [],
   "source": [
    "rossi_with_quad = df.copy()\n",
    "rossi_with_quad['age**2'] = (rossi_with_quad['age'] - rossi_with_quad['age'].mean()) ** 2\n",
    "rossi_with_quad['age**3'] = (rossi_with_quad['age'] - rossi_with_quad['age'].mean()) ** 3"
   ]
  },
  {
   "cell_type": "code",
   "execution_count": 16,
   "metadata": {},
   "outputs": [
    {
     "data": {
      "text/plain": [
       "<lifelines.CoxPHFitter: fitted with 432 observations, 318 censored>"
      ]
     },
     "execution_count": 16,
     "metadata": {},
     "output_type": "execute_result"
    }
   ],
   "source": [
    "cph.fit(rossi_with_quad, 'week', 'arrest')"
   ]
  },
  {
   "cell_type": "code",
   "execution_count": 17,
   "metadata": {},
   "outputs": [
    {
     "name": "stdout",
     "output_type": "stream",
     "text": [
      "The ``p_value_threshold`` is set at 0.01. Even under the null hypothesis of no violations, some\n",
      "covariates will be below the threshold by chance. This is compounded when there are many covariates.\n",
      "Similarly, when there are lots of observations, even minor deviances from the proportional hazard\n",
      "assumption will be flagged.\n",
      "\n",
      "With that in mind, it's best to use a combination of statistical tests and visual tests to determine\n",
      "the most serious violations. Produce visual plots using ``check_assumptions(..., show_plots=True)``\n",
      "and looking for non-constant lines.\n",
      "\n",
      "<lifelines.StatisticalResult>\n",
      "         test_name = proportional_hazard_test\n",
      " null_distribution = chi squared\n",
      "degrees_of_freedom = 1\n",
      "\n",
      "---\n",
      "             test_statistic    p  -log2(p)\n",
      "age    km              0.89 0.35      1.53\n",
      "       rank            0.89 0.35      1.53\n",
      "age**2 km              1.72 0.19      2.40\n",
      "       rank            1.70 0.19      2.38\n",
      "age**3 km              2.30 0.13      2.95\n",
      "       rank            2.29 0.13      2.94\n",
      "fin    km              0.03 0.86      0.22\n",
      "       rank            0.03 0.86      0.21\n",
      "mar    km              0.61 0.44      1.20\n",
      "       rank            0.67 0.41      1.27\n",
      "paro   km              0.23 0.63      0.66\n",
      "       rank            0.26 0.61      0.71\n",
      "prio   km              0.03 0.86      0.22\n",
      "       rank            0.03 0.86      0.22\n",
      "race   km              1.26 0.26      1.93\n",
      "       rank            1.28 0.26      1.96\n",
      "wexp   km              7.52 0.01      7.35\n",
      "       rank            7.21 0.01      7.11\n",
      "\n",
      "\n",
      "1. Variable 'wexp' failed the non-proportional test: p-value is 0.0061.\n",
      "   Advice: with so few unique values (only 2), you can include `strata=['wexp', ...]` in the call in\n",
      "`.fit`. See documentation in link [B] below.\n",
      "\n",
      "---\n",
      "[A]  https://lifelines.readthedocs.io/en/latest/jupyter_notebooks/Proportional%20hazard%20assumption.html\n",
      "[B]  https://lifelines.readthedocs.io/en/latest/jupyter_notebooks/Proportional%20hazard%20assumption.html#Option-1:-bin-variable-and-stratify-on-it\n",
      "[C]  https://lifelines.readthedocs.io/en/latest/jupyter_notebooks/Proportional%20hazard%20assumption.html#Option-2:-introduce-time-varying-covariates\n",
      "\n"
     ]
    }
   ],
   "source": [
    "cph.check_assumptions(rossi_with_quad)"
   ]
  },
  {
   "cell_type": "code",
   "execution_count": null,
   "metadata": {},
   "outputs": [],
   "source": []
  }
 ],
 "metadata": {
  "kernelspec": {
   "display_name": "Python 3",
   "language": "python",
   "name": "python3"
  },
  "language_info": {
   "codemirror_mode": {
    "name": "ipython",
    "version": 3
   },
   "file_extension": ".py",
   "mimetype": "text/x-python",
   "name": "python",
   "nbconvert_exporter": "python",
   "pygments_lexer": "ipython3",
   "version": "3.7.2"
  }
 },
 "nbformat": 4,
 "nbformat_minor": 2
}
