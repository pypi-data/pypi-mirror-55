{
 "cells": [
  {
   "cell_type": "code",
   "execution_count": 1,
   "metadata": {},
   "outputs": [
    {
     "name": "stderr",
     "output_type": "stream",
     "text": [
      "C:\\ProgramData\\Anaconda3\\lib\\site-packages\\dask\\config.py:161: YAMLLoadWarning: calling yaml.load() without Loader=... is deprecated, as the default Loader is unsafe. Please read https://msg.pyyaml.org/load for full details.\n",
      "  data = yaml.load(f.read()) or {}\n",
      "C:\\ProgramData\\Anaconda3\\lib\\site-packages\\distributed\\config.py:20: YAMLLoadWarning: calling yaml.load() without Loader=... is deprecated, as the default Loader is unsafe. Please read https://msg.pyyaml.org/load for full details.\n",
      "  defaults = yaml.load(f)\n"
     ]
    }
   ],
   "source": [
    "from typing import Dict, Optional\n",
    "\n",
    "import numpy as np\n",
    "import pandas as pd\n",
    "import matplotlib.pyplot as plt\n",
    "import pymc3 as pm\n",
    "import pyesg\n",
    "\n",
    "from scipy.stats import norm, multivariate_normal\n",
    "from scipy.optimize import least_squares, minimize"
   ]
  },
  {
   "cell_type": "code",
   "execution_count": 21,
   "metadata": {},
   "outputs": [],
   "source": [
    "from pyesg.datasets import load_ust_historical\n",
    "\n",
    "data = load_ust_historical()\n",
    "X = np.array([0.25, 0.5, 1, 2, 3, 5, 7, 10, 20, 30])\n",
    "y = data.iloc[-10].values"
   ]
  },
  {
   "cell_type": "code",
   "execution_count": 27,
   "metadata": {},
   "outputs": [
    {
     "data": {
      "image/png": "[encoded data removed]",
      "text/plain": [
       "<Figure size 720x504 with 1 Axes>"
      ]
     },
     "metadata": {
      "needs_background": "light"
     },
     "output_type": "display_data"
    }
   ],
   "source": [
    "fig, ax = plt.subplots(figsize=(10,7))\n",
    "ax.set_title('Curve interpolators from pyesg', loc='left', fontsize=18)\n",
    "\n",
    "ns = pyesg.NelsonSiegel().fit(X, y)\n",
    "nss = pyesg.NelsonSiegelSvensson().fit(X, y)\n",
    "\n",
    "x = np.arange(1, 121) / 4\n",
    "ax.plot(x, ns.predict(x), color='C1', label='Nelson-Siegel')\n",
    "ax.plot(x, nss.predict(x), color='C2', label='Nelson-Siegel-Svensson')\n",
    "ax.scatter(X, y)\n",
    "\n",
    "ax.set_ylim(0.01, 0.03)\n",
    "ax.legend(frameon=False, fontsize=12, loc='center right')\n",
    "for s in ['top', 'right', 'left']:\n",
    "    ax.spines[s].set_visible(False)\n",
    "\n",
    "plt.savefig('20191031-pyesg.png', bbox_inches='tight', dpi=300)\n",
    "plt.show()"
   ]
  },
  {
   "cell_type": "code",
   "execution_count": 19,
   "metadata": {},
   "outputs": [
    {
     "data": {
      "text/plain": [
       "{'k': 0.12246729732457176,\n",
       " 'theta': 0.04439939525048735,\n",
       " 'sigma': 0.015511293531658898}"
      ]
     },
     "execution_count": 19,
     "metadata": {},
     "output_type": "execute_result"
    }
   ],
   "source": [
    "# Vasicek Model\n",
    "data = pyesg.datasets.load_ust_historical()\n",
    "X = pd.to_datetime(\n",
    "    data.index.get_level_values('year').astype(str)\n",
    "    + \"-\" + data.index.get_level_values('month').astype(str)\n",
    ")\n",
    "X = ((X - X[0]) / np.timedelta64(365, 'D')).values\n",
    "y = data.iloc[:, 0].values\n",
    "\n",
    "model = pyesg.Vasicek()\n",
    "model.fit(X, y)\n",
    "model._fitted_params"
   ]
  },
  {
   "cell_type": "code",
   "execution_count": 16,
   "metadata": {},
   "outputs": [
    {
     "data": {
      "text/plain": [
       "Float64Index([                0.0,  0.0821917808219178, 0.16712328767123288,\n",
       "               0.2493150684931507, 0.33424657534246577,  0.4191780821917808,\n",
       "               0.5013698630136987,  0.5863013698630137,  0.6684931506849315,\n",
       "               0.7534246575342466,\n",
       "              ...\n",
       "                64.95890410958904,   65.04383561643836,   65.12602739726027,\n",
       "                65.21095890410959,    65.2931506849315,   65.37808219178082,\n",
       "                65.46301369863014,   65.54520547945205,   65.63013698630137,\n",
       "                65.71232876712328],\n",
       "             dtype='float64', length=789)"
      ]
     },
     "execution_count": 16,
     "metadata": {},
     "output_type": "execute_result"
    }
   ],
   "source": [
    "X = pd.to_datetime(\n",
    "    data.index.get_level_values('year').astype(str)\n",
    "    + \"-\" + data.index.get_level_values('month').astype(str)\n",
    ")\n",
    "X = (X - X[0]) / np.timedelta64(365, 'D')"
   ]
  },
  {
   "cell_type": "code",
   "execution_count": null,
   "metadata": {},
   "outputs": [],
   "source": []
  },
  {
   "cell_type": "code",
   "execution_count": 4,
   "metadata": {},
   "outputs": [
    {
     "ename": "RuntimeError",
     "evalue": "Model failed to converge",
     "output_type": "error",
     "traceback": [
      "\u001b[1;31m---------------------------------------------------------------------------\u001b[0m",
      "\u001b[1;31mRuntimeError\u001b[0m                              Traceback (most recent call last)",
      "\u001b[1;32m<ipython-input-4-08c77843f69b>\u001b[0m in \u001b[0;36m<module>\u001b[1;34m\u001b[0m\n\u001b[0;32m      9\u001b[0m \u001b[1;33m\u001b[0m\u001b[0m\n\u001b[0;32m     10\u001b[0m \u001b[0mvasicek\u001b[0m \u001b[1;33m=\u001b[0m \u001b[0mpyesg\u001b[0m\u001b[1;33m.\u001b[0m\u001b[0mVasicek\u001b[0m\u001b[1;33m(\u001b[0m\u001b[1;33m)\u001b[0m\u001b[1;33m\u001b[0m\u001b[1;33m\u001b[0m\u001b[0m\n\u001b[1;32m---> 11\u001b[1;33m \u001b[0mvasicek\u001b[0m\u001b[1;33m.\u001b[0m\u001b[0mfit\u001b[0m\u001b[1;33m(\u001b[0m\u001b[0mX\u001b[0m\u001b[1;33m,\u001b[0m \u001b[0my\u001b[0m\u001b[1;33m)\u001b[0m\u001b[1;33m\u001b[0m\u001b[1;33m\u001b[0m\u001b[0m\n\u001b[0m",
      "\u001b[1;32m~\\Documents\\python\\pyesg\\pyesg\\vasicek.py\u001b[0m in \u001b[0;36mfit\u001b[1;34m(self, X, y)\u001b[0m\n\u001b[0;32m     74\u001b[0m             \u001b[1;32mreturn\u001b[0m \u001b[0mself\u001b[0m\u001b[1;33m\u001b[0m\u001b[1;33m\u001b[0m\u001b[0m\n\u001b[0;32m     75\u001b[0m         \u001b[1;32melse\u001b[0m\u001b[1;33m:\u001b[0m\u001b[1;33m\u001b[0m\u001b[1;33m\u001b[0m\u001b[0m\n\u001b[1;32m---> 76\u001b[1;33m             \u001b[1;32mraise\u001b[0m \u001b[0mRuntimeError\u001b[0m\u001b[1;33m(\u001b[0m\u001b[1;34m\"Model failed to converge\"\u001b[0m\u001b[1;33m)\u001b[0m\u001b[1;33m\u001b[0m\u001b[1;33m\u001b[0m\u001b[0m\n\u001b[0m",
      "\u001b[1;31mRuntimeError\u001b[0m: Model failed to converge"
     ]
    }
   ],
   "source": [
    "# Vasicek Model\n",
    "X = pd.to_datetime(\n",
    "    data.index.get_level_values('year').astype(str)\n",
    "    + \"-\" + data.index.get_level_values('month').astype(str)\n",
    ")\n",
    "X = np.diff(X).astype('timedelta64[D]').astype(np.float) / 365\n",
    "X = np.append([0], X)\n",
    "X = np.full()\n",
    "\n",
    "\n",
    "vasicek = pyesg.Vasicek()\n",
    "vasicek.fit(X, y)"
   ]
  },
  {
   "cell_type": "code",
   "execution_count": 5,
   "metadata": {},
   "outputs": [],
   "source": [
    "v = pyesg.Vasicek"
   ]
  },
  {
   "cell_type": "code",
   "execution_count": 9,
   "metadata": {},
   "outputs": [],
   "source": [
    "from io import StringIO\n",
    "data = \"\"\"0, 3\n",
    "    0.25, 1.76\n",
    "    0.5, 1.2693\n",
    "    0.75, 1.196\n",
    "    1, 0.9468\n",
    "    1.25, 0.9532\n",
    "    1.5, 0.6252\n",
    "    1.75, 0.8604\n",
    "    2, 1.0984\n",
    "    2.25, 1.431\n",
    "    2.5, 1.3019\n",
    "    2.75, 1.4005\n",
    "    3, 1.2686\n",
    "    3.25, 0.7147\n",
    "    3.5, 0.9237\n",
    "    3.75, 0.7297\n",
    "    4, 0.7105\n",
    "    4.25, 0.8683\n",
    "    4.5, 0.7406\n",
    "    4.75, 0.7314\n",
    "    5, 0.6232\"\"\"\n",
    "data = pd.read_csv(StringIO(data), header=None, index_col=[0])\n",
    "X = data.index.values\n",
    "y = data.values"
   ]
  },
  {
   "cell_type": "code",
   "execution_count": 12,
   "metadata": {},
   "outputs": [
    {
     "data": {
      "text/plain": [
       "{'k': 3.1286885821300157,\n",
       " 'theta': 0.9074884514128012,\n",
       " 'sigma': 0.553151436210664}"
      ]
     },
     "execution_count": 12,
     "metadata": {},
     "output_type": "execute_result"
    }
   ],
   "source": [
    "v = pyesg.Vasicek()\n",
    "v.fit(X, y)\n",
    "v._fitted_params"
   ]
  },
  {
   "cell_type": "code",
   "execution_count": 14,
   "metadata": {},
   "outputs": [
    {
     "data": {
      "text/plain": [
       "82.9739917411932"
      ]
     },
     "execution_count": 14,
     "metadata": {},
     "output_type": "execute_result"
    }
   ],
   "source": [
    "v._log_likelihood(**v._fitted_params, X=X, y=y)"
   ]
  },
  {
   "cell_type": "code",
   "execution_count": null,
   "metadata": {},
   "outputs": [],
   "source": []
  },
  {
   "cell_type": "code",
   "execution_count": null,
   "metadata": {},
   "outputs": [],
   "source": []
  },
  {
   "cell_type": "code",
   "execution_count": null,
   "metadata": {},
   "outputs": [],
   "source": []
  },
  {
   "cell_type": "code",
   "execution_count": null,
   "metadata": {},
   "outputs": [],
   "source": []
  },
  {
   "cell_type": "code",
   "execution_count": null,
   "metadata": {},
   "outputs": [],
   "source": []
  },
  {
   "cell_type": "code",
   "execution_count": null,
   "metadata": {},
   "outputs": [],
   "source": []
  },
  {
   "cell_type": "code",
   "execution_count": null,
   "metadata": {},
   "outputs": [],
   "source": []
  },
  {
   "cell_type": "code",
   "execution_count": 15,
   "metadata": {},
   "outputs": [
    {
     "data": {
      "text/plain": [
       "-247659795.39951685"
      ]
     },
     "execution_count": 15,
     "metadata": {},
     "output_type": "execute_result"
    }
   ],
   "source": [
    "y = data.iloc[:, 0].values\n",
    "X = np.full(len(y), 1/12).cumsum()\n",
    "k, theta, sigma = 0.12, 0.045, 0.00025\n",
    "\n",
    "B = (1 - np.exp(-k*(X[1:] - X[:-1]))) / k\n",
    "m = theta*k*B + y[:-1]*(1 - k*B)\n",
    "v = sigma**2*(B - k/2*B**2)\n",
    "ll = (np.log(2*np.pi*v) + (y[1:] - m)**2 / v).sum() / -2\n",
    "ll.sum()"
   ]
  },
  {
   "cell_type": "code",
   "execution_count": null,
   "metadata": {},
   "outputs": [],
   "source": []
  },
  {
   "cell_type": "code",
   "execution_count": 19,
   "metadata": {},
   "outputs": [
    {
     "data": {
      "text/plain": [
       "3147.8885135309156"
      ]
     },
     "execution_count": 19,
     "metadata": {},
     "output_type": "execute_result"
    }
   ],
   "source": [
    "def _log_likelihood(k, theta, sigma, X, y):\n",
    "    \"\"\"Vasicek log-likelihood\"\"\"\n",
    "    B = (1 - np.exp(-k * (X[1:] - X[:-1]))) / k\n",
    "    m = theta * k * B + y[:-1] * (1 - k * B)\n",
    "    v = sigma ** 2 * (B - k / 2 * B ** 2)\n",
    "    return (np.log(2 * np.pi * v) + (y[1:] - m) ** 2 / v).sum() / -2\n",
    "\n",
    "y = pyesg.datasets.load_ust_historical().iloc[:, 0].values\n",
    "X = np.full(len(y), 1/12).cumsum()\n",
    "k, theta, sigma = 0.12, .0444, .0155\n",
    "_log_likelihood(k, theta, sigma, X, y)"
   ]
  },
  {
   "cell_type": "code",
   "execution_count": 22,
   "metadata": {},
   "outputs": [
    {
     "data": {
      "text/plain": [
       "3147.8885135309156"
      ]
     },
     "execution_count": 22,
     "metadata": {},
     "output_type": "execute_result"
    }
   ],
   "source": [
    "y = pyesg.datasets.load_ust_historical().iloc[:, 0].values\n",
    "X = np.full(len(y), 1/12).cumsum()\n",
    "k, theta, sigma = 0.12, .0444, .0155\n",
    "pyesg.Vasicek._log_likelihood(k, theta, sigma, X, y)"
   ]
  },
  {
   "cell_type": "code",
   "execution_count": 24,
   "metadata": {},
   "outputs": [
    {
     "data": {
      "text/plain": [
       " final_simplex: (array([[0.12248459, 0.04439871, 0.01551149],\n",
       "       [0.12250002, 0.0444075 , 0.01551162],\n",
       "       [0.12239876, 0.04441123, 0.01551098],\n",
       "       [0.12249818, 0.04439322, 0.01551132]]), array([-3147.88962067, -3147.88962035, -3147.88962029, -3147.88962015]))\n",
       "           fun: -3147.8896206679187\n",
       "       message: 'Optimization terminated successfully.'\n",
       "          nfev: 195\n",
       "           nit: 109\n",
       "        status: 0\n",
       "       success: True\n",
       "             x: array([0.12248459, 0.04439871, 0.01551149])"
      ]
     },
     "execution_count": 24,
     "metadata": {},
     "output_type": "execute_result"
    }
   ],
   "source": [
    "minimize(\n",
    "    fun=lambda params, X, y: -pyesg.Vasicek._log_likelihood(*params, X=X, y=y),\n",
    "    x0=[0.1, 0.1, 0.1],\n",
    "    args=(X, y),\n",
    "    method='Nelder-Mead'\n",
    ")"
   ]
  },
  {
   "cell_type": "code",
   "execution_count": 31,
   "metadata": {},
   "outputs": [
    {
     "name": "stdout",
     "output_type": "stream",
     "text": [
      "k: 0.12239234654043035\n",
      "theta: 0.04439385050340855\n",
      "sigma: 0.015511420167043384\n"
     ]
    }
   ],
   "source": [
    "vasicek = pyesg.Vasicek()\n",
    "vasicek.fit(X, y)\n",
    "print(f\"k: {vasicek.k}\")\n",
    "print(f\"theta: {vasicek.theta}\")\n",
    "print(f\"sigma: {vasicek.sigma}\")"
   ]
  },
  {
   "cell_type": "code",
   "execution_count": 30,
   "metadata": {},
   "outputs": [
    {
     "data": {
      "text/plain": [
       "0.12239234654043035"
      ]
     },
     "execution_count": 30,
     "metadata": {},
     "output_type": "execute_result"
    }
   ],
   "source": [
    "vasicek.k"
   ]
  },
  {
   "cell_type": "code",
   "execution_count": null,
   "metadata": {},
   "outputs": [],
   "source": []
  },
  {
   "cell_type": "code",
   "execution_count": null,
   "metadata": {},
   "outputs": [],
   "source": []
  },
  {
   "cell_type": "code",
   "execution_count": 176,
   "metadata": {},
   "outputs": [
    {
     "data": {
      "text/plain": [
       "      fun: -3147.8896211956644\n",
       " hess_inv: array([[ 6.27761352e-05,  2.80723907e-04, -3.02657702e-05],\n",
       "       [ 2.80723907e-04,  1.26390318e-03, -1.40609627e-04],\n",
       "       [-3.02657702e-05, -1.40609627e-04,  1.94933442e-05]])\n",
       "      jac: array([-0.00012207,  0.        ,  0.00704956])\n",
       "  message: 'Desired error not necessarily achieved due to precision loss.'\n",
       "     nfev: 451\n",
       "      nit: 53\n",
       "     njev: 90\n",
       "   status: 2\n",
       "  success: False\n",
       "        x: array([0.1224242 , 0.04440336, 0.01551145])"
      ]
     },
     "execution_count": 176,
     "metadata": {},
     "output_type": "execute_result"
    }
   ],
   "source": [
    "minimize(\n",
    "    lambda params, X, y: -1*_log_likelihood(*params, X, y),\n",
    "    x0=[0.12, 0.045, 0.0001],\n",
    "    args=(X, y),\n",
    ")"
   ]
  },
  {
   "cell_type": "code",
   "execution_count": null,
   "metadata": {},
   "outputs": [],
   "source": []
  },
  {
   "cell_type": "code",
   "execution_count": null,
   "metadata": {},
   "outputs": [],
   "source": [
    "np.timedelta64()"
   ]
  },
  {
   "cell_type": "code",
   "execution_count": null,
   "metadata": {},
   "outputs": [],
   "source": []
  },
  {
   "cell_type": "code",
   "execution_count": 155,
   "metadata": {},
   "outputs": [
    {
     "data": {
      "text/plain": [
       "-696.0067329894378"
      ]
     },
     "execution_count": 155,
     "metadata": {},
     "output_type": "execute_result"
    }
   ],
   "source": [
    "def _log_likelihood(k, theta, sigma, X, y):\n",
    "    \"\"\"Vasicek log-likelihood\"\"\"\n",
    "    B = lambda k, s, t: (1 - np.exp(-k*(t - s))) / k\n",
    "    m = lambda k, theta, r, s, t: theta*k*B(k, s, t) + r*(1 - k*B(k, s, t))\n",
    "    v = lambda k, sigma, s, t: sigma**2*(B(k, s, t) - k/2*B(k, s, t)**2)\n",
    "    \n",
    "    log_likelihood = (\n",
    "        np.log(2*np.pi*v(k, sigma, X[:-1], X[1:]))\n",
    "        + (y[1:] - m(k, theta, y[1:], X[:-1], X[1:]))**2 / (v(k, sigma, X[:-1], X[1:]))\n",
    "    )\n",
    "    \n",
    "    return -log_likelihood.sum() / 2\n",
    "    \n",
    "y = data.iloc[:, 0].values\n",
    "X = np.full(len(y), 1/12).cumsum()\n",
    "k, theta, sigma = 0.12, 0.045, 0.00025\n",
    "_log_likelihood(k, theta, sigma, X, y)"
   ]
  },
  {
   "cell_type": "code",
   "execution_count": 143,
   "metadata": {},
   "outputs": [
    {
     "data": {
      "text/plain": [
       "      fun: -11168.107779570386\n",
       " hess_inv: array([[8.45898733e-12, 1.92142184e-10, 7.95551282e-14],\n",
       "       [1.92142184e-10, 4.20229947e-07, 3.65480216e-13],\n",
       "       [7.95551282e-14, 3.65480216e-13, 1.29143010e-15]])\n",
       "      jac: array([ 8.20640031e+06, -2.99929077e+03,  4.23128890e+08])\n",
       "  message: 'Desired error not necessarily achieved due to precision loss.'\n",
       "     nfev: 409\n",
       "      nit: 8\n",
       "     njev: 80\n",
       "   status: 2\n",
       "  success: False\n",
       "        x: array([6.05150993e-05, 3.78721469e-02, 7.05556267e-07])"
      ]
     },
     "execution_count": 143,
     "metadata": {},
     "output_type": "execute_result"
    }
   ],
   "source": [
    "minimize(\n",
    "    lambda params, X, y: -1*_log_likelihood(*params, X, y),\n",
    "    x0=[0.1, 0.05, 0.001],\n",
    "    args=(X, y),\n",
    ")"
   ]
  },
  {
   "cell_type": "code",
   "execution_count": 139,
   "metadata": {},
   "outputs": [],
   "source": [
    "vasicek = Vasicek().fit(X, y)"
   ]
  },
  {
   "cell_type": "code",
   "execution_count": 142,
   "metadata": {},
   "outputs": [
    {
     "name": "stdout",
     "output_type": "stream",
     "text": [
      "k: 0.12211654370699075\n",
      "theta: 0.04434790347627699\n",
      "sigma: 0.00026370371323960497\n"
     ]
    }
   ],
   "source": [
    "print(f\"k: {vasicek.k}\")\n",
    "print(f\"theta: {vasicek.theta}\")\n",
    "print(f\"sigma: {vasicek.sigma}\")"
   ]
  },
  {
   "cell_type": "code",
   "execution_count": null,
   "metadata": {},
   "outputs": [],
   "source": []
  },
  {
   "cell_type": "code",
   "execution_count": null,
   "metadata": {},
   "outputs": [],
   "source": []
  },
  {
   "cell_type": "code",
   "execution_count": 48,
   "metadata": {},
   "outputs": [
    {
     "data": {
      "text/plain": [
       "array([2.190e-02, 2.160e-02, 2.110e-02, 2.040e-02, 2.040e-02, 1.790e-02,\n",
       "       1.380e-02, 1.440e-02, 1.600e-02, 1.180e-02, 9.700e-03, 1.030e-02,\n",
       "       9.700e-03, 7.600e-03, 6.400e-03, 7.200e-03, 9.200e-03, 1.010e-02,\n",
       "       9.800e-03, 9.300e-03, 1.150e-02, 1.220e-02, 1.170e-02, 1.280e-02,\n",
       "       1.590e-02, 1.450e-02, 1.410e-02, 1.600e-02, 1.900e-02, 2.070e-02,\n",
       "       2.230e-02, 2.240e-02, 2.540e-02, 2.410e-02, 2.320e-02, 2.250e-02,\n",
       "       2.600e-02, 2.610e-02, 2.490e-02, 2.310e-02, 2.600e-02, 2.840e-02,\n",
       "       2.900e-02, 2.990e-02, 3.210e-02, 3.110e-02, 3.100e-02, 3.080e-02,\n",
       "       3.070e-02, 3.060e-02, 3.290e-02, 3.160e-02, 3.370e-02, 3.530e-02,\n",
       "       3.580e-02, 3.310e-02, 3.040e-02, 2.440e-02, 1.530e-02, 1.300e-02,\n",
       "       1.130e-02, 9.100e-03, 8.300e-03, 9.100e-03, 1.690e-02, 2.440e-02,\n",
       "       2.630e-02, 2.670e-02, 2.770e-02, 2.820e-02, 2.700e-02, 2.800e-02,\n",
       "       2.950e-02, 2.840e-02, 3.210e-02, 3.200e-02, 3.380e-02, 4.040e-02,\n",
       "       4.050e-02, 4.150e-02, 4.490e-02, 4.350e-02, 3.960e-02, 3.310e-02,\n",
       "       3.230e-02, 3.290e-02, 2.460e-02, 2.300e-02, 2.300e-02, 2.480e-02,\n",
       "       2.300e-02, 2.370e-02, 2.250e-02, 2.240e-02, 2.420e-02, 2.390e-02,\n",
       "       2.290e-02, 2.290e-02, 2.330e-02, 2.240e-02, 2.390e-02, 2.280e-02,\n",
       "       2.300e-02, 2.480e-02, 2.600e-02, 2.730e-02, 2.670e-02, 2.640e-02,\n",
       "       2.800e-02, 2.650e-02, 2.880e-02, 2.960e-02, 2.770e-02, 2.740e-02,\n",
       "       2.730e-02, 2.850e-02, 2.910e-02, 2.900e-02, 2.930e-02, 2.950e-02,\n",
       "       2.900e-02, 3.010e-02, 2.980e-02, 3.200e-02, 3.380e-02, 3.400e-02,\n",
       "       3.490e-02, 3.520e-02, 3.540e-02, 3.490e-02, 3.650e-02, 3.570e-02,\n",
       "       3.410e-02, 3.480e-02, 3.430e-02, 3.430e-02, 3.570e-02, 3.530e-02,\n",
       "       3.570e-02, 3.820e-02, 3.810e-02, 3.830e-02, 3.990e-02, 3.900e-02,\n",
       "       3.930e-02, 3.900e-02, 3.770e-02, 3.880e-02, 3.900e-02, 4.070e-02,\n",
       "       4.060e-02, 4.120e-02, 4.600e-02, 4.600e-02, 4.720e-02, 4.530e-02,\n",
       "       4.630e-02, 4.740e-02, 4.570e-02, 4.860e-02, 5.230e-02, 5.190e-02,\n",
       "       5.270e-02, 5.230e-02, 4.770e-02, 4.590e-02, 4.610e-02, 4.040e-02,\n",
       "       3.870e-02, 3.630e-02, 3.930e-02, 4.240e-02, 4.330e-02, 4.450e-02,\n",
       "       4.640e-02, 4.760e-02, 5.010e-02, 4.940e-02, 5.010e-02, 5.180e-02,\n",
       "       5.650e-02, 5.590e-02, 5.460e-02, 5.170e-02, 5.090e-02, 5.180e-02,\n",
       "       5.440e-02, 5.480e-02, 6.220e-02, 6.210e-02, 6.180e-02, 5.950e-02,\n",
       "       6.110e-02, 6.250e-02, 6.930e-02, 6.970e-02, 7.070e-02, 7.260e-02,\n",
       "       6.950e-02, 7.380e-02, 7.960e-02, 7.920e-02, 6.680e-02, 6.560e-02,\n",
       "       7.120e-02, 6.750e-02, 6.550e-02, 6.360e-02, 6.280e-02, 5.980e-02,\n",
       "       5.780e-02, 4.850e-02, 4.810e-02, 4.110e-02, 3.510e-02, 3.590e-02,\n",
       "       4.280e-02, 4.210e-02, 5.260e-02, 5.530e-02, 4.500e-02, 4.570e-02,\n",
       "       4.210e-02, 4.300e-02, 3.890e-02, 3.440e-02, 3.220e-02, 4.080e-02,\n",
       "       3.450e-02, 3.690e-02, 4.080e-02, 3.870e-02, 4.360e-02, 4.740e-02,\n",
       "       4.670e-02, 4.850e-02, 5.220e-02, 5.590e-02, 5.820e-02, 6.300e-02,\n",
       "       6.210e-02, 6.610e-02, 7.610e-02, 8.470e-02, 8.330e-02, 7.480e-02,\n",
       "       7.030e-02, 7.530e-02, 7.480e-02, 7.460e-02, 7.410e-02, 8.580e-02,\n",
       "       8.690e-02, 8.160e-02, 8.080e-02, 7.720e-02, 9.310e-02, 7.460e-02,\n",
       "       7.350e-02, 7.470e-02, 7.190e-02, 5.830e-02, 5.530e-02, 5.710e-02,\n",
       "       5.590e-02, 4.980e-02, 5.820e-02, 6.360e-02, 6.320e-02, 6.490e-02,\n",
       "       5.380e-02, 5.640e-02, 5.080e-02, 4.740e-02, 5.130e-02, 4.920e-02,\n",
       "       5.040e-02, 5.480e-02, 5.360e-02, 5.160e-02, 5.050e-02, 5.030e-02,\n",
       "       4.920e-02, 4.440e-02, 4.320e-02, 4.860e-02, 4.750e-02, 4.520e-02,\n",
       "       4.670e-02, 4.980e-02, 4.950e-02, 5.430e-02, 5.480e-02, 5.930e-02,\n",
       "       6.230e-02, 6.070e-02, 6.090e-02, 6.420e-02, 6.430e-02, 6.440e-02,\n",
       "       6.500e-02, 6.510e-02, 6.970e-02, 6.960e-02, 7.220e-02, 8.000e-02,\n",
       "       8.670e-02, 8.710e-02, 9.320e-02, 9.100e-02, 9.400e-02, 9.410e-02,\n",
       "       9.620e-02, 9.410e-02, 8.900e-02, 9.350e-02, 9.920e-02, 1.022e-01,\n",
       "       1.212e-01, 1.130e-01, 1.176e-01, 1.234e-01, 1.393e-01, 1.518e-01,\n",
       "       1.104e-01, 8.070e-02, 7.360e-02, 8.720e-02, 9.940e-02, 1.096e-01,\n",
       "       1.282e-01, 1.468e-01, 1.443e-01, 1.493e-01, 1.481e-01, 1.272e-01,\n",
       "       1.466e-01, 1.490e-01, 1.474e-01, 1.533e-01, 1.574e-01, 1.481e-01,\n",
       "       1.260e-01, 1.034e-01, 1.127e-01, 1.308e-01, 1.300e-01, 1.399e-01,\n",
       "       1.315e-01, 1.197e-01, 1.336e-01, 1.057e-01, 8.720e-02, 7.880e-02,\n",
       "       8.170e-02, 8.560e-02, 8.200e-02, 8.360e-02, 8.210e-02, 8.960e-02,\n",
       "       8.380e-02, 8.970e-02, 9.150e-02, 9.590e-02, 9.640e-02, 9.040e-02,\n",
       "       8.830e-02, 9.240e-02, 9.330e-02, 9.260e-02, 9.590e-02, 1.009e-01,\n",
       "       1.010e-01, 1.013e-01, 1.031e-01, 1.083e-01, 1.106e-01, 1.063e-01,\n",
       "       9.350e-02, 8.740e-02, 8.120e-02, 8.330e-02, 8.810e-02, 8.470e-02,\n",
       "       8.120e-02, 7.380e-02, 7.050e-02, 7.520e-02, 7.380e-02, 7.270e-02,\n",
       "       7.420e-02, 7.390e-02, 7.280e-02, 7.190e-02, 7.240e-02, 6.530e-02,\n",
       "       6.280e-02, 6.490e-02, 6.130e-02, 5.960e-02, 5.310e-02, 5.340e-02,\n",
       "       5.340e-02, 5.540e-02, 5.830e-02, 5.760e-02, 5.600e-02, 5.790e-02,\n",
       "       5.700e-02, 5.870e-02, 5.910e-02, 6.270e-02, 6.450e-02, 6.830e-02,\n",
       "       5.450e-02, 5.420e-02, 5.860e-02, 5.820e-02, 5.760e-02, 5.870e-02,\n",
       "       6.160e-02, 6.670e-02, 6.770e-02, 7.180e-02, 7.540e-02, 7.490e-02,\n",
       "       7.620e-02, 8.100e-02, 8.370e-02, 8.690e-02, 9.030e-02, 9.230e-02,\n",
       "       8.710e-02, 8.920e-02, 8.260e-02, 8.040e-02, 8.160e-02, 8.180e-02,\n",
       "       8.040e-02, 7.840e-02, 7.800e-02, 8.000e-02, 8.040e-02, 8.070e-02,\n",
       "       8.070e-02, 8.010e-02, 8.000e-02, 7.740e-02, 7.630e-02, 7.370e-02,\n",
       "       7.340e-02, 7.240e-02, 6.630e-02, 6.370e-02, 6.220e-02, 5.920e-02,\n",
       "       5.680e-02, 5.710e-02, 5.710e-02, 5.700e-02, 5.490e-02, 5.260e-02,\n",
       "       4.960e-02, 4.470e-02, 3.960e-02, 3.940e-02, 4.030e-02, 4.150e-02,\n",
       "       3.790e-02, 3.790e-02, 3.650e-02, 3.250e-02, 3.230e-02, 2.750e-02,\n",
       "       3.030e-02, 3.380e-02, 3.150e-02, 2.960e-02, 3.010e-02, 2.950e-02,\n",
       "       2.970e-02, 3.130e-02, 3.100e-02, 3.100e-02, 3.080e-02, 2.980e-02,\n",
       "       3.100e-02, 3.210e-02, 3.070e-02, 3.050e-02, 3.470e-02, 3.560e-02,\n",
       "       3.970e-02, 4.310e-02, 4.260e-02, 4.390e-02, 4.680e-02, 4.800e-02,\n",
       "       5.200e-02, 5.720e-02, 5.680e-02, 6.000e-02, 5.940e-02, 5.880e-02,\n",
       "       5.870e-02, 5.810e-02, 5.600e-02, 5.600e-02, 5.450e-02, 5.400e-02,\n",
       "       5.480e-02, 5.480e-02, 5.100e-02, 5.050e-02, 5.010e-02, 5.130e-02,\n",
       "       5.140e-02, 5.180e-02, 5.180e-02, 5.320e-02, 5.290e-02, 5.140e-02,\n",
       "       5.170e-02, 5.130e-02, 5.210e-02, 5.150e-02, 5.220e-02, 5.350e-02,\n",
       "       5.280e-02, 4.960e-02, 5.250e-02, 5.250e-02, 5.240e-02, 5.060e-02,\n",
       "       5.210e-02, 5.220e-02, 5.360e-02, 5.190e-02, 5.320e-02, 5.160e-02,\n",
       "       5.000e-02, 5.030e-02, 5.100e-02, 5.100e-02, 4.960e-02, 4.370e-02,\n",
       "       4.330e-02, 4.570e-02, 4.480e-02, 4.480e-02, 4.660e-02, 4.490e-02,\n",
       "       4.550e-02, 4.660e-02, 4.780e-02, 4.750e-02, 4.980e-02, 4.880e-02,\n",
       "       5.120e-02, 5.300e-02, 5.330e-02, 5.760e-02, 5.800e-02, 5.880e-02,\n",
       "       5.820e-02, 5.630e-02, 5.880e-02, 6.270e-02, 6.310e-02, 6.230e-02,\n",
       "       6.380e-02, 6.210e-02, 5.890e-02, 4.990e-02, 4.850e-02, 4.300e-02,\n",
       "       3.950e-02, 3.630e-02, 3.650e-02, 3.540e-02, 3.370e-02, 2.400e-02,\n",
       "       2.050e-02, 1.780e-02, 1.740e-02, 1.760e-02, 1.790e-02, 1.790e-02,\n",
       "       1.770e-02, 1.740e-02, 1.700e-02, 1.710e-02, 1.690e-02, 1.570e-02,\n",
       "       1.440e-02, 1.220e-02, 1.220e-02, 1.180e-02, 1.200e-02, 1.140e-02,\n",
       "       1.130e-02, 1.110e-02, 9.000e-03, 9.600e-03, 9.800e-03, 9.500e-03,\n",
       "       9.600e-03, 9.300e-03, 9.500e-03, 9.200e-03, 9.600e-03, 9.500e-03,\n",
       "       9.800e-03, 1.080e-02, 1.330e-02, 1.450e-02, 1.590e-02, 1.710e-02,\n",
       "       1.910e-02, 2.230e-02, 2.220e-02, 2.510e-02, 2.760e-02, 2.790e-02,\n",
       "       2.900e-02, 2.990e-02, 3.130e-02, 3.420e-02, 3.520e-02, 3.550e-02,\n",
       "       3.980e-02, 3.950e-02, 4.080e-02, 4.470e-02, 4.620e-02, 4.630e-02,\n",
       "       4.770e-02, 4.860e-02, 5.010e-02, 5.100e-02, 5.050e-02, 4.890e-02,\n",
       "       5.080e-02, 5.030e-02, 5.020e-02, 5.120e-02, 5.160e-02, 5.040e-02,\n",
       "       4.910e-02, 4.730e-02, 4.820e-02, 4.960e-02, 4.010e-02, 3.820e-02,\n",
       "       3.940e-02, 3.150e-02, 3.360e-02, 1.960e-02, 1.900e-02, 1.380e-02,\n",
       "       1.430e-02, 1.890e-02, 1.900e-02, 1.680e-02, 1.720e-02, 9.200e-03,\n",
       "       4.600e-03, 1.000e-04, 1.100e-03, 2.400e-03, 2.600e-03, 2.100e-03,\n",
       "       1.400e-03, 1.400e-03, 1.900e-03, 1.800e-03, 1.500e-03, 1.400e-03,\n",
       "       5.000e-04, 6.000e-04, 6.000e-04, 8.000e-04, 1.300e-03, 1.600e-03,\n",
       "       1.600e-03, 1.600e-03, 1.800e-03, 1.500e-03, 1.400e-03, 1.600e-03,\n",
       "       1.200e-03, 1.700e-03, 1.200e-03, 1.500e-03, 1.500e-03, 9.000e-04,\n",
       "       4.000e-04, 6.000e-04, 3.000e-04, 1.000e-03, 2.000e-04, 2.000e-04,\n",
       "       1.000e-04, 1.000e-04, 2.000e-04, 6.000e-04, 8.000e-04, 7.000e-04,\n",
       "       1.000e-03, 7.000e-04, 9.000e-04, 1.100e-03, 9.000e-04, 1.000e-03,\n",
       "       1.100e-03, 8.000e-04, 5.000e-04, 7.000e-04, 1.100e-03, 7.000e-04,\n",
       "       5.000e-04, 4.000e-04, 4.000e-04, 4.000e-04, 3.000e-04, 2.000e-04,\n",
       "       4.000e-04, 6.000e-04, 7.000e-04, 2.000e-04, 5.000e-04, 5.000e-04,\n",
       "       3.000e-04, 4.000e-04, 4.000e-04, 3.000e-04, 3.000e-04, 2.000e-04,\n",
       "       1.000e-04, 2.000e-04, 4.000e-04, 2.000e-04, 2.000e-04, 3.000e-04,\n",
       "       1.000e-04, 1.000e-04, 1.000e-04, 8.000e-04, 8.000e-04, 0.000e+00,\n",
       "       8.000e-04, 2.200e-03, 1.600e-03, 3.300e-03, 3.300e-03, 2.100e-03,\n",
       "       2.200e-03, 3.400e-03, 2.600e-03, 2.800e-03, 3.300e-03, 2.900e-03,\n",
       "       3.400e-03, 4.800e-03, 5.100e-03, 5.200e-03, 5.300e-03, 7.600e-03,\n",
       "       8.000e-03, 9.800e-03, 1.030e-02, 1.070e-02, 1.010e-02, 1.060e-02,\n",
       "       1.150e-02, 1.270e-02, 1.390e-02, 1.460e-02, 1.650e-02, 1.730e-02,\n",
       "       1.870e-02, 1.930e-02, 1.930e-02, 2.030e-02, 2.110e-02, 2.190e-02,\n",
       "       2.340e-02, 2.370e-02, 2.450e-02])"
      ]
     },
     "execution_count": 48,
     "metadata": {},
     "output_type": "execute_result"
    }
   ],
   "source": [
    "y"
   ]
  },
  {
   "cell_type": "code",
   "execution_count": 51,
   "metadata": {},
   "outputs": [],
   "source": [
    "class Vasicek:\n",
    "    \"\"\"\n",
    "    Vasicek stochastic short-rate model\n",
    "\n",
    "    r(t) = r(t) + k*(theta - r(t))*dt + sigma*dt**0.5*norm(0,1)\n",
    "\n",
    "    Parameters\n",
    "    ----------\n",
    "    k : float, the rate of mean reversion - fit by MLE\n",
    "    theta : float, the long-term interest rate level - fit by MLE\n",
    "    sigma : float, the volatility of rates - fit by MLE\n",
    "    \"\"\"\n",
    "\n",
    "    def __init__(self) -> None:\n",
    "        self.k: Optional[float] = None  # fit parameter\n",
    "        self.theta: Optional[float] = None  # fit parameter\n",
    "        self.sigma: Optional[float] = None  # fit parameter\n",
    "\n",
    "    def __repr__(self) -> str:\n",
    "        return \"Vasicek Model\"\n",
    "\n",
    "    @classmethod\n",
    "    def _log_likelihood(\n",
    "        cls, k: float, theta: float, sigma: float, X: np.ndarray, y: np.ndarray\n",
    "    ) -> float:\n",
    "        \"\"\"\n",
    "        Log likelihood function, given model parameters and observed data\n",
    "\n",
    "        Reference\n",
    "        ---------\n",
    "        https://pdfs.semanticscholar.org/dc0c/75b5d0002607046277a6768b9b54f34877c3.pdf\n",
    "        \"\"\"\n",
    "        B = (1 - np.exp(-k * (X[1:] - X[:-1]))) / k\n",
    "        m = theta * k * B + y[:-1] * (1 - k * B)\n",
    "        v = sigma ** 2 * (B - k / 2 * B ** 2)\n",
    "        return (np.log(2 * np.pi * v) + (y[1:] - m) ** 2 / v).sum() / -2\n",
    "\n",
    "    @property\n",
    "    def _fitted_params(self) -> Dict:\n",
    "        \"\"\"\n",
    "        Returns a dictionary of fitted model parameters.\n",
    "        Parameters default to None if they haven't been fitted yet.\n",
    "        \"\"\"\n",
    "        return dict(k=self.k, theta=self.theta, sigma=self.sigma)\n",
    "\n",
    "    @property\n",
    "    def _check_fitted(self) -> bool:\n",
    "        \"\"\"Returns a boolean indicating whether or not the model has been fitted\"\"\"\n",
    "        return all(x is not None for x in self._fitted_params.values())\n",
    "\n",
    "    def fit(self, X: np.ndarray, y: np.ndarray) -> \"Vasicek\":\n",
    "        \"\"\"\n",
    "        Fits the parameters of the Vasicek model using maximum likelihood.\n",
    "\n",
    "        Parameters\n",
    "        ----------\n",
    "        X : np.array of timesteps in years,\n",
    "            e.g. array([ 0.08333333,  0.16666667,  0.25]\n",
    "        y : np.array of short-rates at each timestep\n",
    "            e.g. array([2.190e-02, 2.160e-02, 2.110e-02]\n",
    "        \"\"\"\n",
    "        # minimize the negative log-likelihood\n",
    "        f = lambda params, X, y: -1 * self._log_likelihood(*params, X=X, y=y)\n",
    "        mle = minimize(f, x0=[0.5, 0.1, 0.1], args=(X, y), method=\"Nelder-Mead\")\n",
    "        if mle.success:\n",
    "            self.k, self.theta, self.sigma = mle.x\n",
    "            return self\n",
    "        else:\n",
    "            raise RuntimeError(\"Model failed to converge\")\n"
   ]
  },
  {
   "cell_type": "code",
   "execution_count": 62,
   "metadata": {},
   "outputs": [
    {
     "data": {
      "text/plain": [
       "{'k': 3.1286885821300157,\n",
       " 'theta': 0.9074884514128012,\n",
       " 'sigma': 0.553151436210664}"
      ]
     },
     "execution_count": 62,
     "metadata": {},
     "output_type": "execute_result"
    }
   ],
   "source": [
    "from io import StringIO\n",
    "\n",
    "data = \"\"\"0, 3\n",
    "0.25, 1.76\n",
    "0.5, 1.2693\n",
    "0.75, 1.196\n",
    "1, 0.9468\n",
    "1.25, 0.9532\n",
    "1.5, 0.6252\n",
    "1.75, 0.8604\n",
    "2, 1.0984\n",
    "2.25, 1.431\n",
    "2.5, 1.3019\n",
    "2.75, 1.4005\n",
    "3, 1.2686\n",
    "3.25, 0.7147\n",
    "3.5, 0.9237\n",
    "3.75, 0.7297\n",
    "4, 0.7105\n",
    "4.25, 0.8683\n",
    "4.5, 0.7406\n",
    "4.75, 0.7314\n",
    "5, 0.6232\"\"\"\n",
    "\n",
    "data = pd.read_csv(StringIO(data), index_col=[0], header=None, squeeze=True)\n",
    "y = data.values\n",
    "X = data.index.values\n",
    "\n",
    "vasicek = Vasicek()\n",
    "vasicek.fit(X, y)\n",
    "vasicek._fitted_params"
   ]
  },
  {
   "cell_type": "code",
   "execution_count": null,
   "metadata": {},
   "outputs": [],
   "source": []
  },
  {
   "cell_type": "code",
   "execution_count": null,
   "metadata": {},
   "outputs": [],
   "source": []
  },
  {
   "cell_type": "code",
   "execution_count": null,
   "metadata": {},
   "outputs": [],
   "source": []
  },
  {
   "cell_type": "code",
   "execution_count": null,
   "metadata": {},
   "outputs": [],
   "source": []
  },
  {
   "cell_type": "code",
   "execution_count": null,
   "metadata": {},
   "outputs": [],
   "source": []
  },
  {
   "cell_type": "code",
   "execution_count": null,
   "metadata": {},
   "outputs": [],
   "source": []
  },
  {
   "cell_type": "code",
   "execution_count": null,
   "metadata": {},
   "outputs": [],
   "source": []
  },
  {
   "cell_type": "code",
   "execution_count": null,
   "metadata": {},
   "outputs": [],
   "source": []
  },
  {
   "cell_type": "code",
   "execution_count": null,
   "metadata": {},
   "outputs": [],
   "source": []
  },
  {
   "cell_type": "code",
   "execution_count": null,
   "metadata": {},
   "outputs": [],
   "source": []
  },
  {
   "cell_type": "code",
   "execution_count": null,
   "metadata": {},
   "outputs": [],
   "source": []
  }
 ],
 "metadata": {
  "kernelspec": {
   "display_name": "Python 3",
   "language": "python",
   "name": "python3"
  },
  "language_info": {
   "codemirror_mode": {
    "name": "ipython",
    "version": 3
   },
   "file_extension": ".py",
   "mimetype": "text/x-python",
   "name": "python",
   "nbconvert_exporter": "python",
   "pygments_lexer": "ipython3",
   "version": "3.6.7"
  }
 },
 "nbformat": 4,
 "nbformat_minor": 2
}
