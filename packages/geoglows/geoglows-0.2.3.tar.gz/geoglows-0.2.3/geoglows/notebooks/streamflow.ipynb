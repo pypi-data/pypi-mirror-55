{
 "cells": [
  {
   "cell_type": "code",
   "execution_count": null,
   "metadata": {},
   "outputs": [],
   "source": [
    "import geoglows"
   ]
  },
  {
   "cell_type": "code",
   "execution_count": null,
   "metadata": {
    "pycharm": {
     "is_executing": false
    }
   },
   "outputs": [],
   "source": [
    "stats = geoglows.streamflow.forecast_stats(12039943, '', api_source=geoglows.streamflow.BYU_ENDPOINT)\n",
    "ensembles = geoglows.streamflow.forecast_ensembles(12039943, '', api_source=geoglows.streamflow.BYU_ENDPOINT)\n",
    "hist = geoglows.streamflow.historic_simulation(12039943, '', api_source=geoglows.streamflow.BYU_ENDPOINT)\n",
    "rperiods = geoglows.streamflow.return_periods(12039943, '', api_source=geoglows.streamflow.BYU_ENDPOINT)\n",
    "seasonal = geoglows.streamflow.seasonal_average(12039943, '', api_source=geoglows.streamflow.BYU_ENDPOINT)"
   ]
  },
  {
   "cell_type": "code",
   "execution_count": null,
   "metadata": {},
   "outputs": [],
   "source": [
    "forecast_figure = geoglows.streamflow.forecast_plot(stats, rperiods, 12039943)\n",
    "forecast_figure.show()"
   ]
  },
  {
   "cell_type": "code",
   "execution_count": null,
   "metadata": {
    "scrolled": true
   },
   "outputs": [],
   "source": [
    "ensembles_figure = geoglows.streamflow.ensembles_plot(ensembles, rperiods, 12039943)\n",
    "ensembles_figure.show()"
   ]
  },
  {
   "cell_type": "code",
   "execution_count": null,
   "metadata": {
    "pycharm": {
     "name": "#%%\n"
    }
   },
   "outputs": [],
   "source": [
    "historic_figure = geoglows.streamflow.historical_plot(hist, rperiods)\n",
    "historic_figure.show()"
   ]
  },
  {
   "cell_type": "code",
   "execution_count": null,
   "metadata": {},
   "outputs": [],
   "source": [
    "seasonal_figure = geoglows.streamflow.seasonal_plot(seasonal)\n",
    "seasonal_figure.show()"
   ]
  }
 ],
 "metadata": {
  "kernelspec": {
   "display_name": "Python 3",
   "language": "python",
   "name": "python3"
  },
  "language_info": {
   "codemirror_mode": {
    "name": "ipython",
    "version": 3
   },
   "file_extension": ".py",
   "mimetype": "text/x-python",
   "name": "python",
   "nbconvert_exporter": "python",
   "pygments_lexer": "ipython3",
   "version": "3.7.5"
  },
  "pycharm": {
   "stem_cell": {
    "cell_type": "raw",
    "source": [],
    "metadata": {
     "collapsed": false
    }
   }
  }
 },
 "nbformat": 4,
 "nbformat_minor": 1
}