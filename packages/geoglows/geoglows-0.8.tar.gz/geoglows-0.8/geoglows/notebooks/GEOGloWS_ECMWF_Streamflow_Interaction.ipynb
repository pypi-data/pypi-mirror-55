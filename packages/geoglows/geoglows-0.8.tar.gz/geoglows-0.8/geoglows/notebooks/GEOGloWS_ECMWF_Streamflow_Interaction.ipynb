{
  "nbformat": 4,
  "nbformat_minor": 0,
  "metadata": {
    "colab": {
      "name": "GEOGloWS ECMWF Streamflow Interaction",
      "provenance": [],
      "private_outputs": true,
      "collapsed_sections": []
    },
    "kernelspec": {
      "name": "python3",
      "display_name": "Python 3"
    }
  },
  "cells": [
    {
      "cell_type": "markdown",
      "metadata": {
        "id": "gLu_P8v5M2kb",
        "colab_type": "text"
      },
      "source": [
        "# GEOGloWS ECMWF Streamflow\n",
        "You can interact with the streamflow model using the geoglows python package. This notebook will take you through some of the functions available. For more information, please refer to https://geoglows.readthedocs.io.\n",
        "\n",
        "If you have problems running this notebook, use the menu on the top left of your screen (by the collaboratory logo and the name of the notebook) to do the following:\n",
        "\n",
        "1.   Click runtime -> reset all runtimes\n",
        "2.   Click Edit -> clear all outputs\n",
        "3.   Try running the entire notebook again\n",
        "\n",
        "Start by installing the package and importing them to your code. Run the next cell to do that."
      ]
    },
    {
      "cell_type": "code",
      "metadata": {
        "id": "2ng-MT1PHyZI",
        "colab_type": "code",
        "colab": {}
      },
      "source": [
        "!pip install geoglows\n",
        "import geoglows\n",
        "from IPython.core.display import display, HTML"
      ],
      "execution_count": 0,
      "outputs": []
    },
    {
      "cell_type": "markdown",
      "metadata": {
        "id": "cJs-CcWVMxlX",
        "colab_type": "text"
      },
      "source": [
        "## Searching by latitude and longitude\n",
        "There are many options to interact with the API, you can search with latitude and longitude for anywhere on the planet."
      ]
    },
    {
      "cell_type": "code",
      "metadata": {
        "id": "t8VtCOb6H6CZ",
        "colab_type": "code",
        "colab": {}
      },
      "source": [
        "# Example in DR Congo Africa, Ubangi River\n",
        "latitude = 2\n",
        "longitude = 18.08"
      ],
      "execution_count": 0,
      "outputs": []
    },
    {
      "cell_type": "code",
      "metadata": {
        "id": "61EoN9rbOC6s",
        "colab_type": "code",
        "colab": {}
      },
      "source": [
        "# Want to check where this stream is? Run this cell to get a link to open a google maps page zoomed to this location!\n",
        "print('https://www.google.com/maps/place/' + str(latitude) + ',' + str(longitude))"
      ],
      "execution_count": 0,
      "outputs": []
    },
    {
      "cell_type": "code",
      "metadata": {
        "id": "H7I9xhRMOAJI",
        "colab_type": "code",
        "colab": {}
      },
      "source": [
        "forecasts = geoglows.streamflow.forecast_stats(lat=latitude, lon=longitude)\n",
        "return_periods = geoglows.streamflow.return_periods(lat=latitude, lon=longitude)"
      ],
      "execution_count": 0,
      "outputs": []
    },
    {
      "cell_type": "code",
      "metadata": {
        "id": "4FRztvdHTSga",
        "colab_type": "code",
        "colab": {}
      },
      "source": [
        "forecast_figure = geoglows.streamflow.forecast_plot(forecasts, return_periods, '')\n",
        "forecast_figure.show()"
      ],
      "execution_count": 0,
      "outputs": []
    },
    {
      "cell_type": "markdown",
      "metadata": {
        "id": "EIyb6gQxSxO3",
        "colab_type": "text"
      },
      "source": [
        "## Interface with a reach_id\n",
        "\n",
        "You can also speed up your code by interfacing with the model directly. Each river on the planet has been assigned an ID. You can determine the ID and then use that in place of latitude and longitude.\n",
        "\n",
        "Notice that the following cells request data from the API 5 times in less time than the 2 you did earlier using only latitude and longitude"
      ]
    },
    {
      "cell_type": "code",
      "metadata": {
        "id": "R0IYMmZRTECb",
        "colab_type": "code",
        "colab": {}
      },
      "source": [
        "# Same exmaple, But this time map the latitude and longitude to an ID used by the GEOGloWS model\n",
        "latitude = 2\n",
        "longitude = 18.08\n",
        "mapping_data = geoglows.streamflow.latlon_to_reach(latitude, longitude)"
      ],
      "execution_count": 0,
      "outputs": []
    },
    {
      "cell_type": "code",
      "metadata": {
        "id": "qLbC-jQDWa3a",
        "colab_type": "code",
        "colab": {}
      },
      "source": [
        "# Take a look at the kind of information thats available by interacting with the model directly.\n",
        "# The distances are in degrees of latitude and longitude\n",
        "mapping_data"
      ],
      "execution_count": 0,
      "outputs": []
    },
    {
      "cell_type": "code",
      "metadata": {
        "id": "MZTXWWP2Wr6-",
        "colab_type": "code",
        "colab": {}
      },
      "source": [
        "# What we're really interested in is just the identifier, so we'll pick that\n",
        "reach_id = mapping_data['reach_id']"
      ],
      "execution_count": 0,
      "outputs": []
    },
    {
      "cell_type": "code",
      "metadata": {
        "id": "Fdpd2cFpSZd-",
        "colab_type": "code",
        "colab": {}
      },
      "source": [
        "# Go collect all the data \n",
        "stats = geoglows.streamflow.forecast_stats(reach_id)\n",
        "ensembles = geoglows.streamflow.forecast_ensembles(reach_id)\n",
        "hist = geoglows.streamflow.historic_simulation(reach_id)\n",
        "rperiods = geoglows.streamflow.return_periods(reach_id)\n",
        "seasonal = geoglows.streamflow.seasonal_average(reach_id)"
      ],
      "execution_count": 0,
      "outputs": []
    },
    {
      "cell_type": "markdown",
      "metadata": {
        "id": "zvuxpaKTXdkN",
        "colab_type": "text"
      },
      "source": [
        "## Visualizing data\n",
        "\n",
        "The geoglows package also has tools for showing all the data you can get from the GEOGloWS ECMWF Streamflow model. Each of the following cells will show one of the plots from the available data."
      ]
    },
    {
      "cell_type": "code",
      "metadata": {
        "id": "zYutYzsv2erQ",
        "colab_type": "code",
        "colab": {}
      },
      "source": [
        "# Statistical summary of the forecasted flows\n",
        "forecast_figure = geoglows.streamflow.forecast_plot(stats, rperiods, reach_id)\n",
        "forecast_figure.show()"
      ],
      "execution_count": 0,
      "outputs": []
    },
    {
      "cell_type": "code",
      "metadata": {
        "scrolled": true,
        "id": "GyPhvx-f2erT",
        "colab_type": "code",
        "colab": {}
      },
      "source": [
        "# View each of the forecasts individually\n",
        "ensembles_figure = geoglows.streamflow.ensembles_plot(ensembles, rperiods, reach_id)\n",
        "ensembles_figure.show()"
      ],
      "execution_count": 0,
      "outputs": []
    },
    {
      "cell_type": "code",
      "metadata": {
        "pycharm": {
          "name": "#%%\n"
        },
        "id": "chzrX8m12erY",
        "colab_type": "code",
        "colab": {}
      },
      "source": [
        "# Historically simulated flow\n",
        "historic_figure = geoglows.streamflow.historical_plot(hist, rperiods, reach_id)\n",
        "historic_figure.show()"
      ],
      "execution_count": 0,
      "outputs": []
    },
    {
      "cell_type": "code",
      "metadata": {
        "id": "WQZj06ai2erb",
        "colab_type": "code",
        "colab": {}
      },
      "source": [
        "# Processing the historical data into a daily average flow\n",
        "seasonal_figure = geoglows.streamflow.seasonal_plot(seasonal, reach_id)\n",
        "seasonal_figure.show()"
      ],
      "execution_count": 0,
      "outputs": []
    },
    {
      "cell_type": "code",
      "metadata": {
        "id": "PtJ0C4B_oMNq",
        "colab_type": "code",
        "colab": {}
      },
      "source": [
        "# View the probabilities table\n",
        "prob_table = geoglows.streamflow.probabilities_table(stats, ensembles, rperiods)\n",
        "display(HTML(prob_table))"
      ],
      "execution_count": 0,
      "outputs": []
    }
  ]
}