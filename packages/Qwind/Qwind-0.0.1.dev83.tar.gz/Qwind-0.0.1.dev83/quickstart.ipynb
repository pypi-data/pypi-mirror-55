{
 "cells": [
  {
   "cell_type": "markdown",
   "metadata": {},
   "source": [
    "# Qwind"
   ]
  },
  {
   "cell_type": "markdown",
   "metadata": {},
   "source": [
    "This notebook shows a quick example on how to get Qwind up and running."
   ]
  },
  {
   "cell_type": "markdown",
   "metadata": {},
   "source": [
    "First, we load the core code module."
   ]
  },
  {
   "cell_type": "code",
   "execution_count": 1,
   "metadata": {},
   "outputs": [],
   "source": [
    "from qwind import wind"
   ]
  },
  {
   "cell_type": "markdown",
   "metadata": {},
   "source": [
    "Next we initialise the black hole system, the parameters we can specifiy are:"
   ]
  },
  {
   "cell_type": "code",
   "execution_count": 2,
   "metadata": {},
   "outputs": [
    {
     "data": {
      "text/plain": [
       "\u001b[0;31mInit signature:\u001b[0m\n",
       "\u001b[0mwind\u001b[0m\u001b[0;34m.\u001b[0m\u001b[0mQwind\u001b[0m\u001b[0;34m(\u001b[0m\u001b[0;34m\u001b[0m\n",
       "\u001b[0;34m\u001b[0m    \u001b[0;34m[\u001b[0m\u001b[0;34m'M=200000000.0'\u001b[0m\u001b[0;34m,\u001b[0m \u001b[0;34m'mdot=0.5'\u001b[0m\u001b[0;34m,\u001b[0m \u001b[0;34m'spin=0.0'\u001b[0m\u001b[0;34m,\u001b[0m \u001b[0;34m'eta=0.06'\u001b[0m\u001b[0;34m,\u001b[0m \u001b[0;34m'r_in=200'\u001b[0m\u001b[0;34m,\u001b[0m \u001b[0;34m'r_out=1600'\u001b[0m\u001b[0;34m,\u001b[0m \u001b[0;34m'r_min=6.0'\u001b[0m\u001b[0;34m,\u001b[0m \u001b[0;34m'r_max=1400'\u001b[0m\u001b[0;34m,\u001b[0m \u001b[0;34m'T=2000000.0'\u001b[0m\u001b[0;34m,\u001b[0m \u001b[0;34m'mu=1'\u001b[0m\u001b[0;34m,\u001b[0m \u001b[0;34m'modes=[]'\u001b[0m\u001b[0;34m,\u001b[0m \u001b[0;34m'rho_shielding=200000000.0'\u001b[0m\u001b[0;34m,\u001b[0m \u001b[0;34m'intsteps=1'\u001b[0m\u001b[0;34m,\u001b[0m \u001b[0;34m'nr=20'\u001b[0m\u001b[0;34m,\u001b[0m \u001b[0;34m\"save_dir='Results'\"\u001b[0m\u001b[0;34m,\u001b[0m \u001b[0;34m\"radiation_mode='SimpleSED'\"\u001b[0m\u001b[0;34m,\u001b[0m \u001b[0;34m'n_cpus=1'\u001b[0m\u001b[0;34m]\u001b[0m\u001b[0;34m,\u001b[0m\u001b[0;34m\u001b[0m\n",
       "\u001b[0;34m\u001b[0m\u001b[0;34m)\u001b[0m\u001b[0;34m\u001b[0m\u001b[0;34m\u001b[0m\u001b[0m\n",
       "\u001b[0;31mDocstring:\u001b[0m      A class used to represent the global properties of the wind, i.e, the accretion disc and black hole properties as well as attributes shared among streamlines.\n",
       "\u001b[0;31mInit docstring:\u001b[0m\n",
       "Parameters\n",
       "----------\n",
       "r_init : float\n",
       "    Radius of the first streamline to launch, in Rg units.\n",
       "M : float\n",
       "    Black Hole Mass in solar mass units.\n",
       "mdot : float\n",
       "    Accretion rate (mdot = L / Ledd)\n",
       "spin : float\n",
       "    Spin black hole parameter between [0,1]\n",
       "eta : float\n",
       "    Accretion efficiency (default is for scalar black hole).\n",
       "Rmin : float\n",
       "    Minimum radius of acc. disc, default is ISCO for scalar black hole.\n",
       "Rmax : float\n",
       "    Maximum radius of acc. disc.\n",
       "T : float\n",
       "    Temperature of the disc atmosphere. Wind is assumed to be isothermal.\n",
       "mu : float\n",
       "    Mean molecular weight ( 1 = pure atomic hydrogen)\n",
       "modes : list \n",
       "    List of modes for debugging purposes. Available modes are:\n",
       "        - 'old_integral': Non adaptive disc integration (much faster but convergence is unreliable.)\n",
       "        - 'altopts': Alternative opacities (experimental)\n",
       "        - 'gravityonly': Disable radiation force, very useful for debugging.\n",
       "rho_shielding : float\n",
       "    Initial density of the shielding material.\n",
       "intsteps : int\n",
       "    If old_integral mode enabled, this refined the integration grid.\n",
       "save_dir : str\n",
       "    Directory to save results.\n",
       "\u001b[0;31mFile:\u001b[0m           /cosma7/data/dp004/dc-quer1/qwind/qwind/wind.py\n",
       "\u001b[0;31mType:\u001b[0m           type\n",
       "\u001b[0;31mSubclasses:\u001b[0m     \n"
      ]
     },
     "metadata": {},
     "output_type": "display_data"
    }
   ],
   "source": [
    "wind.Qwind?"
   ]
  },
  {
   "cell_type": "markdown",
   "metadata": {},
   "source": [
    "For now we just initialise it with the default values,"
   ]
  },
  {
   "cell_type": "code",
   "execution_count": 3,
   "metadata": {},
   "outputs": [
    {
     "name": "stdout",
     "output_type": "stream",
     "text": [
      "r_in: 200.000000 \n",
      " r_out: 1600.000000\n"
     ]
    }
   ],
   "source": [
    "example = wind.Qwind()"
   ]
  },
  {
   "cell_type": "markdown",
   "metadata": {},
   "source": [
    "We can now initialise a streamline at a certain radius with some initial density and velocity by doing"
   ]
  },
  {
   "cell_type": "code",
   "execution_count": 4,
   "metadata": {},
   "outputs": [],
   "source": [
    "line = example.line(r_0 = 300, rho_0 = 2e8, v_z_0 = 1e7)"
   ]
  },
  {
   "cell_type": "markdown",
   "metadata": {},
   "source": [
    "And iterate its equation of motion"
   ]
  },
  {
   "cell_type": "code",
   "execution_count": 5,
   "metadata": {},
   "outputs": [
    {
     "data": {
      "application/vnd.jupyter.widget-view+json": {
       "model_id": "135f9537fdd24fe5ad560b1542ecf3e0",
       "version_major": 2,
       "version_minor": 0
      },
      "text/plain": [
       "HBox(children=(IntProgress(value=0, max=5000), HTML(value='')))"
      ]
     },
     "metadata": {},
     "output_type": "display_data"
    },
    {
     "name": "stdout",
     "output_type": "stream",
     "text": [
      "Failed wind! \n",
      "\n",
      "\n"
     ]
    }
   ],
   "source": [
    "line.iterate(niter = 5000)"
   ]
  },
  {
   "cell_type": "markdown",
   "metadata": {},
   "source": [
    "As we have been indicated, the line has fallen back to the disc. We can now plot different properties of the stramline."
   ]
  },
  {
   "cell_type": "code",
   "execution_count": 6,
   "metadata": {},
   "outputs": [],
   "source": [
    "import matplotlib.pyplot as plt"
   ]
  },
  {
   "cell_type": "code",
   "execution_count": 7,
   "metadata": {},
   "outputs": [
    {
     "data": {
      "text/plain": [
       "[<matplotlib.lines.Line2D at 0x7f71e1d15828>]"
      ]
     },
     "execution_count": 7,
     "metadata": {},
     "output_type": "execute_result"
    },
    {
     "data": {
      "image/png": "[encoded data removed]",
      "text/plain": [
       "<Figure size 432x288 with 1 Axes>"
      ]
     },
     "metadata": {
      "needs_background": "light"
     },
     "output_type": "display_data"
    }
   ],
   "source": [
    "plt.plot(line.r_hist, line.z_hist)"
   ]
  },
  {
   "cell_type": "markdown",
   "metadata": {},
   "source": [
    "The ammount of debugging information available for a streamline is:"
   ]
  },
  {
   "cell_type": "code",
   "execution_count": 8,
   "metadata": {},
   "outputs": [
    {
     "name": "stdout",
     "output_type": "stream",
     "text": [
      "v_r_hist\n",
      "v_esc_hist\n",
      "tau_dr_hist\n",
      "x_hist\n",
      "d_hist\n",
      "t_hist\n",
      "r_hist\n",
      "phi_hist\n",
      "z_hist\n",
      "v_phi_hist\n",
      "v_z_hist\n",
      "v_hist\n",
      "v_T_hist\n",
      "rho_hist\n",
      "dvt_hist\n",
      "v2_hist\n",
      "dv_dr_hist\n",
      "dr_e_hist\n",
      "tau_uv_hist\n",
      "tau_x_hist\n",
      "tau_eff_hist\n",
      "taumax_hist\n",
      "fm_hist\n",
      "xi_hist\n",
      "a_hist\n"
     ]
    }
   ],
   "source": [
    "for key in line.__dict__.keys():\n",
    "    if 'hist' in key:\n",
    "        print(key)"
   ]
  },
  {
   "cell_type": "markdown",
   "metadata": {},
   "source": [
    "We can also lunch several lines at once, and use the built in embarrassingly parallel implementation."
   ]
  },
  {
   "cell_type": "code",
   "execution_count": 9,
   "metadata": {},
   "outputs": [
    {
     "name": "stdout",
     "output_type": "stream",
     "text": [
      "r_in: 200.000000 \n",
      " r_out: 1600.000000\n"
     ]
    }
   ],
   "source": [
    "example_parallel = wind.Qwind(n_cpus=3)"
   ]
  },
  {
   "cell_type": "code",
   "execution_count": 10,
   "metadata": {},
   "outputs": [
    {
     "name": "stdout",
     "output_type": "stream",
     "text": [
      "Starting line iteration\n",
      "multiple cpus\n",
      "Failed wind! \n",
      "\n",
      "\n"
     ]
    },
    {
     "data": {
      "application/vnd.jupyter.widget-view+json": {
       "model_id": "60e4d836140c41028080ca828a4c97f0",
       "version_major": 2,
       "version_minor": 0
      },
      "text/plain": [
       "HBox(children=(IntProgress(value=0, max=50000), HTML(value='')))"
      ]
     },
     "metadata": {},
     "output_type": "display_data"
    },
    {
     "name": "stdout",
     "output_type": "stream",
     "text": [
      "escape velocity reached.\n",
      "escape velocity reached.\n",
      "Failed wind! \n",
      "\n"
     ]
    },
    {
     "data": {
      "application/vnd.jupyter.widget-view+json": {
       "model_id": "2c4fe5c450a24122b2aa0766a9f9582e",
       "version_major": 2,
       "version_minor": 0
      },
      "text/plain": [
       "HBox(children=(IntProgress(value=0, max=50000), HTML(value='')))"
      ]
     },
     "metadata": {},
     "output_type": "display_data"
    },
    {
     "name": "stdout",
     "output_type": "stream",
     "text": [
      "out of grid \n",
      "\n"
     ]
    },
    {
     "data": {
      "application/vnd.jupyter.widget-view+json": {
       "model_id": "6450d4ae7f584372b353cd1dae1d950b",
       "version_major": 2,
       "version_minor": 0
      },
      "text/plain": [
       "HBox(children=(IntProgress(value=0, max=50000), HTML(value='')))"
      ]
     },
     "metadata": {},
     "output_type": "display_data"
    },
    {
     "name": "stdout",
     "output_type": "stream",
     "text": [
      "Failed wind! \n",
      "\n"
     ]
    },
    {
     "data": {
      "application/vnd.jupyter.widget-view+json": {
       "model_id": "3baaa10a8e574515a7efbf0bd71bd08e",
       "version_major": 2,
       "version_minor": 0
      },
      "text/plain": [
       "HBox(children=(IntProgress(value=0, max=50000), HTML(value='')))"
      ]
     },
     "metadata": {},
     "output_type": "display_data"
    },
    {
     "name": "stdout",
     "output_type": "stream",
     "text": [
      "out of grid \n",
      "\n"
     ]
    },
    {
     "data": {
      "application/vnd.jupyter.widget-view+json": {
       "model_id": "32315aaa1d4a42509e6d39275c6ba60f",
       "version_major": 2,
       "version_minor": 0
      },
      "text/plain": [
       "HBox(children=(IntProgress(value=0, max=50000), HTML(value='')))"
      ]
     },
     "metadata": {},
     "output_type": "display_data"
    },
    {
     "name": "stdout",
     "output_type": "stream",
     "text": [
      "Failed wind! \n",
      "\n"
     ]
    },
    {
     "data": {
      "application/vnd.jupyter.widget-view+json": {
       "model_id": "0866ea60444048cab67794c3d7abd64d",
       "version_major": 2,
       "version_minor": 0
      },
      "text/plain": [
       "HBox(children=(IntProgress(value=0, max=50000), HTML(value='')))"
      ]
     },
     "metadata": {},
     "output_type": "display_data"
    },
    {
     "name": "stdout",
     "output_type": "stream",
     "text": [
      "Failed wind! \n",
      "\n"
     ]
    },
    {
     "data": {
      "application/vnd.jupyter.widget-view+json": {
       "model_id": "48b571c18f0b471ebe79b7824ebb3e5c",
       "version_major": 2,
       "version_minor": 0
      },
      "text/plain": [
       "HBox(children=(IntProgress(value=0, max=50000), HTML(value='')))"
      ]
     },
     "metadata": {},
     "output_type": "display_data"
    },
    {
     "name": "stdout",
     "output_type": "stream",
     "text": [
      "Failed wind! \n",
      "\n"
     ]
    },
    {
     "data": {
      "application/vnd.jupyter.widget-view+json": {
       "model_id": "2282e0ab610f457b9d40f5b8bb5337d2",
       "version_major": 2,
       "version_minor": 0
      },
      "text/plain": [
       "HBox(children=(IntProgress(value=0, max=50000), HTML(value='')))"
      ]
     },
     "metadata": {},
     "output_type": "display_data"
    },
    {
     "name": "stdout",
     "output_type": "stream",
     "text": [
      "Failed wind! \n",
      "\n"
     ]
    },
    {
     "data": {
      "application/vnd.jupyter.widget-view+json": {
       "model_id": "6ab2e7da71db463f892ab28f8da8b890",
       "version_major": 2,
       "version_minor": 0
      },
      "text/plain": [
       "HBox(children=(IntProgress(value=0, max=50000), HTML(value='')))"
      ]
     },
     "metadata": {},
     "output_type": "display_data"
    },
    {
     "name": "stdout",
     "output_type": "stream",
     "text": [
      "Failed wind! \n",
      "\n"
     ]
    },
    {
     "data": {
      "application/vnd.jupyter.widget-view+json": {
       "model_id": "0b0d40486e06458fb539a1bb5d09eb14",
       "version_major": 2,
       "version_minor": 0
      },
      "text/plain": [
       "HBox(children=(IntProgress(value=0, max=50000), HTML(value='')))"
      ]
     },
     "metadata": {},
     "output_type": "display_data"
    },
    {
     "name": "stdout",
     "output_type": "stream",
     "text": [
      "Failed wind! \n",
      "\n"
     ]
    },
    {
     "data": {
      "application/vnd.jupyter.widget-view+json": {
       "model_id": "ca03bba47c2c40169fe6991934542b60",
       "version_major": 2,
       "version_minor": 0
      },
      "text/plain": [
       "HBox(children=(IntProgress(value=0, max=50000), HTML(value='')))"
      ]
     },
     "metadata": {},
     "output_type": "display_data"
    },
    {
     "name": "stdout",
     "output_type": "stream",
     "text": [
      "Failed wind! \n",
      "\n"
     ]
    },
    {
     "data": {
      "application/vnd.jupyter.widget-view+json": {
       "model_id": "2e767fb4cd654cf2b7211f662ccb44a0",
       "version_major": 2,
       "version_minor": 0
      },
      "text/plain": [
       "HBox(children=(IntProgress(value=0, max=50000), HTML(value='')))"
      ]
     },
     "metadata": {},
     "output_type": "display_data"
    },
    {
     "name": "stdout",
     "output_type": "stream",
     "text": [
      "Failed wind! \n",
      "\n"
     ]
    },
    {
     "data": {
      "application/vnd.jupyter.widget-view+json": {
       "model_id": "9c0f07b56872449d98bdd57529bc4960",
       "version_major": 2,
       "version_minor": 0
      },
      "text/plain": [
       "HBox(children=(IntProgress(value=0, max=50000), HTML(value='')))"
      ]
     },
     "metadata": {},
     "output_type": "display_data"
    },
    {
     "name": "stdout",
     "output_type": "stream",
     "text": [
      "Failed wind! \n",
      "\n"
     ]
    },
    {
     "data": {
      "application/vnd.jupyter.widget-view+json": {
       "model_id": "90d3c0aa5de74828ae7aca9bac405d63",
       "version_major": 2,
       "version_minor": 0
      },
      "text/plain": [
       "HBox(children=(IntProgress(value=0, max=50000), HTML(value='')))"
      ]
     },
     "metadata": {},
     "output_type": "display_data"
    },
    {
     "name": "stdout",
     "output_type": "stream",
     "text": [
      "Failed wind! \n",
      "\n"
     ]
    },
    {
     "data": {
      "application/vnd.jupyter.widget-view+json": {
       "model_id": "f9e3db8e34c4438591ade76c1e8b334b",
       "version_major": 2,
       "version_minor": 0
      },
      "text/plain": [
       "HBox(children=(IntProgress(value=0, max=50000), HTML(value='')))"
      ]
     },
     "metadata": {},
     "output_type": "display_data"
    },
    {
     "name": "stdout",
     "output_type": "stream",
     "text": [
      "Failed wind! \n",
      "\n"
     ]
    },
    {
     "data": {
      "application/vnd.jupyter.widget-view+json": {
       "model_id": "8bf2728173f842dc8ea5319a98e0f043",
       "version_major": 2,
       "version_minor": 0
      },
      "text/plain": [
       "HBox(children=(IntProgress(value=0, max=50000), HTML(value='')))"
      ]
     },
     "metadata": {},
     "output_type": "display_data"
    },
    {
     "name": "stdout",
     "output_type": "stream",
     "text": [
      "Failed wind! \n",
      "\n",
      "Failed wind! \n",
      "\n",
      "Failed wind! \n",
      "\n"
     ]
    },
    {
     "data": {
      "application/vnd.jupyter.widget-view+json": {
       "model_id": "b77a63d15f204c9ba965bcc35d02897f",
       "version_major": 2,
       "version_minor": 0
      },
      "text/plain": [
       "HBox(children=(IntProgress(value=0, max=50000), HTML(value='')))"
      ]
     },
     "metadata": {},
     "output_type": "display_data"
    },
    {
     "name": "stdout",
     "output_type": "stream",
     "text": [
      "Failed wind! \n",
      "\n"
     ]
    },
    {
     "data": {
      "text/plain": [
       "[<qwind.streamline.streamline at 0x7f71e1cc4fd0>,\n",
       " <qwind.streamline.streamline at 0x7f71e00aacc0>,\n",
       " <qwind.streamline.streamline at 0x7f71e1cdc240>,\n",
       " <qwind.streamline.streamline at 0x7f71e08cef28>,\n",
       " <qwind.streamline.streamline at 0x7f71e1c56908>,\n",
       " <qwind.streamline.streamline at 0x7f71e1c6b908>,\n",
       " <qwind.streamline.streamline at 0x7f71e00aae80>,\n",
       " <qwind.streamline.streamline at 0x7f71d24e7438>,\n",
       " <qwind.streamline.streamline at 0x7f71e1c2d390>,\n",
       " <qwind.streamline.streamline at 0x7f71d25d8ac8>,\n",
       " <qwind.streamline.streamline at 0x7f71d2e3a978>,\n",
       " <qwind.streamline.streamline at 0x7f71d0a3c2e8>,\n",
       " <qwind.streamline.streamline at 0x7f71d2e3af28>,\n",
       " <qwind.streamline.streamline at 0x7f71cc9a7390>,\n",
       " <qwind.streamline.streamline at 0x7f71e00aaf60>,\n",
       " <qwind.streamline.streamline at 0x7f71ccc75a20>,\n",
       " <qwind.streamline.streamline at 0x7f71cf1b9ef0>,\n",
       " <qwind.streamline.streamline at 0x7f71ca4765f8>,\n",
       " <qwind.streamline.streamline at 0x7f71e00aab38>,\n",
       " <qwind.streamline.streamline at 0x7f71c9dab550>]"
      ]
     },
     "execution_count": 10,
     "metadata": {},
     "output_type": "execute_result"
    }
   ],
   "source": [
    "example_parallel.start_lines(v_z_0=1e7, rho=2e8, niter=50000)"
   ]
  },
  {
   "cell_type": "code",
   "execution_count": 11,
   "metadata": {},
   "outputs": [
    {
     "data": {
      "image/png": "[encoded data removed]",
      "text/plain": [
       "<Figure size 432x288 with 1 Axes>"
      ]
     },
     "metadata": {
      "needs_background": "light"
     },
     "output_type": "display_data"
    }
   ],
   "source": [
    "for line in example_parallel.lines:\n",
    "    plt.plot(line.r_hist, line.z_hist)"
   ]
  },
  {
   "cell_type": "markdown",
   "metadata": {},
   "source": [
    "When a streamline succesfuly launches, we can get the wind mass loss rate using"
   ]
  },
  {
   "cell_type": "code",
   "execution_count": 14,
   "metadata": {},
   "outputs": [
    {
     "data": {
      "text/plain": [
       "1.876864200419816e+24"
      ]
     },
     "execution_count": 14,
     "metadata": {},
     "output_type": "execute_result"
    }
   ],
   "source": [
    "example_parallel.mdot_w # units of g/s"
   ]
  },
  {
   "cell_type": "code",
   "execution_count": null,
   "metadata": {},
   "outputs": [],
   "source": []
  },
  {
   "cell_type": "code",
   "execution_count": null,
   "metadata": {},
   "outputs": [],
   "source": []
  }
 ],
 "metadata": {
  "kernelspec": {
   "display_name": "Python 3",
   "language": "python",
   "name": "python3"
  },
  "language_info": {
   "codemirror_mode": {
    "name": "ipython",
    "version": 3
   },
   "file_extension": ".py",
   "mimetype": "text/x-python",
   "name": "python",
   "nbconvert_exporter": "python",
   "pygments_lexer": "ipython3",
   "version": "3.7.3"
  }
 },
 "nbformat": 4,
 "nbformat_minor": 2
}
