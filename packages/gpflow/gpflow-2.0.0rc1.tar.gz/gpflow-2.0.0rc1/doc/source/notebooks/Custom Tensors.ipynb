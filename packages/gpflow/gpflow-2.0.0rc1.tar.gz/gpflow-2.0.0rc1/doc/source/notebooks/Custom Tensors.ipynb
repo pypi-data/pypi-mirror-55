{
 "cells": [
  {
   "cell_type": "markdown",
   "metadata": {},
   "source": [
    "This example shows the extensibility of the TF2.0 and how users can define an object which behaves like a tensor or variable, so that the TF2.0 functions works with them respectively."
   ]
  },
  {
   "cell_type": "markdown",
   "metadata": {},
   "source": [
    "Here, we consider \n",
    "\n",
    "Certain variables that we want to optimise need to be constrained to particular values (e.g. variances need to be positive), but we want to optimise them using unconstrained algorithms. Users of models want to interact with the variables in their ‘natural’ constrained form. Bijectors in Tensorflow Probabilities seem to be designed to handle this. However, the root node (i.e. the one we optimise) is always the unconstrained variable, with the constrained node (i.e. in the form that is natural for the user to interact with) dangling off it in the computational graph. This means that we cannot assign values to the node representing the constrained ‘natural’ parameterisation. The combination of the bijector-like abstraction, constrained and unconstrained representations of the parameter in a single abstraction would facilitate ML code development, allowing users to focus on other critical parts of the models."
   ]
  },
  {
   "cell_type": "code",
   "execution_count": null,
   "metadata": {},
   "outputs": [],
   "source": []
  }
 ],
 "metadata": {
  "kernelspec": {
   "display_name": "Python 3",
   "language": "python",
   "name": "python3"
  },
  "language_info": {
   "codemirror_mode": {
    "name": "ipython",
    "version": 3
   },
   "file_extension": ".py",
   "mimetype": "text/x-python",
   "name": "python",
   "nbconvert_exporter": "python",
   "pygments_lexer": "ipython3",
   "version": "3.6.8"
  }
 },
 "nbformat": 4,
 "nbformat_minor": 2
}
