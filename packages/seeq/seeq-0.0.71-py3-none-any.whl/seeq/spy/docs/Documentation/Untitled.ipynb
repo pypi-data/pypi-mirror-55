{
 "cells": [
  {
   "cell_type": "code",
   "execution_count": 1,
   "metadata": {},
   "outputs": [],
   "source": [
    "from seeq import spy"
   ]
  },
  {
   "cell_type": "code",
   "execution_count": 2,
   "metadata": {},
   "outputs": [
    {
     "data": {
      "text/html": [
       "<div style=\"background-color: #EEFFEE;text-align: left;\">Logged in to <strong>http://localhost:34216/api</strong> successfully as <strong>mark.derbecker@seeq.com (Mark Derbecker [Admin])</strong></div>"
      ],
      "text/plain": [
       "<IPython.core.display.HTML object>"
      ]
     },
     "metadata": {},
     "output_type": "display_data"
    }
   ],
   "source": [
    "spy.login('mark.derbecker@seeq.com', 'DataLab!')"
   ]
  },
  {
   "cell_type": "code",
   "execution_count": 3,
   "metadata": {},
   "outputs": [
    {
     "data": {
      "text/html": [
       "<div style=\"background-color: #EEFFEE;text-align: left;\">Query successful</div><table><tr><td style=\"background-color: #EEFFEE;\"></td><td style=\"background-color: #EEFFEE;\">Count</td><td style=\"background-color: #EEFFEE;\">Time</td></tr><tr style=\"background-color: #EEFFEE;\"><td>Results</td><td>1</td><td>00:00:00.08</td></tr></table>"
      ],
      "text/plain": [
       "<IPython.core.display.HTML object>"
      ]
     },
     "metadata": {},
     "output_type": "display_data"
    }
   ],
   "source": [
    "search_results = spy.search({\n",
    "    'Name': 'A Signal With No Home'\n",
    "})"
   ]
  },
  {
   "cell_type": "code",
   "execution_count": 4,
   "metadata": {},
   "outputs": [
    {
     "data": {
      "text/html": [
       "<div style=\"background-color: #FFEEEE;text-align: left;\">Error encountered, scroll down to view</div><table><tr><td style=\"background-color: #FFEEEE;\"></td><td style=\"background-color: #FFEEEE;\">ID</td><td style=\"background-color: #FFEEEE;\">Name</td><td style=\"background-color: #FFEEEE;\">Count</td><td style=\"background-color: #FFEEEE;\">Time</td><td style=\"background-color: #FFEEEE;\">Result</td></tr><tr style=\"background-color: #FFEEEE;\"><td>0</td><td>CBF1FEB4-3161-4AE5-B384-6B18E14796C3</td><td>A Signal With No Home</td><td>0</td><td>0</td><td>Error</td></tr></table>"
      ],
      "text/plain": [
       "<IPython.core.display.HTML object>"
      ]
     },
     "metadata": {},
     "output_type": "display_data"
    },
    {
     "ename": "ApiException",
     "evalue": "(400)\nReason: Bad Request\nHTTP response headers: HTTPHeaderDict({'X-DNS-Prefetch-Control': 'off', 'X-Frame-Options': 'DENY', 'Strict-Transport-Security': 'max-age=15552000; includeSubDomains', 'X-Content-Type-Options': 'nosniff', 'X-XSS-Protection': '1; mode=block', 'server': 'Seeq/R21.0.44.00-BETA', 'server-timing': '0;dur=0.00;desc=Datasource,1;dur=0.00;desc=Cache,2;dur=256.29;desc=Processing,3;dur=0.00;desc=GC,4;dur=0.77;desc=\"Request Queue\",5;dur=0.00;desc=\"Calc Engine Queue\",6;dur=257.06;desc=Total', 'server-meters': '0;dur=0;desc=\"Datasource Samples Read\",1;dur=0;desc=\"Datasource Capsules Read\",2;dur=0;desc=\"Cache Samples Read\",3;dur=0;desc=\"Cache In-Memory Samples Read\"', 'Vary': 'Accept-Encoding', 'content-type': 'application/vnd.seeq.v1+json', 'connection': 'close', 'content-length': '523', 'Date': 'Wed, 18 Sep 2019 21:43:01 GMT'})\nHTTP response body: {\"message\":\"The target datasource is disconnected or no longer exists - {datasourceClass\\u003dSpy Tests, datasourceId\\u003dSpy Tests, dataId\\u003dA Signal With No Home} at \\u0027resample\\u0027, line\\u003d1, column\\u003d1\",\"errorType\":\"RUNTIME_ERROR\",\"errorCategory\":\"RUNTIME\",\"line\":1,\"column\":1,\"statusMessage\":\"The target datasource is disconnected or no longer exists - {datasourceClass\\u003dSpy Tests, datasourceId\\u003dSpy Tests, dataId\\u003dA Signal With No Home} at \\u0027resample\\u0027, line\\u003d1, column\\u003d1\"}\n",
     "output_type": "error",
     "traceback": [
      "\u001b[1;31m---------------------------------------------------------------------------\u001b[0m",
      "\u001b[1;31mApiException\u001b[0m                              Traceback (most recent call last)",
      "\u001b[1;32m<ipython-input-4-c5b726a67009>\u001b[0m in \u001b[0;36m<module>\u001b[1;34m\u001b[0m\n\u001b[1;32m----> 1\u001b[1;33m \u001b[0mpull_results\u001b[0m \u001b[1;33m=\u001b[0m \u001b[0mspy\u001b[0m\u001b[1;33m.\u001b[0m\u001b[0mpull\u001b[0m\u001b[1;33m(\u001b[0m\u001b[0msearch_results\u001b[0m\u001b[1;33m,\u001b[0m \u001b[0mstart\u001b[0m\u001b[1;33m=\u001b[0m\u001b[1;34m'2019-01-01'\u001b[0m\u001b[1;33m,\u001b[0m \u001b[0mend\u001b[0m\u001b[1;33m=\u001b[0m\u001b[1;34m'2019-03-07'\u001b[0m\u001b[1;33m)\u001b[0m\u001b[1;33m\u001b[0m\u001b[1;33m\u001b[0m\u001b[0m\n\u001b[0m",
      "\u001b[1;32mJ:\\BitBucket\\crab2\\sdk\\pypi\\seeq\\spy\\_pull.py\u001b[0m in \u001b[0;36mpull\u001b[1;34m(items, start, end, grid, header, capsules_as, tz_convert, calculation, bounding_values, return_status_df, errors, quiet)\u001b[0m\n\u001b[0;32m    184\u001b[0m                         \u001b[1;32mbreak\u001b[0m\u001b[1;33m\u001b[0m\u001b[1;33m\u001b[0m\u001b[0m\n\u001b[0;32m    185\u001b[0m \u001b[1;33m\u001b[0m\u001b[0m\n\u001b[1;32m--> 186\u001b[1;33m             \u001b[0m_drain_status_updates\u001b[0m\u001b[1;33m(\u001b[0m\u001b[1;33m)\u001b[0m\u001b[1;33m\u001b[0m\u001b[1;33m\u001b[0m\u001b[0m\n\u001b[0m\u001b[0;32m    187\u001b[0m \u001b[1;33m\u001b[0m\u001b[0m\n\u001b[0;32m    188\u001b[0m             \u001b[1;31m# noinspection PyUnresolvedReferences\u001b[0m\u001b[1;33m\u001b[0m\u001b[1;33m\u001b[0m\u001b[1;33m\u001b[0m\u001b[0m\n",
      "\u001b[1;32mJ:\\BitBucket\\crab2\\sdk\\pypi\\seeq\\spy\\_pull.py\u001b[0m in \u001b[0;36m_drain_status_updates\u001b[1;34m()\u001b[0m\n\u001b[0;32m    145\u001b[0m \u001b[1;33m\u001b[0m\u001b[0m\n\u001b[0;32m    146\u001b[0m                         \u001b[1;32mif\u001b[0m \u001b[0m_exc_info\u001b[0m \u001b[1;32mand\u001b[0m \u001b[0merrors\u001b[0m \u001b[1;33m==\u001b[0m \u001b[1;34m'raise'\u001b[0m\u001b[1;33m:\u001b[0m\u001b[1;33m\u001b[0m\u001b[1;33m\u001b[0m\u001b[0m\n\u001b[1;32m--> 147\u001b[1;33m                             \u001b[1;32mraise\u001b[0m \u001b[0m_exc_info\u001b[0m\u001b[1;33m\u001b[0m\u001b[1;33m\u001b[0m\u001b[0m\n\u001b[0m\u001b[0;32m    148\u001b[0m \u001b[1;33m\u001b[0m\u001b[0m\n\u001b[0;32m    149\u001b[0m                         \u001b[0mstatus_df\u001b[0m\u001b[1;33m.\u001b[0m\u001b[0mat\u001b[0m\u001b[1;33m[\u001b[0m\u001b[0m_index\u001b[0m\u001b[1;33m,\u001b[0m \u001b[1;34m'Result'\u001b[0m\u001b[1;33m]\u001b[0m \u001b[1;33m=\u001b[0m \u001b[0m_message\u001b[0m\u001b[1;33m\u001b[0m\u001b[1;33m\u001b[0m\u001b[0m\n",
      "\u001b[1;32mJ:\\BitBucket\\crab2\\sdk\\pypi\\seeq\\spy\\_pull.py\u001b[0m in \u001b[0;36m_pull_signal\u001b[1;34m(formulas_api, formula, parameters, item_id, item_name, pulled_series, pd_start, pd_end, tz, column_names, stop_event, status_updates, index, bounding_values)\u001b[0m\n\u001b[0;32m    469\u001b[0m                 \u001b[0mend\u001b[0m\u001b[1;33m=\u001b[0m\u001b[1;34m'%d ns'\u001b[0m \u001b[1;33m%\u001b[0m \u001b[0mpd_end\u001b[0m\u001b[1;33m.\u001b[0m\u001b[0mvalue\u001b[0m\u001b[1;33m,\u001b[0m\u001b[1;33m\u001b[0m\u001b[1;33m\u001b[0m\u001b[0m\n\u001b[0;32m    470\u001b[0m                 \u001b[0moffset\u001b[0m\u001b[1;33m=\u001b[0m\u001b[1;36m0\u001b[0m\u001b[1;33m,\u001b[0m\u001b[1;33m\u001b[0m\u001b[1;33m\u001b[0m\u001b[0m\n\u001b[1;32m--> 471\u001b[1;33m                 limit=_common.DEFAULT_PULL_PAGE_SIZE)  # type: FormulaRunOutputV1\n\u001b[0m\u001b[0;32m    472\u001b[0m \u001b[1;33m\u001b[0m\u001b[0m\n\u001b[0;32m    473\u001b[0m             \u001b[0mseries_samples_output\u001b[0m \u001b[1;33m=\u001b[0m \u001b[0mformula_run_output\u001b[0m\u001b[1;33m.\u001b[0m\u001b[0msamples\u001b[0m  \u001b[1;31m# type: SeriesSamplesOutputV1\u001b[0m\u001b[1;33m\u001b[0m\u001b[1;33m\u001b[0m\u001b[0m\n",
      "\u001b[1;32mJ:\\BitBucket\\crab2\\sdk\\pypi\\seeq\\sdk\\apis\\formulas_api.py\u001b[0m in \u001b[0;36mrun_formula_with_http_info\u001b[1;34m(self, **kwargs)\u001b[0m\n\u001b[0;32m    892\u001b[0m                                         \u001b[0m_preload_content\u001b[0m\u001b[1;33m=\u001b[0m\u001b[0mparams\u001b[0m\u001b[1;33m.\u001b[0m\u001b[0mget\u001b[0m\u001b[1;33m(\u001b[0m\u001b[1;34m'_preload_content'\u001b[0m\u001b[1;33m,\u001b[0m \u001b[1;32mTrue\u001b[0m\u001b[1;33m)\u001b[0m\u001b[1;33m,\u001b[0m\u001b[1;33m\u001b[0m\u001b[1;33m\u001b[0m\u001b[0m\n\u001b[0;32m    893\u001b[0m                                         \u001b[0m_request_timeout\u001b[0m\u001b[1;33m=\u001b[0m\u001b[0mparams\u001b[0m\u001b[1;33m.\u001b[0m\u001b[0mget\u001b[0m\u001b[1;33m(\u001b[0m\u001b[1;34m'_request_timeout'\u001b[0m\u001b[1;33m)\u001b[0m\u001b[1;33m,\u001b[0m\u001b[1;33m\u001b[0m\u001b[1;33m\u001b[0m\u001b[0m\n\u001b[1;32m--> 894\u001b[1;33m                                         collection_formats=collection_formats)\n\u001b[0m\u001b[0;32m    895\u001b[0m \u001b[1;33m\u001b[0m\u001b[0m\n\u001b[0;32m    896\u001b[0m     \u001b[1;32mdef\u001b[0m \u001b[0mrun_formula_0\u001b[0m\u001b[1;33m(\u001b[0m\u001b[0mself\u001b[0m\u001b[1;33m,\u001b[0m \u001b[1;33m**\u001b[0m\u001b[0mkwargs\u001b[0m\u001b[1;33m)\u001b[0m\u001b[1;33m:\u001b[0m\u001b[1;33m\u001b[0m\u001b[1;33m\u001b[0m\u001b[0m\n",
      "\u001b[1;32mJ:\\BitBucket\\crab2\\sdk\\pypi\\seeq\\sdk\\api_client.py\u001b[0m in \u001b[0;36mcall_api\u001b[1;34m(self, resource_path, method, path_params, query_params, header_params, body, post_params, files, response_type, auth_settings, callback, _return_http_data_only, collection_formats, _preload_content, _request_timeout)\u001b[0m\n\u001b[0;32m    378\u001b[0m                                    \u001b[0mbody\u001b[0m\u001b[1;33m,\u001b[0m \u001b[0mpost_params\u001b[0m\u001b[1;33m,\u001b[0m \u001b[0mfiles\u001b[0m\u001b[1;33m,\u001b[0m\u001b[1;33m\u001b[0m\u001b[1;33m\u001b[0m\u001b[0m\n\u001b[0;32m    379\u001b[0m                                    \u001b[0mresponse_type\u001b[0m\u001b[1;33m,\u001b[0m \u001b[0mauth_settings\u001b[0m\u001b[1;33m,\u001b[0m \u001b[0mcallback\u001b[0m\u001b[1;33m,\u001b[0m\u001b[1;33m\u001b[0m\u001b[1;33m\u001b[0m\u001b[0m\n\u001b[1;32m--> 380\u001b[1;33m                                    _return_http_data_only, collection_formats, _preload_content, _request_timeout)\n\u001b[0m\u001b[0;32m    381\u001b[0m         \u001b[1;32melse\u001b[0m\u001b[1;33m:\u001b[0m\u001b[1;33m\u001b[0m\u001b[1;33m\u001b[0m\u001b[0m\n\u001b[0;32m    382\u001b[0m             thread = threading.Thread(target=self.__call_api,\n",
      "\u001b[1;32mJ:\\BitBucket\\crab2\\sdk\\pypi\\seeq\\sdk\\api_client.py\u001b[0m in \u001b[0;36m__call_api\u001b[1;34m(self, resource_path, method, path_params, query_params, header_params, body, post_params, files, response_type, auth_settings, callback, _return_http_data_only, collection_formats, _preload_content, _request_timeout)\u001b[0m\n\u001b[0;32m    167\u001b[0m                                      \u001b[0mpost_params\u001b[0m\u001b[1;33m=\u001b[0m\u001b[0mpost_params\u001b[0m\u001b[1;33m,\u001b[0m \u001b[0mbody\u001b[0m\u001b[1;33m=\u001b[0m\u001b[0mbody\u001b[0m\u001b[1;33m,\u001b[0m\u001b[1;33m\u001b[0m\u001b[1;33m\u001b[0m\u001b[0m\n\u001b[0;32m    168\u001b[0m                                      \u001b[0m_preload_content\u001b[0m\u001b[1;33m=\u001b[0m\u001b[0m_preload_content\u001b[0m\u001b[1;33m,\u001b[0m\u001b[1;33m\u001b[0m\u001b[1;33m\u001b[0m\u001b[0m\n\u001b[1;32m--> 169\u001b[1;33m                                      _request_timeout=_request_timeout)\n\u001b[0m\u001b[0;32m    170\u001b[0m \u001b[1;33m\u001b[0m\u001b[0m\n\u001b[0;32m    171\u001b[0m         \u001b[0mself\u001b[0m\u001b[1;33m.\u001b[0m\u001b[0mlast_response\u001b[0m \u001b[1;33m=\u001b[0m \u001b[0mresponse_data\u001b[0m\u001b[1;33m\u001b[0m\u001b[1;33m\u001b[0m\u001b[0m\n",
      "\u001b[1;32mJ:\\BitBucket\\crab2\\sdk\\pypi\\seeq\\sdk\\api_client.py\u001b[0m in \u001b[0;36mrequest\u001b[1;34m(self, method, url, query_params, headers, post_params, body, _preload_content, _request_timeout)\u001b[0m\n\u001b[0;32m    401\u001b[0m                                         \u001b[0m_preload_content\u001b[0m\u001b[1;33m=\u001b[0m\u001b[0m_preload_content\u001b[0m\u001b[1;33m,\u001b[0m\u001b[1;33m\u001b[0m\u001b[1;33m\u001b[0m\u001b[0m\n\u001b[0;32m    402\u001b[0m                                         \u001b[0m_request_timeout\u001b[0m\u001b[1;33m=\u001b[0m\u001b[0m_request_timeout\u001b[0m\u001b[1;33m,\u001b[0m\u001b[1;33m\u001b[0m\u001b[1;33m\u001b[0m\u001b[0m\n\u001b[1;32m--> 403\u001b[1;33m                                         headers=headers)\n\u001b[0m\u001b[0;32m    404\u001b[0m         \u001b[1;32melif\u001b[0m \u001b[0mmethod\u001b[0m \u001b[1;33m==\u001b[0m \u001b[1;34m\"HEAD\"\u001b[0m\u001b[1;33m:\u001b[0m\u001b[1;33m\u001b[0m\u001b[1;33m\u001b[0m\u001b[0m\n\u001b[0;32m    405\u001b[0m             return self.rest_client.HEAD(url,\n",
      "\u001b[1;32mJ:\\BitBucket\\crab2\\sdk\\pypi\\seeq\\sdk\\rest.py\u001b[0m in \u001b[0;36mGET\u001b[1;34m(self, url, headers, query_params, _preload_content, _request_timeout)\u001b[0m\n\u001b[0;32m    226\u001b[0m                             \u001b[0m_preload_content\u001b[0m\u001b[1;33m=\u001b[0m\u001b[0m_preload_content\u001b[0m\u001b[1;33m,\u001b[0m\u001b[1;33m\u001b[0m\u001b[1;33m\u001b[0m\u001b[0m\n\u001b[0;32m    227\u001b[0m                             \u001b[0m_request_timeout\u001b[0m\u001b[1;33m=\u001b[0m\u001b[0m_request_timeout\u001b[0m\u001b[1;33m,\u001b[0m\u001b[1;33m\u001b[0m\u001b[1;33m\u001b[0m\u001b[0m\n\u001b[1;32m--> 228\u001b[1;33m                             query_params=query_params)\n\u001b[0m\u001b[0;32m    229\u001b[0m \u001b[1;33m\u001b[0m\u001b[0m\n\u001b[0;32m    230\u001b[0m     \u001b[1;32mdef\u001b[0m \u001b[0mHEAD\u001b[0m\u001b[1;33m(\u001b[0m\u001b[0mself\u001b[0m\u001b[1;33m,\u001b[0m \u001b[0murl\u001b[0m\u001b[1;33m,\u001b[0m \u001b[0mheaders\u001b[0m\u001b[1;33m=\u001b[0m\u001b[1;32mNone\u001b[0m\u001b[1;33m,\u001b[0m \u001b[0mquery_params\u001b[0m\u001b[1;33m=\u001b[0m\u001b[1;32mNone\u001b[0m\u001b[1;33m,\u001b[0m \u001b[0m_preload_content\u001b[0m\u001b[1;33m=\u001b[0m\u001b[1;32mTrue\u001b[0m\u001b[1;33m,\u001b[0m \u001b[0m_request_timeout\u001b[0m\u001b[1;33m=\u001b[0m\u001b[1;32mNone\u001b[0m\u001b[1;33m)\u001b[0m\u001b[1;33m:\u001b[0m\u001b[1;33m\u001b[0m\u001b[1;33m\u001b[0m\u001b[0m\n",
      "\u001b[1;32mJ:\\BitBucket\\crab2\\sdk\\pypi\\seeq\\sdk\\rest.py\u001b[0m in \u001b[0;36mrequest\u001b[1;34m(self, method, url, query_params, headers, body, post_params, _preload_content, _request_timeout)\u001b[0m\n\u001b[0;32m    217\u001b[0m \u001b[1;33m\u001b[0m\u001b[0m\n\u001b[0;32m    218\u001b[0m         \u001b[1;32mif\u001b[0m \u001b[1;32mnot\u001b[0m \u001b[1;36m200\u001b[0m \u001b[1;33m<=\u001b[0m \u001b[0mr\u001b[0m\u001b[1;33m.\u001b[0m\u001b[0mstatus\u001b[0m \u001b[1;33m<=\u001b[0m \u001b[1;36m299\u001b[0m\u001b[1;33m:\u001b[0m\u001b[1;33m\u001b[0m\u001b[1;33m\u001b[0m\u001b[0m\n\u001b[1;32m--> 219\u001b[1;33m             \u001b[1;32mraise\u001b[0m \u001b[0mApiException\u001b[0m\u001b[1;33m(\u001b[0m\u001b[0mhttp_resp\u001b[0m\u001b[1;33m=\u001b[0m\u001b[0mr\u001b[0m\u001b[1;33m)\u001b[0m\u001b[1;33m\u001b[0m\u001b[1;33m\u001b[0m\u001b[0m\n\u001b[0m\u001b[0;32m    220\u001b[0m \u001b[1;33m\u001b[0m\u001b[0m\n\u001b[0;32m    221\u001b[0m         \u001b[1;32mreturn\u001b[0m \u001b[0mr\u001b[0m\u001b[1;33m\u001b[0m\u001b[1;33m\u001b[0m\u001b[0m\n",
      "\u001b[1;31mApiException\u001b[0m: (400)\nReason: Bad Request\nHTTP response headers: HTTPHeaderDict({'X-DNS-Prefetch-Control': 'off', 'X-Frame-Options': 'DENY', 'Strict-Transport-Security': 'max-age=15552000; includeSubDomains', 'X-Content-Type-Options': 'nosniff', 'X-XSS-Protection': '1; mode=block', 'server': 'Seeq/R21.0.44.00-BETA', 'server-timing': '0;dur=0.00;desc=Datasource,1;dur=0.00;desc=Cache,2;dur=256.29;desc=Processing,3;dur=0.00;desc=GC,4;dur=0.77;desc=\"Request Queue\",5;dur=0.00;desc=\"Calc Engine Queue\",6;dur=257.06;desc=Total', 'server-meters': '0;dur=0;desc=\"Datasource Samples Read\",1;dur=0;desc=\"Datasource Capsules Read\",2;dur=0;desc=\"Cache Samples Read\",3;dur=0;desc=\"Cache In-Memory Samples Read\"', 'Vary': 'Accept-Encoding', 'content-type': 'application/vnd.seeq.v1+json', 'connection': 'close', 'content-length': '523', 'Date': 'Wed, 18 Sep 2019 21:43:01 GMT'})\nHTTP response body: {\"message\":\"The target datasource is disconnected or no longer exists - {datasourceClass\\u003dSpy Tests, datasourceId\\u003dSpy Tests, dataId\\u003dA Signal With No Home} at \\u0027resample\\u0027, line\\u003d1, column\\u003d1\",\"errorType\":\"RUNTIME_ERROR\",\"errorCategory\":\"RUNTIME\",\"line\":1,\"column\":1,\"statusMessage\":\"The target datasource is disconnected or no longer exists - {datasourceClass\\u003dSpy Tests, datasourceId\\u003dSpy Tests, dataId\\u003dA Signal With No Home} at \\u0027resample\\u0027, line\\u003d1, column\\u003d1\"}\n"
     ]
    }
   ],
   "source": [
    "pull_results = spy.pull(search_results, start='2019-01-01', end='2019-03-07')"
   ]
  },
  {
   "cell_type": "code",
   "execution_count": 5,
   "metadata": {},
   "outputs": [
    {
     "data": {
      "text/html": [
       "<div style=\"background-color: #EEFFEE;text-align: left;\">Pull successful from <strong>2019-01-01 00:00:00</strong> to <strong>2019-03-07 00:00:00</strong></div><table><tr><td style=\"background-color: #EEFFEE;\"></td><td style=\"background-color: #EEFFEE;\">ID</td><td style=\"background-color: #EEFFEE;\">Name</td><td style=\"background-color: #EEFFEE;\">Count</td><td style=\"background-color: #EEFFEE;\">Time</td><td style=\"background-color: #EEFFEE;\">Result</td></tr><tr style=\"background-color: #EEFFEE;\"><td>0</td><td>CBF1FEB4-3161-4AE5-B384-6B18E14796C3</td><td>A Signal With No Home</td><td>nan</td><td>nan</td><td>(400) Bad Request - The target datasource is disconnected or no longer exists - {datasourceClass=Spy Tests, datasourceId=Spy Tests, dataId=A Signal With No Home} at 'resample', line=1, column=1</td></tr></table>"
      ],
      "text/plain": [
       "<IPython.core.display.HTML object>"
      ]
     },
     "metadata": {},
     "output_type": "display_data"
    }
   ],
   "source": [
    "pull_results, status_df = spy.pull(search_results, start='2019-01-01', end='2019-03-07', errors='catalog',\n",
    "                                   return_status_df=True)"
   ]
  },
  {
   "cell_type": "code",
   "execution_count": 6,
   "metadata": {},
   "outputs": [
    {
     "data": {
      "text/html": [
       "<div>\n",
       "<style scoped>\n",
       "    .dataframe tbody tr th:only-of-type {\n",
       "        vertical-align: middle;\n",
       "    }\n",
       "\n",
       "    .dataframe tbody tr th {\n",
       "        vertical-align: top;\n",
       "    }\n",
       "\n",
       "    .dataframe thead th {\n",
       "        text-align: right;\n",
       "    }\n",
       "</style>\n",
       "<table border=\"1\" class=\"dataframe\">\n",
       "  <thead>\n",
       "    <tr style=\"text-align: right;\">\n",
       "      <th></th>\n",
       "      <th>ID</th>\n",
       "      <th>Name</th>\n",
       "      <th>Count</th>\n",
       "      <th>Time</th>\n",
       "      <th>Result</th>\n",
       "    </tr>\n",
       "  </thead>\n",
       "  <tbody>\n",
       "    <tr>\n",
       "      <th>0</th>\n",
       "      <td>CBF1FEB4-3161-4AE5-B384-6B18E14796C3</td>\n",
       "      <td>A Signal With No Home</td>\n",
       "      <td>NaN</td>\n",
       "      <td>NaN</td>\n",
       "      <td>(400) Bad Request - The target datasource is d...</td>\n",
       "    </tr>\n",
       "  </tbody>\n",
       "</table>\n",
       "</div>"
      ],
      "text/plain": [
       "                                     ID                   Name  Count  Time  \\\n",
       "0  CBF1FEB4-3161-4AE5-B384-6B18E14796C3  A Signal With No Home    NaN   NaN   \n",
       "\n",
       "                                              Result  \n",
       "0  (400) Bad Request - The target datasource is d...  "
      ]
     },
     "execution_count": 6,
     "metadata": {},
     "output_type": "execute_result"
    }
   ],
   "source": [
    "status_df"
   ]
  },
  {
   "cell_type": "code",
   "execution_count": null,
   "metadata": {},
   "outputs": [],
   "source": []
  }
 ],
 "metadata": {
  "kernelspec": {
   "display_name": "Python 3",
   "language": "python",
   "name": "python3"
  },
  "language_info": {
   "codemirror_mode": {
    "name": "ipython",
    "version": 3
   },
   "file_extension": ".py",
   "mimetype": "text/x-python",
   "name": "python",
   "nbconvert_exporter": "python",
   "pygments_lexer": "ipython3",
   "version": "3.7.3"
  }
 },
 "nbformat": 4,
 "nbformat_minor": 2
}
