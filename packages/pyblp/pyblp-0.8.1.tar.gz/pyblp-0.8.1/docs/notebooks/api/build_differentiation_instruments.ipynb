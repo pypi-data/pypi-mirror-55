{
 "cells": [
  {
   "cell_type": "markdown",
   "metadata": {},
   "source": [
    "# Building Differentiation Instruments Example"
   ]
  },
  {
   "cell_type": "code",
   "execution_count": 1,
   "metadata": {},
   "outputs": [
    {
     "data": {
      "text/plain": [
       "'0.8.1'"
      ]
     },
     "execution_count": 1,
     "metadata": {},
     "output_type": "execute_result"
    }
   ],
   "source": [
    "import pyblp\n",
    "import pandas as pd\n",
    "\n",
    "pyblp.__version__"
   ]
  },
  {
   "cell_type": "markdown",
   "metadata": {},
   "source": [
    "In this example, we'll load the automobile product data from :ref:`references:Berry, Levinsohn, and Pakes (1995)` and build some very simple excluded demand-side instruments for the problem in the spirit of :ref:`references:Gandhi and Houde (2017)`."
   ]
  },
  {
   "cell_type": "code",
   "execution_count": 2,
   "metadata": {},
   "outputs": [
    {
     "data": {
      "text/plain": [
       "hpwt + air + mpd + space"
      ]
     },
     "execution_count": 2,
     "metadata": {},
     "output_type": "execute_result"
    }
   ],
   "source": [
    "formulation = pyblp.Formulation('0 + hpwt + air + mpd + space')\n",
    "formulation"
   ]
  },
  {
   "cell_type": "code",
   "execution_count": 3,
   "metadata": {},
   "outputs": [
    {
     "data": {
      "text/html": [
       "<div>\n",
       "<style scoped>\n",
       "    .dataframe tbody tr th:only-of-type {\n",
       "        vertical-align: middle;\n",
       "    }\n",
       "\n",
       "    .dataframe tbody tr th {\n",
       "        vertical-align: top;\n",
       "    }\n",
       "\n",
       "    .dataframe thead th {\n",
       "        text-align: right;\n",
       "    }\n",
       "</style>\n",
       "<table border=\"1\" class=\"dataframe\">\n",
       "  <thead>\n",
       "    <tr style=\"text-align: right;\">\n",
       "      <th></th>\n",
       "      <th>market_ids</th>\n",
       "      <th>clustering_ids</th>\n",
       "      <th>car_ids</th>\n",
       "      <th>firm_ids</th>\n",
       "      <th>region</th>\n",
       "      <th>shares</th>\n",
       "      <th>prices</th>\n",
       "      <th>hpwt</th>\n",
       "      <th>air</th>\n",
       "      <th>mpd</th>\n",
       "      <th>...</th>\n",
       "      <th>supply_instruments11</th>\n",
       "      <th>supply_instruments12</th>\n",
       "      <th>supply_instruments13</th>\n",
       "      <th>supply_instruments14</th>\n",
       "      <th>supply_instruments15</th>\n",
       "      <th>supply_instruments16</th>\n",
       "      <th>supply_instruments17</th>\n",
       "      <th>supply_instruments18</th>\n",
       "      <th>supply_instruments19</th>\n",
       "      <th>supply_instruments20</th>\n",
       "    </tr>\n",
       "  </thead>\n",
       "  <tbody>\n",
       "    <tr>\n",
       "      <td>0</td>\n",
       "      <td>1971</td>\n",
       "      <td>AMGREM71</td>\n",
       "      <td>129</td>\n",
       "      <td>15</td>\n",
       "      <td>US</td>\n",
       "      <td>0.001051</td>\n",
       "      <td>4.935802</td>\n",
       "      <td>0.528997</td>\n",
       "      <td>0</td>\n",
       "      <td>1.888146</td>\n",
       "      <td>...</td>\n",
       "      <td>2.024221</td>\n",
       "      <td>-0.251338</td>\n",
       "      <td>0.741272</td>\n",
       "      <td>0.820281</td>\n",
       "      <td>3.691881</td>\n",
       "      <td>0.566070</td>\n",
       "      <td>-2.328128</td>\n",
       "      <td>0.385197</td>\n",
       "      <td>0.648526</td>\n",
       "      <td>1.052606</td>\n",
       "    </tr>\n",
       "    <tr>\n",
       "      <td>1</td>\n",
       "      <td>1971</td>\n",
       "      <td>AMHORN71</td>\n",
       "      <td>130</td>\n",
       "      <td>15</td>\n",
       "      <td>US</td>\n",
       "      <td>0.000670</td>\n",
       "      <td>5.516049</td>\n",
       "      <td>0.494324</td>\n",
       "      <td>0</td>\n",
       "      <td>1.935989</td>\n",
       "      <td>...</td>\n",
       "      <td>2.026706</td>\n",
       "      <td>-0.205305</td>\n",
       "      <td>0.675468</td>\n",
       "      <td>1.004707</td>\n",
       "      <td>3.628727</td>\n",
       "      <td>0.605683</td>\n",
       "      <td>-2.268975</td>\n",
       "      <td>0.363954</td>\n",
       "      <td>0.643205</td>\n",
       "      <td>0.906429</td>\n",
       "    </tr>\n",
       "    <tr>\n",
       "      <td>2</td>\n",
       "      <td>1971</td>\n",
       "      <td>AMJAVL71</td>\n",
       "      <td>132</td>\n",
       "      <td>15</td>\n",
       "      <td>US</td>\n",
       "      <td>0.000341</td>\n",
       "      <td>7.108642</td>\n",
       "      <td>0.467613</td>\n",
       "      <td>0</td>\n",
       "      <td>1.716799</td>\n",
       "      <td>...</td>\n",
       "      <td>1.882594</td>\n",
       "      <td>-0.417634</td>\n",
       "      <td>0.946640</td>\n",
       "      <td>0.429942</td>\n",
       "      <td>4.001801</td>\n",
       "      <td>0.253461</td>\n",
       "      <td>-2.581003</td>\n",
       "      <td>-0.113763</td>\n",
       "      <td>0.770387</td>\n",
       "      <td>1.511333</td>\n",
       "    </tr>\n",
       "    <tr>\n",
       "      <td>3</td>\n",
       "      <td>1971</td>\n",
       "      <td>AMMATA71</td>\n",
       "      <td>134</td>\n",
       "      <td>15</td>\n",
       "      <td>US</td>\n",
       "      <td>0.000522</td>\n",
       "      <td>6.839506</td>\n",
       "      <td>0.426540</td>\n",
       "      <td>0</td>\n",
       "      <td>1.687871</td>\n",
       "      <td>...</td>\n",
       "      <td>1.846079</td>\n",
       "      <td>-0.445630</td>\n",
       "      <td>0.982922</td>\n",
       "      <td>0.392283</td>\n",
       "      <td>4.061161</td>\n",
       "      <td>0.183331</td>\n",
       "      <td>-2.626074</td>\n",
       "      <td>-0.253065</td>\n",
       "      <td>0.802037</td>\n",
       "      <td>1.583208</td>\n",
       "    </tr>\n",
       "    <tr>\n",
       "      <td>4</td>\n",
       "      <td>1971</td>\n",
       "      <td>AMAMBS71</td>\n",
       "      <td>136</td>\n",
       "      <td>15</td>\n",
       "      <td>US</td>\n",
       "      <td>0.000442</td>\n",
       "      <td>8.928395</td>\n",
       "      <td>0.452489</td>\n",
       "      <td>0</td>\n",
       "      <td>1.504286</td>\n",
       "      <td>...</td>\n",
       "      <td>1.760927</td>\n",
       "      <td>-0.610203</td>\n",
       "      <td>1.201745</td>\n",
       "      <td>-0.085373</td>\n",
       "      <td>4.340853</td>\n",
       "      <td>-0.043107</td>\n",
       "      <td>-2.785686</td>\n",
       "      <td>-0.556135</td>\n",
       "      <td>0.931611</td>\n",
       "      <td>2.177230</td>\n",
       "    </tr>\n",
       "  </tbody>\n",
       "</table>\n",
       "<p>5 rows × 47 columns</p>\n",
       "</div>"
      ],
      "text/plain": [
       "   market_ids clustering_ids  car_ids  firm_ids region    shares    prices  \\\n",
       "0        1971       AMGREM71      129        15     US  0.001051  4.935802   \n",
       "1        1971       AMHORN71      130        15     US  0.000670  5.516049   \n",
       "2        1971       AMJAVL71      132        15     US  0.000341  7.108642   \n",
       "3        1971       AMMATA71      134        15     US  0.000522  6.839506   \n",
       "4        1971       AMAMBS71      136        15     US  0.000442  8.928395   \n",
       "\n",
       "       hpwt  air       mpd  ...  supply_instruments11  supply_instruments12  \\\n",
       "0  0.528997    0  1.888146  ...              2.024221             -0.251338   \n",
       "1  0.494324    0  1.935989  ...              2.026706             -0.205305   \n",
       "2  0.467613    0  1.716799  ...              1.882594             -0.417634   \n",
       "3  0.426540    0  1.687871  ...              1.846079             -0.445630   \n",
       "4  0.452489    0  1.504286  ...              1.760927             -0.610203   \n",
       "\n",
       "   supply_instruments13  supply_instruments14  supply_instruments15  \\\n",
       "0              0.741272              0.820281              3.691881   \n",
       "1              0.675468              1.004707              3.628727   \n",
       "2              0.946640              0.429942              4.001801   \n",
       "3              0.982922              0.392283              4.061161   \n",
       "4              1.201745             -0.085373              4.340853   \n",
       "\n",
       "   supply_instruments16  supply_instruments17  supply_instruments18  \\\n",
       "0              0.566070             -2.328128              0.385197   \n",
       "1              0.605683             -2.268975              0.363954   \n",
       "2              0.253461             -2.581003             -0.113763   \n",
       "3              0.183331             -2.626074             -0.253065   \n",
       "4             -0.043107             -2.785686             -0.556135   \n",
       "\n",
       "   supply_instruments19  supply_instruments20  \n",
       "0              0.648526              1.052606  \n",
       "1              0.643205              0.906429  \n",
       "2              0.770387              1.511333  \n",
       "3              0.802037              1.583208  \n",
       "4              0.931611              2.177230  \n",
       "\n",
       "[5 rows x 47 columns]"
      ]
     },
     "execution_count": 3,
     "metadata": {},
     "output_type": "execute_result"
    }
   ],
   "source": [
    "product_data = pd.read_csv(pyblp.data.BLP_PRODUCTS_LOCATION)\n",
    "product_data.head()"
   ]
  },
  {
   "cell_type": "markdown",
   "metadata": {},
   "source": [
    "Note that we're excluding the constant column because it yields collinear constant columns of differentiation instruments.\n",
    "\n",
    "We'll first build \"local\" differentiation instruments, which are constructed by default, and which consist of counts of \"close\" rival and non-rival products in each market."
   ]
  },
  {
   "cell_type": "code",
   "execution_count": 4,
   "metadata": {},
   "outputs": [
    {
     "data": {
      "text/plain": [
       "(2217, 8)"
      ]
     },
     "execution_count": 4,
     "metadata": {},
     "output_type": "execute_result"
    }
   ],
   "source": [
    "local_instruments = pyblp.build_differentiation_instruments(\n",
    "    formulation, \n",
    "    product_data\n",
    ")\n",
    "local_instruments.shape"
   ]
  },
  {
   "cell_type": "markdown",
   "metadata": {},
   "source": [
    "Next, we'll build a more continuous \"quadratic\" version of the instruments, which consist of sums over squared differences between rival and non-rival products in each market."
   ]
  },
  {
   "cell_type": "code",
   "execution_count": 5,
   "metadata": {},
   "outputs": [
    {
     "data": {
      "text/plain": [
       "(2217, 8)"
      ]
     },
     "execution_count": 5,
     "metadata": {},
     "output_type": "execute_result"
    }
   ],
   "source": [
    "quadratic_instruments = pyblp.build_differentiation_instruments(\n",
    "    formulation, \n",
    "    product_data,\n",
    "    version='quadratic'\n",
    ")\n",
    "quadratic_instruments.shape"
   ]
  },
  {
   "cell_type": "markdown",
   "metadata": {},
   "source": [
    "We could also use `interact=True` to include interaction terms in either version of instruments, which would help capture covariances between different product characteristics."
   ]
  }
 ],
 "metadata": {
  "kernelspec": {
   "display_name": "Python 3",
   "language": "python",
   "name": "python3"
  },
  "language_info": {
   "codemirror_mode": {
    "name": "ipython",
    "version": 3
   },
   "file_extension": ".py",
   "mimetype": "text/x-python",
   "name": "python",
   "nbconvert_exporter": "python",
   "pygments_lexer": "ipython3",
   "version": "3.7.3"
  }
 },
 "nbformat": 4,
 "nbformat_minor": 2
}
