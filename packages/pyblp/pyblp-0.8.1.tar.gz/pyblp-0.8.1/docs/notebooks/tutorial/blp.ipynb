{
 "cells": [
  {
   "cell_type": "markdown",
   "metadata": {},
   "source": [
    "# Random Coefficients Logit Tutorial with the Automobile Data"
   ]
  },
  {
   "cell_type": "code",
   "execution_count": 1,
   "metadata": {},
   "outputs": [
    {
     "data": {
      "text/plain": [
       "'0.8.1'"
      ]
     },
     "execution_count": 1,
     "metadata": {},
     "output_type": "execute_result"
    }
   ],
   "source": [
    "import pyblp\n",
    "import numpy as np\n",
    "import pandas as pd \n",
    "\n",
    "pyblp.options.digits = 2\n",
    "pyblp.options.verbose = False\n",
    "pyblp.__version__"
   ]
  },
  {
   "cell_type": "markdown",
   "metadata": {},
   "source": [
    "In this tutorial, we'll use data from :ref:`references:Berry, Levinsohn, and Pakes (1995)` to solve the paper's automobile problem.\n",
    "\n",
    "\n",
    "## Application of Random Coefficients Logit with the Automobile Data\n",
    "\n",
    "This tutorial is similar to the [fake cereal tutorial](nevo.ipynb), but exhibits some other features of pyblp:\n",
    "\n",
    "- Incorporating a supply side into demand estimation.\n",
    "- Allowing for simple price-income demographic effects.\n",
    "- Calculating clustered standard errors.\n",
    "\n",
    "\n",
    "### Loading the Data\n",
    "\n",
    "We'll use [pandas](https://pandas.pydata.org/) to load two sets of data:\n",
    "\n",
    "1. `product_data`, which contains prices, shares, and other product characteristics.\n",
    "2. `agent_data`, which contains draws from the distribution of heterogeneity."
   ]
  },
  {
   "cell_type": "code",
   "execution_count": 2,
   "metadata": {},
   "outputs": [
    {
     "data": {
      "text/html": [
       "<div>\n",
       "<style scoped>\n",
       "    .dataframe tbody tr th:only-of-type {\n",
       "        vertical-align: middle;\n",
       "    }\n",
       "\n",
       "    .dataframe tbody tr th {\n",
       "        vertical-align: top;\n",
       "    }\n",
       "\n",
       "    .dataframe thead th {\n",
       "        text-align: right;\n",
       "    }\n",
       "</style>\n",
       "<table border=\"1\" class=\"dataframe\">\n",
       "  <thead>\n",
       "    <tr style=\"text-align: right;\">\n",
       "      <th></th>\n",
       "      <th>market_ids</th>\n",
       "      <th>clustering_ids</th>\n",
       "      <th>car_ids</th>\n",
       "      <th>firm_ids</th>\n",
       "      <th>region</th>\n",
       "      <th>shares</th>\n",
       "      <th>prices</th>\n",
       "      <th>hpwt</th>\n",
       "      <th>air</th>\n",
       "      <th>mpd</th>\n",
       "      <th>...</th>\n",
       "      <th>supply_instruments11</th>\n",
       "      <th>supply_instruments12</th>\n",
       "      <th>supply_instruments13</th>\n",
       "      <th>supply_instruments14</th>\n",
       "      <th>supply_instruments15</th>\n",
       "      <th>supply_instruments16</th>\n",
       "      <th>supply_instruments17</th>\n",
       "      <th>supply_instruments18</th>\n",
       "      <th>supply_instruments19</th>\n",
       "      <th>supply_instruments20</th>\n",
       "    </tr>\n",
       "  </thead>\n",
       "  <tbody>\n",
       "    <tr>\n",
       "      <td>0</td>\n",
       "      <td>1971</td>\n",
       "      <td>AMGREM71</td>\n",
       "      <td>129</td>\n",
       "      <td>15</td>\n",
       "      <td>US</td>\n",
       "      <td>0.001051</td>\n",
       "      <td>4.935802</td>\n",
       "      <td>0.528997</td>\n",
       "      <td>0</td>\n",
       "      <td>1.888146</td>\n",
       "      <td>...</td>\n",
       "      <td>2.024221</td>\n",
       "      <td>-0.251338</td>\n",
       "      <td>0.741272</td>\n",
       "      <td>0.820281</td>\n",
       "      <td>3.691881</td>\n",
       "      <td>0.566070</td>\n",
       "      <td>-2.328128</td>\n",
       "      <td>0.385197</td>\n",
       "      <td>0.648526</td>\n",
       "      <td>1.052606</td>\n",
       "    </tr>\n",
       "    <tr>\n",
       "      <td>1</td>\n",
       "      <td>1971</td>\n",
       "      <td>AMHORN71</td>\n",
       "      <td>130</td>\n",
       "      <td>15</td>\n",
       "      <td>US</td>\n",
       "      <td>0.000670</td>\n",
       "      <td>5.516049</td>\n",
       "      <td>0.494324</td>\n",
       "      <td>0</td>\n",
       "      <td>1.935989</td>\n",
       "      <td>...</td>\n",
       "      <td>2.026706</td>\n",
       "      <td>-0.205305</td>\n",
       "      <td>0.675468</td>\n",
       "      <td>1.004707</td>\n",
       "      <td>3.628727</td>\n",
       "      <td>0.605683</td>\n",
       "      <td>-2.268975</td>\n",
       "      <td>0.363954</td>\n",
       "      <td>0.643205</td>\n",
       "      <td>0.906429</td>\n",
       "    </tr>\n",
       "    <tr>\n",
       "      <td>2</td>\n",
       "      <td>1971</td>\n",
       "      <td>AMJAVL71</td>\n",
       "      <td>132</td>\n",
       "      <td>15</td>\n",
       "      <td>US</td>\n",
       "      <td>0.000341</td>\n",
       "      <td>7.108642</td>\n",
       "      <td>0.467613</td>\n",
       "      <td>0</td>\n",
       "      <td>1.716799</td>\n",
       "      <td>...</td>\n",
       "      <td>1.882594</td>\n",
       "      <td>-0.417634</td>\n",
       "      <td>0.946640</td>\n",
       "      <td>0.429942</td>\n",
       "      <td>4.001801</td>\n",
       "      <td>0.253461</td>\n",
       "      <td>-2.581003</td>\n",
       "      <td>-0.113763</td>\n",
       "      <td>0.770387</td>\n",
       "      <td>1.511333</td>\n",
       "    </tr>\n",
       "    <tr>\n",
       "      <td>3</td>\n",
       "      <td>1971</td>\n",
       "      <td>AMMATA71</td>\n",
       "      <td>134</td>\n",
       "      <td>15</td>\n",
       "      <td>US</td>\n",
       "      <td>0.000522</td>\n",
       "      <td>6.839506</td>\n",
       "      <td>0.426540</td>\n",
       "      <td>0</td>\n",
       "      <td>1.687871</td>\n",
       "      <td>...</td>\n",
       "      <td>1.846079</td>\n",
       "      <td>-0.445630</td>\n",
       "      <td>0.982922</td>\n",
       "      <td>0.392283</td>\n",
       "      <td>4.061161</td>\n",
       "      <td>0.183331</td>\n",
       "      <td>-2.626074</td>\n",
       "      <td>-0.253065</td>\n",
       "      <td>0.802037</td>\n",
       "      <td>1.583208</td>\n",
       "    </tr>\n",
       "    <tr>\n",
       "      <td>4</td>\n",
       "      <td>1971</td>\n",
       "      <td>AMAMBS71</td>\n",
       "      <td>136</td>\n",
       "      <td>15</td>\n",
       "      <td>US</td>\n",
       "      <td>0.000442</td>\n",
       "      <td>8.928395</td>\n",
       "      <td>0.452489</td>\n",
       "      <td>0</td>\n",
       "      <td>1.504286</td>\n",
       "      <td>...</td>\n",
       "      <td>1.760927</td>\n",
       "      <td>-0.610203</td>\n",
       "      <td>1.201745</td>\n",
       "      <td>-0.085373</td>\n",
       "      <td>4.340853</td>\n",
       "      <td>-0.043107</td>\n",
       "      <td>-2.785686</td>\n",
       "      <td>-0.556135</td>\n",
       "      <td>0.931611</td>\n",
       "      <td>2.177230</td>\n",
       "    </tr>\n",
       "  </tbody>\n",
       "</table>\n",
       "<p>5 rows × 47 columns</p>\n",
       "</div>"
      ],
      "text/plain": [
       "   market_ids clustering_ids  car_ids  firm_ids region    shares    prices  \\\n",
       "0        1971       AMGREM71      129        15     US  0.001051  4.935802   \n",
       "1        1971       AMHORN71      130        15     US  0.000670  5.516049   \n",
       "2        1971       AMJAVL71      132        15     US  0.000341  7.108642   \n",
       "3        1971       AMMATA71      134        15     US  0.000522  6.839506   \n",
       "4        1971       AMAMBS71      136        15     US  0.000442  8.928395   \n",
       "\n",
       "       hpwt  air       mpd  ...  supply_instruments11  supply_instruments12  \\\n",
       "0  0.528997    0  1.888146  ...              2.024221             -0.251338   \n",
       "1  0.494324    0  1.935989  ...              2.026706             -0.205305   \n",
       "2  0.467613    0  1.716799  ...              1.882594             -0.417634   \n",
       "3  0.426540    0  1.687871  ...              1.846079             -0.445630   \n",
       "4  0.452489    0  1.504286  ...              1.760927             -0.610203   \n",
       "\n",
       "   supply_instruments13  supply_instruments14  supply_instruments15  \\\n",
       "0              0.741272              0.820281              3.691881   \n",
       "1              0.675468              1.004707              3.628727   \n",
       "2              0.946640              0.429942              4.001801   \n",
       "3              0.982922              0.392283              4.061161   \n",
       "4              1.201745             -0.085373              4.340853   \n",
       "\n",
       "   supply_instruments16  supply_instruments17  supply_instruments18  \\\n",
       "0              0.566070             -2.328128              0.385197   \n",
       "1              0.605683             -2.268975              0.363954   \n",
       "2              0.253461             -2.581003             -0.113763   \n",
       "3              0.183331             -2.626074             -0.253065   \n",
       "4             -0.043107             -2.785686             -0.556135   \n",
       "\n",
       "   supply_instruments19  supply_instruments20  \n",
       "0              0.648526              1.052606  \n",
       "1              0.643205              0.906429  \n",
       "2              0.770387              1.511333  \n",
       "3              0.802037              1.583208  \n",
       "4              0.931611              2.177230  \n",
       "\n",
       "[5 rows x 47 columns]"
      ]
     },
     "execution_count": 2,
     "metadata": {},
     "output_type": "execute_result"
    }
   ],
   "source": [
    "product_data = pd.read_csv(pyblp.data.BLP_PRODUCTS_LOCATION)\n",
    "product_data.head()"
   ]
  },
  {
   "cell_type": "markdown",
   "metadata": {},
   "source": [
    "The `product_data` contains market IDs, product IDs, firm IDs, shares, prices, a number of product characteristics, and some pre-computed excluded instruments constructed with principal component analysis. The product IDs are called `clustering_ids` because they will be used to compute clustered standard errors. For more information about the instruments and the example data as a whole, refer to the :mod:`data` module.\n",
    "\n",
    "The `agent_data` contains market IDs, integration weights $w_{it}$, integration nodes $\\nu_{it}$, and demographics $d_{it}$. Here we use $I_t = 200$ equally weighted Monte Carlo draws per market.\n",
    "\n",
    "In non-example problems, it is usually a better idea to use many more draws, or a more sophisticated :class:`Integration` configuration such as sparse grid quadrature."
   ]
  },
  {
   "cell_type": "code",
   "execution_count": 3,
   "metadata": {},
   "outputs": [
    {
     "data": {
      "text/html": [
       "<div>\n",
       "<style scoped>\n",
       "    .dataframe tbody tr th:only-of-type {\n",
       "        vertical-align: middle;\n",
       "    }\n",
       "\n",
       "    .dataframe tbody tr th {\n",
       "        vertical-align: top;\n",
       "    }\n",
       "\n",
       "    .dataframe thead th {\n",
       "        text-align: right;\n",
       "    }\n",
       "</style>\n",
       "<table border=\"1\" class=\"dataframe\">\n",
       "  <thead>\n",
       "    <tr style=\"text-align: right;\">\n",
       "      <th></th>\n",
       "      <th>market_ids</th>\n",
       "      <th>weights</th>\n",
       "      <th>nodes0</th>\n",
       "      <th>nodes1</th>\n",
       "      <th>nodes2</th>\n",
       "      <th>nodes3</th>\n",
       "      <th>nodes4</th>\n",
       "      <th>income</th>\n",
       "    </tr>\n",
       "  </thead>\n",
       "  <tbody>\n",
       "    <tr>\n",
       "      <td>0</td>\n",
       "      <td>1971</td>\n",
       "      <td>0.005</td>\n",
       "      <td>1.764052</td>\n",
       "      <td>0.997845</td>\n",
       "      <td>0.945508</td>\n",
       "      <td>-1.962653</td>\n",
       "      <td>0.330046</td>\n",
       "      <td>4.172843</td>\n",
       "    </tr>\n",
       "    <tr>\n",
       "      <td>1</td>\n",
       "      <td>1971</td>\n",
       "      <td>0.005</td>\n",
       "      <td>0.400157</td>\n",
       "      <td>0.260081</td>\n",
       "      <td>0.422924</td>\n",
       "      <td>-0.834032</td>\n",
       "      <td>-0.000480</td>\n",
       "      <td>112.503416</td>\n",
       "    </tr>\n",
       "    <tr>\n",
       "      <td>2</td>\n",
       "      <td>1971</td>\n",
       "      <td>0.005</td>\n",
       "      <td>0.978738</td>\n",
       "      <td>0.925066</td>\n",
       "      <td>-1.175680</td>\n",
       "      <td>1.993837</td>\n",
       "      <td>0.818116</td>\n",
       "      <td>2.221875</td>\n",
       "    </tr>\n",
       "    <tr>\n",
       "      <td>3</td>\n",
       "      <td>1971</td>\n",
       "      <td>0.005</td>\n",
       "      <td>2.240893</td>\n",
       "      <td>1.476076</td>\n",
       "      <td>-0.204851</td>\n",
       "      <td>-0.666660</td>\n",
       "      <td>0.428214</td>\n",
       "      <td>0.814499</td>\n",
       "    </tr>\n",
       "    <tr>\n",
       "      <td>4</td>\n",
       "      <td>1971</td>\n",
       "      <td>0.005</td>\n",
       "      <td>1.867558</td>\n",
       "      <td>-1.879252</td>\n",
       "      <td>0.956495</td>\n",
       "      <td>0.976290</td>\n",
       "      <td>-2.503947</td>\n",
       "      <td>13.038725</td>\n",
       "    </tr>\n",
       "  </tbody>\n",
       "</table>\n",
       "</div>"
      ],
      "text/plain": [
       "   market_ids  weights    nodes0    nodes1    nodes2    nodes3    nodes4  \\\n",
       "0        1971    0.005  1.764052  0.997845  0.945508 -1.962653  0.330046   \n",
       "1        1971    0.005  0.400157  0.260081  0.422924 -0.834032 -0.000480   \n",
       "2        1971    0.005  0.978738  0.925066 -1.175680  1.993837  0.818116   \n",
       "3        1971    0.005  2.240893  1.476076 -0.204851 -0.666660  0.428214   \n",
       "4        1971    0.005  1.867558 -1.879252  0.956495  0.976290 -2.503947   \n",
       "\n",
       "       income  \n",
       "0    4.172843  \n",
       "1  112.503416  \n",
       "2    2.221875  \n",
       "3    0.814499  \n",
       "4   13.038725  "
      ]
     },
     "execution_count": 3,
     "metadata": {},
     "output_type": "execute_result"
    }
   ],
   "source": [
    "agent_data = pd.read_csv(pyblp.data.BLP_AGENTS_LOCATION)\n",
    "agent_data.head()"
   ]
  },
  {
   "cell_type": "markdown",
   "metadata": {},
   "source": [
    "### Setting up the Problem\n",
    "\n",
    "Unlike the fake cereal problem, we won't absorb any fixed effects in the automobile problem, so the linear part of demand $X_1$ has more components. We also need to specify a formula for the random coefficients $X_2$, including a random coefficient on the constant, which captures correlation among all inside goods.\n",
    "\n",
    "The primary new addition to the model relative to the fake cereal problem is that we add a supply side formula for product characteristics that contribute to marginal costs, $X_3$. The [patsy](https://patsy.readthedocs.io/en/stable/)-style formulas support functions of regressors such as the `log` function used below.\n",
    "\n",
    "We stack the three product formulations in order: $X_1$, $X_2$, and $X_3$."
   ]
  },
  {
   "cell_type": "code",
   "execution_count": 4,
   "metadata": {},
   "outputs": [
    {
     "data": {
      "text/plain": [
       "(1 + hpwt + air + mpd + space,\n",
       " 1 + prices + hpwt + air + mpd + space,\n",
       " 1 + log(hpwt) + air + log(mpg) + log(space) + trend)"
      ]
     },
     "execution_count": 4,
     "metadata": {},
     "output_type": "execute_result"
    }
   ],
   "source": [
    "product_formulations = (\n",
    "   pyblp.Formulation('1 + hpwt + air + mpd + space'),\n",
    "   pyblp.Formulation('1 + prices + hpwt + air + mpd + space'),\n",
    "   pyblp.Formulation('1 + log(hpwt) + air + log(mpg) + log(space) + trend')\n",
    ")\n",
    "product_formulations"
   ]
  },
  {
   "cell_type": "markdown",
   "metadata": {},
   "source": [
    "The original specification for the automobile problem includes the term $\\log(y_i - p_j)$, in which $y$ is income and $p$ are prices. Instead of including this term, which gives rise to a host of numerical problems, we'll follow :ref:`references:Berry, Levinsohn, and Pakes (1999)` and use its first-order linear approximation, $p_j / y_i$. \n",
    "\n",
    "The agent formulation for demographics, $d$, includes a column of $1 / y_i$ values, which we'll interact with $p_j$. To do this, we will treat draws of $y_i$ as demographic variables."
   ]
  },
  {
   "cell_type": "code",
   "execution_count": 5,
   "metadata": {},
   "outputs": [
    {
     "data": {
      "text/plain": [
       "I(1 / income)"
      ]
     },
     "execution_count": 5,
     "metadata": {},
     "output_type": "execute_result"
    }
   ],
   "source": [
    "agent_formulation = pyblp.Formulation('0 + I(1 / income)')\n",
    "agent_formulation"
   ]
  },
  {
   "cell_type": "markdown",
   "metadata": {},
   "source": [
    "As in the cereal example, the :class:`Problem` can be constructed by combining the `product_formulations`, `product_data`, `agent_formulation`, and `agent_data`. We'll also choose the functional form of marginal costs $c_{jt}$. A linear marginal cost specification is the default setting, so we'll need to use the `costs_type` argument of :meth:`Problem` to employ the log-linear specification used by :ref:`references:Berry, Levinsohn, and Pakes (1995)`."
   ]
  },
  {
   "cell_type": "code",
   "execution_count": 6,
   "metadata": {},
   "outputs": [
    {
     "data": {
      "text/plain": [
       "Dimensions:\n",
       "=======================================================\n",
       " T    N     F    I     K1    K2    K3    D    MD    MS \n",
       "---  ----  ---  ----  ----  ----  ----  ---  ----  ----\n",
       "20   2217  26   4000   5     6     6     1    18    27 \n",
       "=======================================================\n",
       "\n",
       "Formulations:\n",
       "=====================================================================================\n",
       "       Column Indices:            0          1       2       3          4         5  \n",
       "-----------------------------  --------  ---------  ----  --------  ----------  -----\n",
       " X1: Linear Characteristics       1        hpwt     air     mpd       space          \n",
       "X2: Nonlinear Characteristics     1       prices    hpwt    air        mpd      space\n",
       "X3: Log Cost Characteristics      1      log(hpwt)  air   log(mpg)  log(space)  trend\n",
       "       d: Demographics         1/income                                              \n",
       "====================================================================================="
      ]
     },
     "execution_count": 6,
     "metadata": {},
     "output_type": "execute_result"
    }
   ],
   "source": [
    "problem = pyblp.Problem(product_formulations, product_data, agent_formulation, agent_data, costs_type='log')\n",
    "problem"
   ]
  },
  {
   "cell_type": "markdown",
   "metadata": {},
   "source": [
    "The problem outputs a table of dimensions:\n",
    "\n",
    "- $T$ denotes the number of markets.\n",
    "- $N$ is the length of the dataset (the number of products across all markets).\n",
    "- $F$ denotes the number of firms.\n",
    "- $I = \\sum_t I_t$ is the total number of agents across all markets (200 draws per market times 20 markets).\n",
    "- $K_1$ is the number of linear demand characteristics.\n",
    "- $K_2$ is the number of nonlinear demand characteristics.\n",
    "- $K_3$ is the number of linear supply characteristics.\n",
    "- $D$ is the number of demographic variables.\n",
    "- $M_D$ is the number of demand instruments, including exogenous regressors.\n",
    "- $M_S$ is the number of supply instruments, including exogenous regressors.\n",
    "\n",
    "The formulations table describes all four formulas for linear characteristics, nonlinear characteristics, cost characteristics, and demographics."
   ]
  },
  {
   "cell_type": "markdown",
   "metadata": {},
   "source": [
    "### Solving the Problem"
   ]
  },
  {
   "cell_type": "markdown",
   "metadata": {},
   "source": [
    "The only remaining decisions are:\n",
    "\n",
    "- Choosing $\\Sigma$ and $\\Pi$ starting values, $\\Sigma_0$ and $\\Pi_0$.\n",
    "- Potentially choosing bounds for $\\Sigma$ and $\\Pi$.\n",
    "\n",
    "The decisions we will use are:\n",
    "\n",
    "- Use published estimates as our starting values in $\\Sigma_0$.\n",
    "- Interact the inverse of income, $1 / y_i$, only with prices, and use the published estimate on $\\log(y_i - p_j)$ as our starting value for $\\alpha$ in $\\Pi_0$.\n",
    "- Bound $\\Sigma_0$ to be positive since it is a diagonal matrix where the diagonal consists of standard deviations.\n",
    "- Constrain the $p_j / y_i$ coefficient to be negative. Specifically, we'll use a bound that's slightly smaller than zero because when the parameter is exactly zero, there are matrix inversion problems with estimating marginal costs.\n",
    "\n",
    "When using a routine that supports bounds, :class:`Problem` chooses some default bounds. These bounds are often very wide, so it's usually a good idea to set your own more restrictive bounds."
   ]
  },
  {
   "cell_type": "code",
   "execution_count": 7,
   "metadata": {},
   "outputs": [],
   "source": [
    "initial_sigma = np.diag([3.612, 0, 4.628, 1.818, 1.050, 2.056])\n",
    "initial_pi = np.c_[[0, -43.501, 0, 0, 0, 0]]\n",
    "sigma_bounds = (\n",
    "   np.zeros_like(initial_sigma),\n",
    "   np.diag([100, 0, 100, 100, 100, 100])\n",
    ")\n",
    "pi_bounds = (\n",
    "   np.c_[[0, -100, 0, 0, 0, 0]],\n",
    "   np.c_[[0, -0.1, 0, 0, 0, 0]]\n",
    ")"
   ]
  },
  {
   "cell_type": "markdown",
   "metadata": {},
   "source": [
    "Note that there are only 5 nonzeros on the diagonal of $\\Sigma$, which means that we only need 5 columns of integration nodes to integrate over these 5 dimensions of unobserved heterogeneity. Indeed, `agent_data` contains exactly 5 columns of nodes. If we were to ignore the $\\log(y_i - p_j)$ term (by not configuring $\\Pi$) and include a term on prices in $\\Sigma$ instead, we would have needed 6 columns of integration nodes in our `agent_data`.\n",
    "\n",
    "A downside of the log-linear marginal costs specification is that nonpositive estimated marginal costs can create problems for the optimization routine when computing $\\log c(\\hat{\\theta})$. We'll use the `costs_bounds` argument to bound marginal costs from below by a small number. \n",
    "\n",
    "Finally, as in the original paper, we'll use `W_type` and `se_type` to cluster by product IDs, which were specified as `clustering_ids` in `product_data`."
   ]
  },
  {
   "cell_type": "code",
   "execution_count": 8,
   "metadata": {},
   "outputs": [
    {
     "data": {
      "text/plain": [
       "Problem Results Summary:\n",
       "==============================================================================================================\n",
       "GMM   Objective    Projected    Reduced Hessian  Reduced Hessian  Clipped  Weighting Matrix  Covariance Matrix\n",
       "Step    Value    Gradient Norm  Min Eigenvalue   Max Eigenvalue    Costs   Condition Number  Condition Number \n",
       "----  ---------  -------------  ---------------  ---------------  -------  ----------------  -----------------\n",
       " 2    +1.5E-01     +3.2E-09        +8.5E-05         +7.8E-02         2         +9.7E+05          +9.1E+07     \n",
       "==============================================================================================================\n",
       "\n",
       "Cumulative Statistics:\n",
       "================================================================\n",
       "Computation  Optimization   Objective   Fixed Point  Contraction\n",
       "   Time       Iterations   Evaluations  Iterations   Evaluations\n",
       "-----------  ------------  -----------  -----------  -----------\n",
       " 00:08:55         60           71          20751        63650   \n",
       "================================================================\n",
       "\n",
       "Nonlinear Coefficient Estimates (Robust SEs Adjusted for 999 Clusters in Parentheses):\n",
       "===================================================================================================\n",
       "Sigma:      1        prices      hpwt        air         mpd        space     |   Pi:     1/income \n",
       "------  ----------  --------  ----------  ----------  ----------  ----------  |  ------  ----------\n",
       "  1      +6.0E+00                                                             |    1      +0.0E+00 \n",
       "        (+8.0E-01)                                                            |                    \n",
       "                                                                              |                    \n",
       "prices   +0.0E+00   +0.0E+00                                                  |  prices   -5.6E+01 \n",
       "                                                                              |          (+4.9E+00)\n",
       "                                                                              |                    \n",
       " hpwt    +0.0E+00   +0.0E+00   +3.2E+00                                       |   hpwt    +0.0E+00 \n",
       "                              (+1.2E+00)                                      |                    \n",
       "                                                                              |                    \n",
       " air     +0.0E+00   +0.0E+00   +0.0E+00    +8.1E-01                           |   air     +0.0E+00 \n",
       "                                          (+6.5E-01)                          |                    \n",
       "                                                                              |                    \n",
       " mpd     +0.0E+00   +0.0E+00   +0.0E+00    +0.0E+00    +3.0E+00               |   mpd     +0.0E+00 \n",
       "                                                      (+3.1E-01)              |                    \n",
       "                                                                              |                    \n",
       "space    +0.0E+00   +0.0E+00   +0.0E+00    +0.0E+00    +0.0E+00    +3.7E-01   |  space    +0.0E+00 \n",
       "                                                                  (+2.3E-01)  |                    \n",
       "===================================================================================================\n",
       "\n",
       "Beta Estimates (Robust SEs Adjusted for 999 Clusters in Parentheses):\n",
       "==========================================================\n",
       "    1          hpwt        air         mpd        space   \n",
       "----------  ----------  ----------  ----------  ----------\n",
       " -7.1E+00    +8.2E+00    +2.0E+00    -1.9E+00    +5.4E+00 \n",
       "(+9.1E-01)  (+1.2E+00)  (+2.6E-01)  (+3.6E-01)  (+4.7E-01)\n",
       "==========================================================\n",
       "\n",
       "Gamma Estimates (Robust SEs Adjusted for 999 Clusters in Parentheses):\n",
       "======================================================================\n",
       "    1       log(hpwt)      air       log(mpg)   log(space)    trend   \n",
       "----------  ----------  ----------  ----------  ----------  ----------\n",
       " +2.4E+00    +6.0E-01    +5.4E-01    -2.0E-01    +5.6E-02    +1.2E-02 \n",
       "(+9.6E-02)  (+5.9E-02)  (+4.5E-02)  (+6.1E-02)  (+9.6E-02)  (+1.6E-03)\n",
       "======================================================================"
      ]
     },
     "execution_count": 8,
     "metadata": {},
     "output_type": "execute_result"
    }
   ],
   "source": [
    "results = problem.solve(\n",
    "    initial_sigma,\n",
    "    initial_pi,\n",
    "    sigma_bounds=sigma_bounds,\n",
    "    pi_bounds=pi_bounds,\n",
    "    costs_bounds=(0.001, None),\n",
    "    W_type='clustered',\n",
    "    se_type='clustered'\n",
    ")\n",
    "results"
   ]
  },
  {
   "cell_type": "markdown",
   "metadata": {},
   "source": [
    "There are some discrepancies between our results and the original paper. Our instruments are different, we use different agent data, and the first-order linear approximation to the $\\ln(y_i - p_j)$ term is different as well."
   ]
  }
 ],
 "metadata": {
  "kernelspec": {
   "display_name": "Python 3",
   "language": "python",
   "name": "python3"
  },
  "language_info": {
   "codemirror_mode": {
    "name": "ipython",
    "version": 3
   },
   "file_extension": ".py",
   "mimetype": "text/x-python",
   "name": "python",
   "nbconvert_exporter": "python",
   "pygments_lexer": "ipython3",
   "version": "3.7.3"
  }
 },
 "nbformat": 4,
 "nbformat_minor": 2
}
