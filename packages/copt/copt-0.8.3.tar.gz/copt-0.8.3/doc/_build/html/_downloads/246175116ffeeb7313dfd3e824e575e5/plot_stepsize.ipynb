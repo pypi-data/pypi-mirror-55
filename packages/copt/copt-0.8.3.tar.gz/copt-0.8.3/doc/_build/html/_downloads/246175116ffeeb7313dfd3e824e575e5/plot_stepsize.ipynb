{
  "cells": [
    {
      "cell_type": "code",
      "execution_count": null,
      "metadata": {
        "collapsed": false
      },
      "outputs": [],
      "source": [
        "%matplotlib inline"
      ]
    },
    {
      "cell_type": "markdown",
      "metadata": {},
      "source": [
        "\nComparison of different step-sizes in Frank-Wolfe\n=================================================\n\nSpeed of convergence of different step-size strategies\nand on 4 different classification datasets.\n"
      ]
    },
    {
      "cell_type": "code",
      "execution_count": null,
      "metadata": {
        "collapsed": false
      },
      "outputs": [],
      "source": [
        "import copt as cp\nimport matplotlib.pylab as plt\nimport numpy as np\n\n# .. datasets and their loading functions ..\ndatasets = [\n    (\"Gisette\", cp.datasets.load_gisette),\n    (\"RCV1\", cp.datasets.load_rcv1),\n    (\"Madelon\", cp.datasets.load_madelon),\n    (\"Covtype\", cp.datasets.load_covtype)\n    ]\n\nvariants_fw = [\n    [\"adaptive\", \"adaptive step-size\", \"s\"],\n    [\"adaptive2\", \"scipy linesearch step-size\", \"^\"],\n    [\"adaptive2+\", \"linesearch+ step-size\", \"s\"],\n    [\"adaptive3\", \"adaptive3 step-size\", \"+\"],\n    [\"adaptive4\", \"adaptive4 step-size\", \"x\"],\n    [\"adaptive5\", \"adaptive5 step-size\", \">\"],\n    [\"DR\", \"Lipschitz step-size\", \"<\"]]\n\nfor dataset_title, load_data in datasets:\n  plt.figure()\n  print(\"Running on the %s dataset\" % dataset_title)\n\n  X, y = load_data()\n  n_samples, n_features = X.shape\n\n  # the size of the constraint set. We set it to\n  # (for example) n_features / 2\n  l1_ball = cp.utils.L1Ball(n_features / 2.)\n  f = cp.utils.LogLoss(X, y)\n  x0 = np.zeros(n_features)\n\n  for step_size, label, marker in variants_fw:\n\n    cb = cp.utils.Trace(f)\n    cp.minimize_frank_wolfe(\n        f.f_grad,\n        x0,\n        l1_ball.lmo,\n        callback=cb,\n        step_size=step_size,\n        lipschitz=f.lipschitz,\n        max_iter=1000\n    )\n\n    plt.plot(cb.trace_time, cb.trace_fx, label=label, marker=marker,\n             markevery=10)\n  plt.legend()\n  plt.xlabel(\"Time (in seconds)\")\n  plt.ylabel(\"Objective function\")\n  plt.title(dataset_title)\n  plt.tight_layout()  # otherwise the right y-label is slightly clipped\n  plt.xlim((0, 0.7 * cb.trace_time[-1]))  # for aesthetics\n  plt.grid()\n  plt.show()"
      ]
    }
  ],
  "metadata": {
    "kernelspec": {
      "display_name": "Python 3",
      "language": "python",
      "name": "python3"
    },
    "language_info": {
      "codemirror_mode": {
        "name": "ipython",
        "version": 3
      },
      "file_extension": ".py",
      "mimetype": "text/x-python",
      "name": "python",
      "nbconvert_exporter": "python",
      "pygments_lexer": "ipython3",
      "version": "3.7.0"
    }
  },
  "nbformat": 4,
  "nbformat_minor": 0
}