{
  "cells": [
    {
      "cell_type": "code",
      "execution_count": null,
      "metadata": {
        "collapsed": false
      },
      "outputs": [],
      "source": [
        "%matplotlib inline"
      ]
    },
    {
      "cell_type": "markdown",
      "metadata": {},
      "source": [
        "\nSAGA vs SVRG\n===========================================\n\nA comparison between two variance-reduced stochastic gradient methods:\nSAGA (implemented in :func:`copt.minimize_saga`) and SVRG (implemented in\n:func:`copt.minimize_svrg`). The problem solved in this case is the sum of a\nlogistic regression and an L1 norm (sometimes referred to as sparse logistic)\n"
      ]
    },
    {
      "cell_type": "code",
      "execution_count": null,
      "metadata": {
        "collapsed": false
      },
      "outputs": [],
      "source": [
        "import copt as cp\nimport numpy as np\nimport pylab as plt\n\n# .. construct (random) dataset ..\nn_samples, n_features = 1000, 200\nnp.random.seed(0)\nX = np.random.randn(n_samples, n_features)\ny = np.random.rand(n_samples)\n\n# .. objective function and regularizer ..\nf = cp.utils.LogLoss(X, y)\ng = cp.utils.L1Norm(1./n_samples)\n\n# .. callbacks to track progress ..\ncb_saga = cp.utils.Trace(lambda x: f(x) + g(x))\ncb_svrg = cp.utils.Trace(lambda x: f(x) + g(x))\n\n# .. run the SAGA and SVRG algorithms ..\nstep_size = 1. / (3 * f.max_lipschitz)\nresult_saga = cp.minimize_saga(\n    f.partial_deriv, X, y, np.zeros(n_features),\n    prox=g.prox_factory(n_features), step_size=step_size, callback=cb_saga,\n    tol=0, max_iter=100)\n\nresult_svrg = cp.minimize_svrg(\n    f.partial_deriv, X, y, np.zeros(n_features),\n    prox=g.prox_factory(n_features), step_size=step_size,\n    callback=cb_svrg, tol=0, max_iter=100)\n\n\n# .. plot the result ..\nfmin = min(np.min(cb_saga.trace_fx), np.min(cb_svrg.trace_fx))\nplt.title('Comparison of full gradient optimizers')\nplt.plot(cb_saga.trace_fx - fmin, lw=4,\n         label='SAGA')\n# .. for SVRG we multiply the number of iterations by two to ..\n# .. account for computation of the snapshot gradient ..\nplt.plot(2 * np.arange(len(cb_svrg.trace_fx)), cb_svrg.trace_fx - fmin, lw=4,\n         label='SVRG')\nplt.ylabel('Function suboptimality', fontweight='bold')\nplt.xlabel('number of gradient evaluations', fontweight='bold')\nplt.yscale('log')\nplt.ylim(ymin=1e-16)\nplt.xlim((0, 50))\nplt.legend()\nplt.grid()\nplt.show()"
      ]
    }
  ],
  "metadata": {
    "kernelspec": {
      "display_name": "Python 3",
      "language": "python",
      "name": "python3"
    },
    "language_info": {
      "codemirror_mode": {
        "name": "ipython",
        "version": 3
      },
      "file_extension": ".py",
      "mimetype": "text/x-python",
      "name": "python",
      "nbconvert_exporter": "python",
      "pygments_lexer": "ipython3",
      "version": "3.7.0"
    }
  },
  "nbformat": 4,
  "nbformat_minor": 0
}