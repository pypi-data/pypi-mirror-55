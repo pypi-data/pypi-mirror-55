{
 "cells": [
  {
   "cell_type": "markdown",
   "metadata": {},
   "source": [
    "## HD 2039\n",
    "\n",
    "Radial velocity data for HD2039 were obtained from \n",
    "[Tinney et al.(2003)](./references.md).\n",
    "\n",
    "\n",
    "Author: Do Kester\n"
   ]
  },
  {
   "cell_type": "markdown",
   "metadata": {},
   "source": [
    "We need to import some classes"
   ]
  },
  {
   "cell_type": "code",
   "execution_count": 1,
   "metadata": {},
   "outputs": [],
   "source": [
    "import numpy as numpy\n",
    "import math\n",
    "\n",
    "from astropy.io import ascii\n",
    "from BayesicFitting import RadialVelocityModel\n",
    "from BayesicFitting import PolynomialModel\n",
    "from BayesicFitting import CircularUniformPrior\n",
    "\n",
    "from BayesicFitting import NestedSampler\n",
    "from BayesicFitting import formatter as fmt\n",
    "from BayesicFitting import plotFit\n",
    "from BayesicFitting import Tools\n",
    "import matplotlib.pyplot as plt\n",
    "\n"
   ]
  },
  {
   "cell_type": "code",
   "execution_count": 2,
   "metadata": {},
   "outputs": [],
   "source": [
    "#%matplotlib osx"
   ]
  },
  {
   "cell_type": "markdown",
   "metadata": {},
   "source": [
    "Read the data"
   ]
  },
  {
   "cell_type": "code",
   "execution_count": 3,
   "metadata": {},
   "outputs": [],
   "source": [
    "tbl = ascii.read( \"data/HD2039-Tinney.dat\" )\n",
    "#print( tbl )\n",
    "jd = tbl['JDa'].data\n",
    "rv = tbl['RVa'].data\n",
    "er = tbl['Uncertainty'].data\n",
    "wgt = 100.0 / numpy.square( er )"
   ]
  },
  {
   "cell_type": "markdown",
   "metadata": {},
   "source": [
    "We define a radial velocity model. It has 5 parameters: eccentricity, amplitude, period, phase of periastron, longitude of periastron.\n",
    "The phase parameters both get a CircularUniformPrior.\n",
    "We need to add a constant for the systemic velocity of the system."
   ]
  },
  {
   "cell_type": "code",
   "execution_count": 4,
   "metadata": {},
   "outputs": [
    {
     "name": "stdout",
     "output_type": "stream",
     "text": [
      "Polynomial: f( x:p ) = p_0 +\n",
      "RadialVelocity \n"
     ]
    }
   ],
   "source": [
    "twopi = 2 * math.pi\n",
    "rvm = RadialVelocityModel( )\n",
    "lolim = [0.0, 0.0, 1000.0]\n",
    "hilim = [0.9, 200.0, 1500.0]\n",
    "rvm.setLimits( lowLimits=lolim, highLimits=hilim )\n",
    "rvm.setPrior( 3, prior=CircularUniformPrior(), limits=[0,twopi] )\n",
    "rvm.setPrior( 4, prior=CircularUniformPrior(), limits=[0,twopi] )\n",
    "#Tools.printclass( rvm )\n",
    "pm = PolynomialModel( 0 )\n",
    "pm.setLimits( lowLimits=[0], highLimits=[200] )\n",
    "#sm *= hm\n",
    "mdl = pm + rvm\n",
    "print( mdl )\n"
   ]
  },
  {
   "cell_type": "code",
   "execution_count": 5,
   "metadata": {},
   "outputs": [
    {
     "name": "stdout",
     "output_type": "stream",
     "text": [
      "Fit all parameters of\n",
      "  Polynomial: f( x:p ) = p_0 +\n",
      "  RadialVelocity \n",
      "Using a Gauss error distribution with with unknown scale\n",
      "Moving the walkers with   GalileanEngine  ChordEngine\n",
      ">>>>>>>>>>>>>>>>>>>>>>>>>>>>>>>>>>>>>>>>>>>>>>>>>>\n",
      ">>>>>>>>>>>>>>>>>>>>>>>>>>>>>>>>>>>>>>>>>>>>>>>>>>\n",
      ">>>>>>>>>>>>>>>>>>>>>>>>>>>>>>>>>>>>>>>>>>>>>>>>>>\n",
      ">>>>\n",
      "Iteration   logZ        H     LowL     npar    parameters\n",
      "   15325   -127.6     15.3   -108.9      7  [    8.865    0.749  185.248 1186.927    5.406    5.880   11.844]\n",
      "Engines              success     reject     failed       best      calls\n",
      "GalileanEngine         97119      30365      40613         24      15325\n",
      "ChordEngine           107375     225445          0         23      15325\n",
      "Calls to LogL         500917   to dLogL      30365\n",
      "Samples       15825\n",
      "Evidence       -55.431 +-      0.076\n"
     ]
    },
    {
     "data": {
      "image/png": "[encoded data removed]",
      "text/plain": [
       "<Figure size 432x288 with 2 Axes>"
      ]
     },
     "metadata": {
      "needs_background": "light"
     },
     "output_type": "display_data"
    }
   ],
   "source": [
    "# define NestedSampler\n",
    "ns = NestedSampler( jd, mdl, rv, weights=wgt, seed=1301 )\n",
    "ns.ensemble = 500\n",
    "# set limits on the noise scale of the distribution\n",
    "ns.distribution.setLimits( [0.01,100] )\n",
    "\n",
    "# run NestedSampler\n",
    "evi = ns.sample( plot=True )\n"
   ]
  },
  {
   "cell_type": "markdown",
   "metadata": {},
   "source": [
    "The figure above is not so nice because it plotted only at measured points. They are relatively sparse and unequally spaced.\n",
    "Try it with a model defined by more (equally spaced) data."
   ]
  },
  {
   "cell_type": "code",
   "execution_count": 6,
   "metadata": {},
   "outputs": [
    {
     "name": "stdout",
     "output_type": "stream",
     "text": [
      "            offset   eccentr   amplit   period    phase    time \n",
      "params   [    6.540    0.730  164.985 1182.786    5.442    5.843]\n",
      "stdevs   [    3.650    0.046   22.699   38.771    0.196    0.074]\n",
      "params   [    6.540    0.730  164.985 1182.786  311.784  153.435]\n",
      "stdevs   [    3.650    0.046   22.699   38.771   11.219    1.944]\n",
      "scale       14.190  +-     2.054\n",
      "evidence   -55.431\n"
     ]
    }
   ],
   "source": [
    "sl = ns.samples\n",
    "par = sl.parameters\n",
    "std = sl.stdevs\n",
    "print( \"            offset   eccentr   amplit   period    phase    time \")\n",
    "print( \"params  \", fmt( par, max=None ) )\n",
    "print( \"stdevs  \", fmt( std, max=None ) )\n",
    "pal = par.copy()\n",
    "stl = std.copy()\n",
    "pal[4] *= 180 / math.pi\n",
    "pal[5] *= 0.5 * pal[2] / math.pi\n",
    "stl[4] *= 180 / math.pi\n",
    "stl[5] *= 0.5 * pal[2] / math.pi\n",
    "print( \"params  \", fmt( pal, max=None ) )\n",
    "print( \"stdevs  \", fmt( stl, max=None ) )\n",
    "print( \"scale   \", fmt( sl.scale ), \" +-\", fmt( sl.stdevScale ) )\n",
    "print( \"evidence\", fmt( evi ) )"
   ]
  },
  {
   "cell_type": "code",
   "execution_count": 7,
   "metadata": {},
   "outputs": [
    {
     "data": {
      "image/png": "[encoded data removed]",
      "text/plain": [
       "<Figure size 432x288 with 1 Axes>"
      ]
     },
     "metadata": {
      "needs_background": "light"
     },
     "output_type": "display_data"
    }
   ],
   "source": [
    "plt.plot( jd, rv, 'k. ' )\n",
    "xx = numpy.linspace( 100, 1500, 1401, dtype=float )\n",
    "plt.plot( xx, mdl.result( xx, par ), 'r-' )\n",
    "plt.xlabel( \"JulianDays (-2451000)\")\n",
    "plt.ylabel( \"Radial Velocity\")\n",
    "plt.title( \"HD2039\" )\n",
    "plt.show()"
   ]
  },
  {
   "cell_type": "code",
   "execution_count": null,
   "metadata": {},
   "outputs": [],
   "source": []
  }
 ],
 "metadata": {
  "anaconda-cloud": {},
  "kernelspec": {
   "display_name": "Python 3",
   "language": "python",
   "name": "python3"
  },
  "language_info": {
   "codemirror_mode": {
    "name": "ipython",
    "version": 3
   },
   "file_extension": ".py",
   "mimetype": "text/x-python",
   "name": "python",
   "nbconvert_exporter": "python",
   "pygments_lexer": "ipython3",
   "version": "3.6.8"
  }
 },
 "nbformat": 4,
 "nbformat_minor": 1
}
